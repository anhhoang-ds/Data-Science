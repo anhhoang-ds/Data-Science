{
 "cells": [
  {
   "cell_type": "code",
   "execution_count": 3,
   "metadata": {},
   "outputs": [],
   "source": [
    "# works\n",
    "def two_sum(x,y):\n",
    "    for i in range(len(x)):\n",
    "        for j in range(i):\n",
    "            if (x[i] + x[j] == y):\n",
    "                return [i,j]"
   ]
  },
  {
   "cell_type": "code",
   "execution_count": 4,
   "metadata": {},
   "outputs": [
    {
     "data": {
      "text/plain": [
       "[1, 0]"
      ]
     },
     "execution_count": 4,
     "metadata": {},
     "output_type": "execute_result"
    }
   ],
   "source": [
    "test = [2,7,11,15]\n",
    "two_sum(test, 9)"
   ]
  },
  {
   "cell_type": "code",
   "execution_count": 5,
   "metadata": {},
   "outputs": [],
   "source": [
    "test = [\"flower\",\"flow\",\"flight\"]"
   ]
  },
  {
   "cell_type": "code",
   "execution_count": 21,
   "metadata": {},
   "outputs": [],
   "source": [
    "# not working\n",
    "def prefix(x):\n",
    "    pre = \"\"\n",
    "    word = x[0]\n",
    "    for i in range(len(word)):\n",
    "        for j in x:\n",
    "            ind = True\n",
    "            if pre not in j:\n",
    "                ind = False\n",
    "        if ind == True:\n",
    "            pre = pre + word[i]\n",
    "        else: return pre\n",
    "    return pre"
   ]
  },
  {
   "cell_type": "code",
   "execution_count": 6,
   "metadata": {},
   "outputs": [
    {
     "data": {
      "text/plain": [
       "6"
      ]
     },
     "execution_count": 6,
     "metadata": {},
     "output_type": "execute_result"
    }
   ],
   "source": [
    "len(\"flower\")"
   ]
  },
  {
   "cell_type": "code",
   "execution_count": 7,
   "metadata": {},
   "outputs": [
    {
     "data": {
      "text/plain": [
       "True"
      ]
     },
     "execution_count": 7,
     "metadata": {},
     "output_type": "execute_result"
    }
   ],
   "source": [
    "\"fl\" in \"flower\""
   ]
  },
  {
   "cell_type": "code",
   "execution_count": 22,
   "metadata": {
    "scrolled": true
   },
   "outputs": [
    {
     "data": {
      "text/plain": [
       "'flo'"
      ]
     },
     "execution_count": 22,
     "metadata": {},
     "output_type": "execute_result"
    }
   ],
   "source": [
    "prefix(test)"
   ]
  },
  {
   "cell_type": "code",
   "execution_count": 15,
   "metadata": {},
   "outputs": [
    {
     "data": {
      "text/plain": [
       "'f'"
      ]
     },
     "execution_count": 15,
     "metadata": {},
     "output_type": "execute_result"
    }
   ],
   "source": [
    "test1 = \"flower\"\n",
    "test1[0:1]"
   ]
  },
  {
   "cell_type": "code",
   "execution_count": 39,
   "metadata": {},
   "outputs": [],
   "source": [
    "# this one works\n",
    "def searchinsert(nums,target):\n",
    "    pos = 0\n",
    "    for i in nums:\n",
    "        if i >= target: return nums.index(i)\n",
    "        else:\n",
    "            if (i!= nums[-1]):\n",
    "                pass\n",
    "            else:\n",
    "                return len(nums)"
   ]
  },
  {
   "cell_type": "code",
   "execution_count": 26,
   "metadata": {},
   "outputs": [],
   "source": [
    "test = [1,3,5,6]"
   ]
  },
  {
   "cell_type": "code",
   "execution_count": 24,
   "metadata": {},
   "outputs": [
    {
     "data": {
      "text/plain": [
       "1"
      ]
     },
     "execution_count": 24,
     "metadata": {},
     "output_type": "execute_result"
    }
   ],
   "source": [
    "test.index(3)"
   ]
  },
  {
   "cell_type": "code",
   "execution_count": 40,
   "metadata": {},
   "outputs": [
    {
     "data": {
      "text/plain": [
       "4"
      ]
     },
     "execution_count": 40,
     "metadata": {},
     "output_type": "execute_result"
    }
   ],
   "source": [
    "searchinsert(test,7)"
   ]
  },
  {
   "cell_type": "code",
   "execution_count": 41,
   "metadata": {},
   "outputs": [],
   "source": [
    "test = \"()[]{}\""
   ]
  },
  {
   "cell_type": "code",
   "execution_count": 42,
   "metadata": {},
   "outputs": [
    {
     "data": {
      "text/plain": [
       "'['"
      ]
     },
     "execution_count": 42,
     "metadata": {},
     "output_type": "execute_result"
    }
   ],
   "source": [
    "test[2]"
   ]
  },
  {
   "cell_type": "code",
   "execution_count": null,
   "metadata": {},
   "outputs": [],
   "source": [
    "# not working\n",
    "def isValid(s):\n",
    "    p1 = [\"(\", \")\"]\n",
    "    p2 = [\"[\", \"]\"]\n",
    "    p3 = [\"(\", \")\"]\n",
    "    for char in s:\n",
    "        if p1[0] == s"
   ]
  },
  {
   "cell_type": "code",
   "execution_count": 45,
   "metadata": {},
   "outputs": [
    {
     "data": {
      "text/plain": [
       "5"
      ]
     },
     "execution_count": 45,
     "metadata": {},
     "output_type": "execute_result"
    }
   ],
   "source": [
    "test.index(\"}\")"
   ]
  },
  {
   "cell_type": "code",
   "execution_count": 49,
   "metadata": {},
   "outputs": [],
   "source": [
    "# one way that works\n",
    "def singlenumber(nums):\n",
    "    nums = sorted(nums)\n",
    "    if nums[0] != nums[1]: return nums[0]\n",
    "    for i in range(1,len(nums)-1):\n",
    "        if (nums[i] != nums[i-1])&(nums[i]!=nums[i+1]):\n",
    "            return nums[i]\n",
    "    return nums[-1]\n",
    "        "
   ]
  },
  {
   "cell_type": "code",
   "execution_count": 60,
   "metadata": {},
   "outputs": [],
   "source": [
    "# also works, using dictionary\n",
    "def singlenumber(nums):\n",
    "    d = {}\n",
    "    for a in nums:\n",
    "        if a not in d:\n",
    "            d[a] = 1\n",
    "        else:\n",
    "            d[a] += 1\n",
    "    return [k for k,v in d.items() if v==1][0]"
   ]
  },
  {
   "cell_type": "code",
   "execution_count": 61,
   "metadata": {},
   "outputs": [
    {
     "data": {
      "text/plain": [
       "4"
      ]
     },
     "execution_count": 61,
     "metadata": {},
     "output_type": "execute_result"
    }
   ],
   "source": [
    "test = [4,1,2,1,2]\n",
    "singlenumber(test)"
   ]
  },
  {
   "cell_type": "code",
   "execution_count": 55,
   "metadata": {},
   "outputs": [
    {
     "data": {
      "text/plain": [
       "{4: 1, 1: 2, 2: 2}"
      ]
     },
     "execution_count": 55,
     "metadata": {},
     "output_type": "execute_result"
    }
   ],
   "source": [
    "d"
   ]
  },
  {
   "cell_type": "code",
   "execution_count": 59,
   "metadata": {},
   "outputs": [
    {
     "data": {
      "text/plain": [
       "4"
      ]
     },
     "execution_count": 59,
     "metadata": {},
     "output_type": "execute_result"
    }
   ],
   "source": [
    "[k for k,v in d.items() if v==1][0]"
   ]
  },
  {
   "cell_type": "code",
   "execution_count": 82,
   "metadata": {},
   "outputs": [],
   "source": [
    "# works\n",
    "def findthedifference(s,t):\n",
    "    d = {}\n",
    "    for i in range(len(s)):\n",
    "        if s[i] not in d:\n",
    "            d[s[i]] = 1\n",
    "        else:\n",
    "            d[s[i]] += 1\n",
    "    for i in range(len(t)):\n",
    "        if t[i] not in d:\n",
    "            return t[i]\n",
    "        else: \n",
    "            d[t[i]] -= 1\n",
    "            # check immediately instead of waiting till the end\n",
    "            if d[t[i]] <0:\n",
    "                return t[i]"
   ]
  },
  {
   "cell_type": "code",
   "execution_count": 84,
   "metadata": {},
   "outputs": [
    {
     "data": {
      "text/plain": [
       "'f'"
      ]
     },
     "execution_count": 84,
     "metadata": {},
     "output_type": "execute_result"
    }
   ],
   "source": [
    "findthedifference(\"abcde\",\"abcdef\")"
   ]
  },
  {
   "cell_type": "code",
   "execution_count": 85,
   "metadata": {},
   "outputs": [],
   "source": [
    "# working\n",
    "def containsDuplicate(nums):\n",
    "    d = {}\n",
    "    for num in nums:\n",
    "        if num not in d:\n",
    "            d[num] = 1\n",
    "        else: \n",
    "            return True\n",
    "    return False"
   ]
  },
  {
   "cell_type": "code",
   "execution_count": 87,
   "metadata": {
    "scrolled": true
   },
   "outputs": [
    {
     "data": {
      "text/plain": [
       "True"
      ]
     },
     "execution_count": 87,
     "metadata": {},
     "output_type": "execute_result"
    }
   ],
   "source": [
    "test = [1,2,3,1]\n",
    "containsDuplicate(test)"
   ]
  },
  {
   "cell_type": "code",
   "execution_count": 89,
   "metadata": {},
   "outputs": [],
   "source": [
    "# also works\n",
    "def containsDuplicate2(nums):\n",
    "    if len(set(nums)) == len(nums):\n",
    "        return False\n",
    "    else: return True"
   ]
  },
  {
   "cell_type": "code",
   "execution_count": 90,
   "metadata": {
    "scrolled": true
   },
   "outputs": [
    {
     "data": {
      "text/plain": [
       "True"
      ]
     },
     "execution_count": 90,
     "metadata": {},
     "output_type": "execute_result"
    }
   ],
   "source": [
    "containsDuplicate2(test)"
   ]
  },
  {
   "cell_type": "code",
   "execution_count": 104,
   "metadata": {},
   "outputs": [],
   "source": [
    "#219. probably correct but not fast enough\n",
    "def containsnearbyduplicate(nums,k):\n",
    "    for i in range(len(nums)-1):\n",
    "        print (\"Value of i\", nums[i])\n",
    "        for j in range(i+1,min(len(nums),i+k+1)):\n",
    "            print (\"value of j \", nums[j])\n",
    "            if nums[i]==nums[j]:\n",
    "                return True\n",
    "    return False\n",
    "        "
   ]
  },
  {
   "cell_type": "code",
   "execution_count": 105,
   "metadata": {
    "scrolled": true
   },
   "outputs": [
    {
     "name": "stdout",
     "output_type": "stream",
     "text": [
      "Value of i 1\n",
      "value of j  2\n",
      "value of j  3\n",
      "value of j  1\n"
     ]
    },
    {
     "data": {
      "text/plain": [
       "True"
      ]
     },
     "execution_count": 105,
     "metadata": {},
     "output_type": "execute_result"
    }
   ],
   "source": [
    "test=[1,2,3,1]\n",
    "containsnearbyduplicate(test,3)"
   ]
  },
  {
   "cell_type": "code",
   "execution_count": null,
   "metadata": {},
   "outputs": [],
   "source": [
    "def containsnearbyduplicate(nums,k):\n"
   ]
  },
  {
   "cell_type": "code",
   "execution_count": 143,
   "metadata": {},
   "outputs": [],
   "source": [
    "A = [1,2,3,4] \n",
    "queries = [[1,0],[-3,1],[-4,0],[2,3]]"
   ]
  },
  {
   "cell_type": "code",
   "execution_count": 109,
   "metadata": {},
   "outputs": [
    {
     "data": {
      "text/plain": [
       "[1, 0]"
      ]
     },
     "execution_count": 109,
     "metadata": {},
     "output_type": "execute_result"
    }
   ],
   "source": [
    "queries[0]"
   ]
  },
  {
   "cell_type": "code",
   "execution_count": 127,
   "metadata": {},
   "outputs": [],
   "source": [
    "# probably correct but time limit\n",
    "def sumEven(A, queries):\n",
    "    result = []\n",
    "    for query in queries:\n",
    "        total = 0\n",
    "        A[query[1]] = A[query[1]] + query[0]\n",
    "        for num in A:\n",
    "            if num % 2 == 0: total+=num\n",
    "        result.append(total)\n",
    "    return result"
   ]
  },
  {
   "cell_type": "code",
   "execution_count": 144,
   "metadata": {
    "scrolled": true
   },
   "outputs": [
    {
     "data": {
      "text/plain": [
       "[8, 6, 6, 8]"
      ]
     },
     "execution_count": 144,
     "metadata": {},
     "output_type": "execute_result"
    }
   ],
   "source": [
    "sumEven(A, queries)"
   ]
  },
  {
   "cell_type": "code",
   "execution_count": 150,
   "metadata": {},
   "outputs": [],
   "source": [
    "# 326. This one works but try to not use loop/recursion\n",
    "def powerofthree(x):\n",
    "    i = 0\n",
    "    total = 3**i\n",
    "    while total<=x:\n",
    "        if total==x: return True\n",
    "        else:\n",
    "            i +=1\n",
    "            total = 3**i\n",
    "    return False"
   ]
  },
  {
   "cell_type": "code",
   "execution_count": 169,
   "metadata": {},
   "outputs": [],
   "source": [
    "#using recursive\n",
    "def powerofthree(x):\n",
    "    if float(x) == 1:\n",
    "        return True\n",
    "    elif float(x) < 1:\n",
    "        return False\n",
    "    else:\n",
    "        return (powerofthree(x/3))"
   ]
  },
  {
   "cell_type": "code",
   "execution_count": 170,
   "metadata": {},
   "outputs": [
    {
     "data": {
      "text/plain": [
       "False"
      ]
     },
     "execution_count": 170,
     "metadata": {},
     "output_type": "execute_result"
    }
   ],
   "source": [
    "powerofthree(45)"
   ]
  },
  {
   "cell_type": "code",
   "execution_count": 167,
   "metadata": {
    "scrolled": true
   },
   "outputs": [
    {
     "data": {
      "text/plain": [
       "True"
      ]
     },
     "execution_count": 167,
     "metadata": {},
     "output_type": "execute_result"
    }
   ],
   "source": [
    "powerofthree(27)"
   ]
  },
  {
   "cell_type": "code",
   "execution_count": 166,
   "metadata": {
    "scrolled": true
   },
   "outputs": [
    {
     "data": {
      "text/plain": [
       "True"
      ]
     },
     "execution_count": 166,
     "metadata": {},
     "output_type": "execute_result"
    }
   ],
   "source": [
    "powerofthree(9)"
   ]
  },
  {
   "cell_type": "code",
   "execution_count": 171,
   "metadata": {},
   "outputs": [],
   "source": [
    "s = \"AAAAACCCCCAAAAACCCCCCAAAAAGGGTTT\"\n"
   ]
  },
  {
   "cell_type": "code",
   "execution_count": 201,
   "metadata": {},
   "outputs": [],
   "source": [
    "# 187. Brute force- probably correct - time limit\n",
    "def findRepeatedDnaSequences(s):\n",
    "    result = set()\n",
    "    for i in range(len(s)-9):\n",
    "        for j in range(i+1,len(s)-9):\n",
    "            if s[i:(i+10)] == s[j:(j+10)]:\n",
    "                result.add(s[i:(i+10)])\n",
    "    return list(result)"
   ]
  },
  {
   "cell_type": "code",
   "execution_count": 211,
   "metadata": {},
   "outputs": [],
   "source": [
    "# 187. Brute force- instead of looping through all, stop if condition is found\n",
    "def findRepeatedDnaSequences(s):\n",
    "    #result = set()\n",
    "    result = []\n",
    "    for i in range(len(s)-9):\n",
    "        if s[i:(i+10)] in result:\n",
    "            pass\n",
    "        j = i + 1\n",
    "        found = False\n",
    "        while (not found) & (j<len(s)-9):\n",
    "            if s[i:(i+10)] == s[j:(j+10)]:\n",
    "                found = True\n",
    "                #result.add(s[i:(i+10)])\n",
    "                result.append(s[i:(i+10)])\n",
    "            j += 1\n",
    "    return result"
   ]
  },
  {
   "cell_type": "code",
   "execution_count": 229,
   "metadata": {},
   "outputs": [],
   "source": [
    "# basically the same as my solution, wonder why set is so fast\n",
    "# actually better because only use 1 loop.\n",
    "# Think about future, you can use 2 sets/lists to store results\n",
    "def findRepeatedDnaSequences(s)\n",
    "    r, record = set(), set()\n",
    "    for i in range(len(s) - 9):\n",
    "        substring = s[i:i + 10]\n",
    "        if substring in record:\n",
    "            record.add(substring)\n",
    "        else:\n",
    "            r.add(substring)\n",
    "    return list(r)"
   ]
  },
  {
   "cell_type": "code",
   "execution_count": null,
   "metadata": {},
   "outputs": [],
   "source": [
    "class Solution(object):\n",
    "    def findRepeatedDnaSequences(self, s):\n",
    "        r, record = set(), set()\n",
    "        for i in xrange(len(s) - 9):\n",
    "            substring = s[i:i + 10]\n",
    "            [record, r][substring in record].add(substring)\n",
    "        return list(r)"
   ]
  },
  {
   "cell_type": "code",
   "execution_count": 230,
   "metadata": {
    "scrolled": true
   },
   "outputs": [
    {
     "data": {
      "text/plain": [
       "{'AAAAACCCCC', 'CCCCCAAAAA'}"
      ]
     },
     "execution_count": 230,
     "metadata": {},
     "output_type": "execute_result"
    }
   ],
   "source": [
    "r"
   ]
  },
  {
   "cell_type": "code",
   "execution_count": 237,
   "metadata": {
    "scrolled": true
   },
   "outputs": [
    {
     "data": {
      "text/plain": [
       "{'AAAAACCCCC', 'CCCCCAAAAA'}"
      ]
     },
     "execution_count": 237,
     "metadata": {},
     "output_type": "execute_result"
    }
   ],
   "source": [
    "[record,r][\"AAAAACCCCC\"  in record]"
   ]
  },
  {
   "cell_type": "code",
   "execution_count": 241,
   "metadata": {},
   "outputs": [
    {
     "data": {
      "text/plain": [
       "1"
      ]
     },
     "execution_count": 241,
     "metadata": {},
     "output_type": "execute_result"
    }
   ],
   "source": [
    "[0,1][\"AAAAACCCCC\" in record]"
   ]
  },
  {
   "cell_type": "code",
   "execution_count": 231,
   "metadata": {},
   "outputs": [
    {
     "data": {
      "text/plain": [
       "{'AAAAACCCCC',\n",
       " 'AAAAAGGGTT',\n",
       " 'AAAACCCCCA',\n",
       " 'AAAACCCCCC',\n",
       " 'AAAAGGGTTT',\n",
       " 'AAACCCCCAA',\n",
       " 'AAACCCCCCA',\n",
       " 'AACCCCCAAA',\n",
       " 'AACCCCCCAA',\n",
       " 'ACCCCCAAAA',\n",
       " 'ACCCCCCAAA',\n",
       " 'CAAAAACCCC',\n",
       " 'CAAAAAGGGT',\n",
       " 'CCAAAAACCC',\n",
       " 'CCAAAAAGGG',\n",
       " 'CCCAAAAACC',\n",
       " 'CCCAAAAAGG',\n",
       " 'CCCCAAAAAC',\n",
       " 'CCCCAAAAAG',\n",
       " 'CCCCCAAAAA',\n",
       " 'CCCCCCAAAA'}"
      ]
     },
     "execution_count": 231,
     "metadata": {},
     "output_type": "execute_result"
    }
   ],
   "source": [
    "record"
   ]
  },
  {
   "cell_type": "code",
   "execution_count": 190,
   "metadata": {
    "scrolled": false
   },
   "outputs": [
    {
     "data": {
      "text/plain": [
       "12"
      ]
     },
     "execution_count": 190,
     "metadata": {},
     "output_type": "execute_result"
    }
   ],
   "source": [
    "len(\"AAAAAAAAAAAA\")"
   ]
  },
  {
   "cell_type": "code",
   "execution_count": 219,
   "metadata": {},
   "outputs": [
    {
     "data": {
      "text/plain": [
       "['AAAAAAAAAA']"
      ]
     },
     "execution_count": 219,
     "metadata": {},
     "output_type": "execute_result"
    }
   ],
   "source": [
    "findRepeatedDnaSequences(\"AAAAAAAAAAAAA\")"
   ]
  },
  {
   "cell_type": "code",
   "execution_count": 222,
   "metadata": {},
   "outputs": [
    {
     "data": {
      "text/plain": [
       "[0, 1, 2, 3, 4, 5, 6, 7, 8, 9, 10, 11, 12]"
      ]
     },
     "execution_count": 222,
     "metadata": {},
     "output_type": "execute_result"
    }
   ],
   "source": [
    "test = \"AAAAAAAAAAAAA\"\n",
    "#test.index(\"A\")\n",
    "[i for i, x in enumerate(test) if x == \"A\"]"
   ]
  },
  {
   "cell_type": "code",
   "execution_count": 181,
   "metadata": {},
   "outputs": [
    {
     "name": "stdout",
     "output_type": "stream",
     "text": [
      "0\n"
     ]
    }
   ],
   "source": [
    "for i in range(1):\n",
    "    print (i)"
   ]
  },
  {
   "cell_type": "code",
   "execution_count": 182,
   "metadata": {},
   "outputs": [],
   "source": [
    "for i in range(1,1):\n",
    "    print (i)"
   ]
  },
  {
   "cell_type": "code",
   "execution_count": 196,
   "metadata": {},
   "outputs": [],
   "source": [
    "list_test = [1,2,1,3]\n",
    "set_test = set(list_test)"
   ]
  },
  {
   "cell_type": "code",
   "execution_count": 199,
   "metadata": {},
   "outputs": [],
   "source": [
    "set_test.add(3)"
   ]
  },
  {
   "cell_type": "code",
   "execution_count": 200,
   "metadata": {},
   "outputs": [
    {
     "data": {
      "text/plain": [
       "{1, 2, 3}"
      ]
     },
     "execution_count": 200,
     "metadata": {},
     "output_type": "execute_result"
    }
   ],
   "source": [
    "set_test"
   ]
  },
  {
   "cell_type": "code",
   "execution_count": 198,
   "metadata": {
    "scrolled": true
   },
   "outputs": [
    {
     "data": {
      "text/plain": [
       "[1, 2, 3]"
      ]
     },
     "execution_count": 198,
     "metadata": {},
     "output_type": "execute_result"
    }
   ],
   "source": [
    "list(set_test)"
   ]
  },
  {
   "cell_type": "code",
   "execution_count": 297,
   "metadata": {},
   "outputs": [],
   "source": [
    "# 739 - Brute force - time limit exceeded\n",
    "def dailyTemperatures(T):\n",
    "    result = []\n",
    "    for i in range(len(T) - 1):\n",
    "        larger = False\n",
    "        j = i+1\n",
    "        while (not larger) & (j<len(T)):\n",
    "            if (T[j] > T[i]):\n",
    "                larger = True\n",
    "            j += 1\n",
    "        if (larger):\n",
    "            result.append(j-i-1)\n",
    "        else: \n",
    "            result.append(0)\n",
    "    result.append(0)\n",
    "    return result\n",
    "    "
   ]
  },
  {
   "cell_type": "code",
   "execution_count": 301,
   "metadata": {},
   "outputs": [],
   "source": [
    "# 739 - Brute force - modified such that if a number is max or last, no need to find\n",
    "def dailyTemperatures(T):\n",
    "    result = []\n",
    "    for i in range(len(T) - 1):\n",
    "        larger = False\n",
    "        j = i+1\n",
    "        while (not larger) & (j<len(T)):\n",
    "            print (T[i], T[j])\n",
    "            if (T[j] > T[i]):\n",
    "                larger = True\n",
    "            j += 1\n",
    "        if (larger):\n",
    "            result.append(j-i-1)\n",
    "        else: \n",
    "            result.append(0)\n",
    "    result.append(0)\n",
    "    return result\n",
    "    "
   ]
  },
  {
   "cell_type": "code",
   "execution_count": 263,
   "metadata": {},
   "outputs": [],
   "source": [
    "T = [73, 74, 75, 71, 69, 72, 76, 73]"
   ]
  },
  {
   "cell_type": "code",
   "execution_count": 302,
   "metadata": {},
   "outputs": [
    {
     "name": "stdout",
     "output_type": "stream",
     "text": [
      "73 74\n",
      "74 75\n",
      "75 71\n",
      "75 69\n",
      "75 72\n",
      "75 76\n",
      "71 69\n",
      "71 72\n",
      "69 72\n",
      "72 76\n",
      "76 73\n"
     ]
    },
    {
     "data": {
      "text/plain": [
       "[1, 1, 4, 2, 1, 1, 0, 0]"
      ]
     },
     "execution_count": 302,
     "metadata": {},
     "output_type": "execute_result"
    }
   ],
   "source": [
    "dailyTemperatures(T)"
   ]
  },
  {
   "cell_type": "code",
   "execution_count": 259,
   "metadata": {},
   "outputs": [],
   "source": [
    "test"
   ]
  },
  {
   "cell_type": "code",
   "execution_count": 305,
   "metadata": {},
   "outputs": [],
   "source": [
    "num = [10, 15, 3, 7]\n",
    "k =  17\n",
    "#return true since 10 + 7 is 17"
   ]
  },
  {
   "cell_type": "code",
   "execution_count": 303,
   "metadata": {},
   "outputs": [],
   "source": [
    "# Coding email - #1 - brute force\n",
    "def totalsum(nums,k):\n",
    "    for i in range(len(nums)-1):\n",
    "        for j in range(i+1,len(nums)):\n",
    "            if nums[i] + nums[j] == k:\n",
    "                return True\n",
    "    return False"
   ]
  },
  {
   "cell_type": "code",
   "execution_count": 306,
   "metadata": {},
   "outputs": [
    {
     "data": {
      "text/plain": [
       "True"
      ]
     },
     "execution_count": 306,
     "metadata": {},
     "output_type": "execute_result"
    }
   ],
   "source": [
    "totalsum(num,k)"
   ]
  },
  {
   "cell_type": "code",
   "execution_count": 312,
   "metadata": {},
   "outputs": [],
   "source": [
    "# try grid search\n",
    "def totalsum(nums,k):\n",
    "    ar1 = sorted(nums)\n",
    "    ar2 = sorted(nums)\n",
    "    i = len(nums) - 1\n",
    "    j = 0\n",
    "    found = False\n",
    "    while (not found):\n",
    "        if ar1[i] + ar2[j] > k:\n",
    "            i -= 1\n",
    "        elif ar1[i] + ar2[j] < k:\n",
    "            j += 1\n",
    "        else:\n",
    "            found = True\n",
    "    return found"
   ]
  },
  {
   "cell_type": "code",
   "execution_count": 313,
   "metadata": {
    "scrolled": false
   },
   "outputs": [
    {
     "data": {
      "text/plain": [
       "True"
      ]
     },
     "execution_count": 313,
     "metadata": {},
     "output_type": "execute_result"
    }
   ],
   "source": [
    "totalsum(num,k)"
   ]
  },
  {
   "cell_type": "code",
   "execution_count": null,
   "metadata": {},
   "outputs": [],
   "source": [
    "# 49 - anagrams\n",
    "#Input: [\"eat\", \"tea\", \"tan\", \"ate\", \"nat\", \"bat\"],\n",
    "#Output:\n",
    "#[\n",
    "#  [\"ate\",\"eat\",\"tea\"],\n",
    "#  [\"nat\",\"tan\"],`\n",
    "#  [\"bat\"]\n",
    "#]"
   ]
  },
  {
   "cell_type": "code",
   "execution_count": 314,
   "metadata": {},
   "outputs": [],
   "source": [
    "test = [\"eat\", \"tea\", \"tan\", \"ate\", \"nat\", \"bat\"]"
   ]
  },
  {
   "cell_type": "code",
   "execution_count": 338,
   "metadata": {},
   "outputs": [],
   "source": [
    "# using frozen set instead of set because frozen set can be used in index\n",
    "def groupanagram(strs):\n",
    "    result = {}\n",
    "    for string in strs:\n",
    "        set1 = frozenset([x for x in string])\n",
    "        if set1 not in result:\n",
    "            result[set1] = [string]\n",
    "        else: \n",
    "            result[set1].append(string)\n",
    "    return [x for x in result.values()]"
   ]
  },
  {
   "cell_type": "code",
   "execution_count": 349,
   "metadata": {},
   "outputs": [],
   "source": [
    "# use tuples is also good choice, it's more efficient because tuples is immutable. Just make sure that we sorted it first\n",
    "# if sorted those strings, think it will be faster?\n",
    "def groupanagram(strs):\n",
    "    result = {}\n",
    "    for string in strs:\n",
    "        tup = tuple(sorted([x for x in string]))        \n",
    "        if tup not in result:\n",
    "            result[tup] = [string]\n",
    "        else: \n",
    "            result[tup].append(string)\n",
    "    return [x for x in result.values()]"
   ]
  },
  {
   "cell_type": "code",
   "execution_count": 350,
   "metadata": {
    "scrolled": true
   },
   "outputs": [
    {
     "data": {
      "text/plain": [
       "[['eat', 'tea', 'ate'], ['tan', 'nat'], ['bat']]"
      ]
     },
     "execution_count": 350,
     "metadata": {},
     "output_type": "execute_result"
    }
   ],
   "source": [
    "groupanagram(test)"
   ]
  },
  {
   "cell_type": "code",
   "execution_count": 347,
   "metadata": {
    "scrolled": true
   },
   "outputs": [
    {
     "data": {
      "text/plain": [
       "['ate', 'bat', 'eat', 'nat', 'tan', 'tea']"
      ]
     },
     "execution_count": 347,
     "metadata": {},
     "output_type": "execute_result"
    }
   ],
   "source": [
    "sorted(test)"
   ]
  },
  {
   "cell_type": "code",
   "execution_count": 348,
   "metadata": {},
   "outputs": [
    {
     "data": {
      "text/plain": [
       "('a', 'e', 't')"
      ]
     },
     "execution_count": 348,
     "metadata": {},
     "output_type": "execute_result"
    }
   ],
   "source": [
    "tuple(sorted('ate'))"
   ]
  },
  {
   "cell_type": "code",
   "execution_count": 341,
   "metadata": {
    "scrolled": true
   },
   "outputs": [
    {
     "data": {
      "text/plain": [
       "['a', 'e', 't']"
      ]
     },
     "execution_count": 341,
     "metadata": {},
     "output_type": "execute_result"
    }
   ],
   "source": [
    "sorted(tuple([x for x in \"eat\"]))"
   ]
  },
  {
   "cell_type": "code",
   "execution_count": 392,
   "metadata": {},
   "outputs": [],
   "source": [
    "# 884 \n",
    "A = \"this apple is sweet\"\n",
    "B = \"this apple is sour\""
   ]
  },
  {
   "cell_type": "code",
   "execution_count": 356,
   "metadata": {},
   "outputs": [
    {
     "data": {
      "text/plain": [
       "['this', 'apple', 'is', 'sweet', 'sweet']"
      ]
     },
     "execution_count": 356,
     "metadata": {},
     "output_type": "execute_result"
    }
   ],
   "source": [
    "A.split()"
   ]
  },
  {
   "cell_type": "code",
   "execution_count": 390,
   "metadata": {},
   "outputs": [],
   "source": [
    "def uncommonFromSentences(A, B):\n",
    "    A = sorted(A.split())\n",
    "    B = sorted(B.split())\n",
    "    A.append(0)\n",
    "    i=0\n",
    "    j_min = 0\n",
    "    j_max = len(B)\n",
    "    common = set()\n",
    "    while i < len(A) - 1:\n",
    "        if A[i]==A[i+1]:\n",
    "            common.add(A[i])\n",
    "            i+=1\n",
    "        else:\n",
    "            stop = False\n",
    "            j = j_min\n",
    "            while (not stop) and (j<len(B)):\n",
    "                if A[i] < B[j]:\n",
    "                    stop = True\n",
    "                    j_min = j\n",
    "                elif A[i] > B[j]:\n",
    "                    j += 1\n",
    "                else:\n",
    "                    common.add(A[i])\n",
    "                    j_min = j\n",
    "                    stop = True\n",
    "            #if (not stop): uncommon.append(A[i])\n",
    "            i+=1\n",
    "    #print (common)\n",
    "    set_A = set(A)\n",
    "    set_B = set(B)\n",
    "    uncommon = set_A.union(set_B).difference(common)\n",
    "    uncommon.remove(0)\n",
    "    print (list(uncommon))\n",
    "                                            \n"
   ]
  },
  {
   "cell_type": "code",
   "execution_count": 393,
   "metadata": {},
   "outputs": [
    {
     "name": "stdout",
     "output_type": "stream",
     "text": [
      "['sweet', 'sour']\n"
     ]
    }
   ],
   "source": [
    "uncommonFromSentences(A,B)"
   ]
  }
 ],
 "metadata": {
  "kernelspec": {
   "display_name": "Python 3",
   "language": "python",
   "name": "python3"
  },
  "language_info": {
   "codemirror_mode": {
    "name": "ipython",
    "version": 3
   },
   "file_extension": ".py",
   "mimetype": "text/x-python",
   "name": "python",
   "nbconvert_exporter": "python",
   "pygments_lexer": "ipython3",
   "version": "3.7.1"
  }
 },
 "nbformat": 4,
 "nbformat_minor": 2
}
