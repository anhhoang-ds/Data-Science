{
 "cells": [
  {
   "cell_type": "code",
   "execution_count": 9,
   "metadata": {},
   "outputs": [],
   "source": [
    "#724 bruteforce, time limit exceeded\n",
    "def pivotIndex(nums):\n",
    "    index = int(len(nums)/2)\n",
    "    if (sum(nums[:index]) == (sum(nums[index+1:]))):\n",
    "        return index\n",
    "    elif sum(nums[:index]) < (sum(nums[index+1:])):\n",
    "        while (sum(nums[:index]) < (sum(nums[index+1:]))):\n",
    "            index += 1\n",
    "            if (sum(nums[:index]) == (sum(nums[index+1:]))):\n",
    "                return index\n",
    "            elif (sum(nums[:index]) > (sum(nums[index+1:]))):\n",
    "                return -1\n",
    "    else:\n",
    "        while (sum(nums[:index]) > (sum(nums[index+1:]))):\n",
    "            index += 1\n",
    "            if (sum(nums[:index]) == (sum(nums[index+1:]))):\n",
    "                return index\n",
    "            elif (sum(nums[:index]) < (sum(nums[index+1:]))):\n",
    "                return -1"
   ]
  },
  {
   "cell_type": "code",
   "execution_count": 11,
   "metadata": {},
   "outputs": [],
   "source": [
    "nums = [1, 7, 3, 6, 5, 6]\n",
    "nums2= [1,2,3]"
   ]
  },
  {
   "cell_type": "code",
   "execution_count": 12,
   "metadata": {},
   "outputs": [
    {
     "data": {
      "text/plain": [
       "-1"
      ]
     },
     "execution_count": 12,
     "metadata": {},
     "output_type": "execute_result"
    }
   ],
   "source": [
    "pivotIndex(nums2)"
   ]
  },
  {
   "cell_type": "code",
   "execution_count": null,
   "metadata": {},
   "outputs": [],
   "source": []
  },
  {
   "cell_type": "code",
   "execution_count": 6,
   "metadata": {},
   "outputs": [
    {
     "data": {
      "text/plain": [
       "17"
      ]
     },
     "execution_count": 6,
     "metadata": {},
     "output_type": "execute_result"
    }
   ],
   "source": [
    "sum(nums[3:])"
   ]
  },
  {
   "cell_type": "code",
   "execution_count": 13,
   "metadata": {},
   "outputs": [
    {
     "data": {
      "text/plain": [
       "2.0"
      ]
     },
     "execution_count": 13,
     "metadata": {},
     "output_type": "execute_result"
    }
   ],
   "source": [
    "6/3"
   ]
  }
 ],
 "metadata": {
  "kernelspec": {
   "display_name": "Python 3",
   "language": "python",
   "name": "python3"
  },
  "language_info": {
   "codemirror_mode": {
    "name": "ipython",
    "version": 3
   },
   "file_extension": ".py",
   "mimetype": "text/x-python",
   "name": "python",
   "nbconvert_exporter": "python",
   "pygments_lexer": "ipython3",
   "version": "3.7.1"
  }
 },
 "nbformat": 4,
 "nbformat_minor": 2
}
