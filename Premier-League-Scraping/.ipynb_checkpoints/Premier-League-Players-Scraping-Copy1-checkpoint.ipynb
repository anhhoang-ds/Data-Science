{
 "cells": [
  {
   "cell_type": "markdown",
   "metadata": {},
   "source": [
    "# 1. Loading the library"
   ]
  },
  {
   "cell_type": "code",
   "execution_count": 14,
   "metadata": {
    "collapsed": true
   },
   "outputs": [],
   "source": [
    "## all imports\n",
    "from IPython.display import HTML\n",
    "import numpy as np\n",
    "import urllib\n",
    "import bs4 #this is beautiful soup\n",
    "import time\n",
    "import operator\n",
    "import socket\n",
    "import _pickle as cPickle\n",
    "import re # regular expressions\n",
    "\n",
    "from pandas import Series\n",
    "import pandas as pd\n",
    "from pandas import DataFrame\n",
    "\n",
    "import matplotlib\n",
    "import matplotlib.pyplot as plt\n",
    "%matplotlib inline\n",
    "\n",
    "import seaborn as sns\n",
    "sns.set_context(\"talk\")\n",
    "sns.set_style(\"white\")\n",
    "\n",
    "from secret import *\n",
    "from urllib.request import urlopen\n",
    "import requests\n",
    "import pandas as pd\n",
    "import numpy as np\n",
    "import matplotlib.pyplot as plt\n",
    "%matplotlib inline\n",
    "import seaborn as sns\n",
    "import matplotlib.ticker as mtick\n",
    "fmt = '£{x:,.0f}'\n",
    "from fnmatch import fnmatch"
   ]
  },
  {
   "cell_type": "markdown",
   "metadata": {},
   "source": [
    "# 2. Get all the links that we want to scrape from"
   ]
  },
  {
   "cell_type": "markdown",
   "metadata": {},
   "source": [
    "As there are 20 clubs in the English league, we ideally wants to find out 20 links to scrape from. We first start from the English premier league page within Transfer Market"
   ]
  },
  {
   "cell_type": "code",
   "execution_count": 15,
   "metadata": {
    "collapsed": true
   },
   "outputs": [],
   "source": [
    "url2 = 'https://www.transfermarkt.co.uk/premier-league/startseite/wettbewerb/GB1'\n",
    "headers2= {\"User-Agent\":\"Mozilla/5.0\"}\n",
    "response2 = requests.get(url2, headers=headers2)\n",
    "soup2 = bs4.BeautifulSoup(response2.text, 'lxml')"
   ]
  },
  {
   "cell_type": "markdown",
   "metadata": {},
   "source": [
    "We can see that the document elements are a little messi (pun intended). If we use `Inspect Element` tool within Chrome, we can see that the links we are interested in all have the a tag with class name `vereinprofil_tooltip`. It follows the following format:\n",
    "\n",
    "'/[club_name]/startseite/verein/[club_id]/saison_id/2017'\n",
    "\n",
    "As a result, we only extract the `href` attributes for these links. However, the `href` only represents a dynamic html flow within the transfermarkt website. In order to access this page from python, we simply add a prefix 'https://www.transfermark.co.uk' to it.\n",
    "\n",
    "We then append these links into a single list."
   ]
  },
  {
   "cell_type": "code",
   "execution_count": 16,
   "metadata": {
    "collapsed": true
   },
   "outputs": [],
   "source": [
    "link_list2 = [l.get('href') for l in soup2.findAll('a',class_='vereinprofil_tooltip')]\n",
    "\n",
    "pattern='*/startseite/verein/*saison_id/2017'\n",
    "external_links = [l for l in link_list2 if l is not None and fnmatch(l,pattern)]\n",
    "\n",
    "for i in range(len(external_links)):\n",
    "    external_links[i]= 'https://www.transfermarkt.co.uk' + external_links[i];\n",
    "    # change the links to 'kader' to view the detailed roster\n",
    "    external_links[i]=external_links[i].replace('startseite','kader')\n",
    "# remove duplicate links\n",
    "external_links=sorted(list(set(external_links)))"
   ]
  },
  {
   "cell_type": "markdown",
   "metadata": {},
   "source": [
    "We can view all the links that we will scrape from here. After this step, we will move on to how to scrape attributes of each player"
   ]
  },
  {
   "cell_type": "code",
   "execution_count": 17,
   "metadata": {
    "collapsed": false,
    "scrolled": false
   },
   "outputs": [
    {
     "data": {
      "text/plain": [
       "['https://www.transfermarkt.co.uk/afc-bournemouth/kader/verein/989/saison_id/2017',\n",
       " 'https://www.transfermarkt.co.uk/brighton-amp-hove-albion/kader/verein/1237/saison_id/2017',\n",
       " 'https://www.transfermarkt.co.uk/crystal-palace/kader/verein/873/saison_id/2017',\n",
       " 'https://www.transfermarkt.co.uk/fc-arsenal/kader/verein/11/saison_id/2017',\n",
       " 'https://www.transfermarkt.co.uk/fc-burnley/kader/verein/1132/saison_id/2017',\n",
       " 'https://www.transfermarkt.co.uk/fc-chelsea/kader/verein/631/saison_id/2017',\n",
       " 'https://www.transfermarkt.co.uk/fc-everton/kader/verein/29/saison_id/2017',\n",
       " 'https://www.transfermarkt.co.uk/fc-liverpool/kader/verein/31/saison_id/2017',\n",
       " 'https://www.transfermarkt.co.uk/fc-southampton/kader/verein/180/saison_id/2017',\n",
       " 'https://www.transfermarkt.co.uk/fc-watford/kader/verein/1010/saison_id/2017',\n",
       " 'https://www.transfermarkt.co.uk/huddersfield-town/kader/verein/1110/saison_id/2017',\n",
       " 'https://www.transfermarkt.co.uk/leicester-city/kader/verein/1003/saison_id/2017',\n",
       " 'https://www.transfermarkt.co.uk/manchester-city/kader/verein/281/saison_id/2017',\n",
       " 'https://www.transfermarkt.co.uk/manchester-united/kader/verein/985/saison_id/2017',\n",
       " 'https://www.transfermarkt.co.uk/newcastle-united/kader/verein/762/saison_id/2017',\n",
       " 'https://www.transfermarkt.co.uk/stoke-city/kader/verein/512/saison_id/2017',\n",
       " 'https://www.transfermarkt.co.uk/swansea-city/kader/verein/2288/saison_id/2017',\n",
       " 'https://www.transfermarkt.co.uk/tottenham-hotspur/kader/verein/148/saison_id/2017',\n",
       " 'https://www.transfermarkt.co.uk/west-bromwich-albion/kader/verein/984/saison_id/2017',\n",
       " 'https://www.transfermarkt.co.uk/west-ham-united/kader/verein/379/saison_id/2017']"
      ]
     },
     "execution_count": 17,
     "metadata": {},
     "output_type": "execute_result"
    }
   ],
   "source": [
    "external_links"
   ]
  },
  {
   "cell_type": "markdown",
   "metadata": {},
   "source": [
    "# 3. Scraping players attributes"
   ]
  },
  {
   "cell_type": "code",
   "execution_count": 18,
   "metadata": {
    "collapsed": true
   },
   "outputs": [],
   "source": [
    "url3 = external_links[13]\n",
    "headers3= {\"User-Agent\":\"Mozilla/5.0\"}\n",
    "response3 = requests.get(url3, headers=headers2)\n",
    "soup3 = bs4.BeautifulSoup(response3.text, 'lxml')"
   ]
  },
  {
   "cell_type": "markdown",
   "metadata": {},
   "source": [
    "To view the attributes of each player, we will observe a sample page. We will observe [Manchester United's detailed roster](https://www.transfermarkt.co.uk/manchester-united/kader/verein/985/saison_id/2017). Clicking on each player row, we can see that each row consists of `tr` tag, with class of `odd` and `even` alternating. Each row consists of six different cells, or `tr` class. Within each cell, we have different combination of text, href, image. We will observe a single player, and use trial-and-error to extract the text for player's name, position, age, nationality, club, market value. We will use a combination of children attribute, class finding to find a unique DOMXPath for each element that can be generated all across other rows and other pages."
   ]
  },
  {
   "cell_type": "code",
   "execution_count": 19,
   "metadata": {
    "collapsed": true
   },
   "outputs": [],
   "source": [
    "# Get the sample row\n",
    "player1_row=soup3.find('tr',class_=\"even\")"
   ]
  },
  {
   "cell_type": "code",
   "execution_count": 20,
   "metadata": {
    "collapsed": false
   },
   "outputs": [
    {
     "data": {
      "text/plain": [
       "'Sergio Romero'"
      ]
     },
     "execution_count": 20,
     "metadata": {},
     "output_type": "execute_result"
    }
   ],
   "source": [
    "#Finding name, which is contained in column 2 of each row\n",
    "row2=player1_row.contents[2]\n",
    "row2.findAll('a',class_='spielprofil_tooltip')[0].text"
   ]
  },
  {
   "cell_type": "code",
   "execution_count": 21,
   "metadata": {
    "collapsed": false
   },
   "outputs": [
    {
     "data": {
      "text/plain": [
       "'Keeper'"
      ]
     },
     "execution_count": 21,
     "metadata": {},
     "output_type": "execute_result"
    }
   ],
   "source": [
    "# Finding position of player\n",
    "row2=player1_row.contents[2]\n",
    "row2.findAll('td')[2].text"
   ]
  },
  {
   "cell_type": "code",
   "execution_count": 22,
   "metadata": {
    "collapsed": false
   },
   "outputs": [
    {
     "data": {
      "text/plain": [
       "'Argentina'"
      ]
     },
     "execution_count": 22,
     "metadata": {},
     "output_type": "execute_result"
    }
   ],
   "source": [
    "#Nationality. Note that players can be multi-national; however, since he can only play for one country, we only extract the first value\n",
    "player1_row.find('img',class_='flaggenrahmen').get('title')"
   ]
  },
  {
   "cell_type": "code",
   "execution_count": 23,
   "metadata": {
    "collapsed": false
   },
   "outputs": [
    {
     "data": {
      "text/plain": [
       "'30'"
      ]
     },
     "execution_count": 23,
     "metadata": {},
     "output_type": "execute_result"
    }
   ],
   "source": [
    "#Finding age, which is the value between the parenthesis in column 3 of each row\n",
    "row3=player1_row.contents[3]\n",
    "row3text=row3.text\n",
    "row3text\n",
    "row3text[row3text.find(\"(\")+1:row3text.find(\")\")]"
   ]
  },
  {
   "cell_type": "code",
   "execution_count": 24,
   "metadata": {
    "collapsed": false
   },
   "outputs": [
    {
     "data": {
      "text/plain": [
       "'£5.40m'"
      ]
     },
     "execution_count": 24,
     "metadata": {},
     "output_type": "execute_result"
    }
   ],
   "source": [
    "#Finding market value on column 6\n",
    "row6=player1_row.contents[6]\n",
    "row6.text.replace(u'\\xa0',u'')"
   ]
  },
  {
   "cell_type": "code",
   "execution_count": 25,
   "metadata": {
    "collapsed": false
   },
   "outputs": [
    {
     "data": {
      "text/plain": [
       "'Manchester United'"
      ]
     },
     "execution_count": 25,
     "metadata": {},
     "output_type": "execute_result"
    }
   ],
   "source": [
    "# Finding club by extracting the soup element\n",
    "club = soup3.findAll('b')[0].text\n",
    "club"
   ]
  },
  {
   "cell_type": "markdown",
   "metadata": {},
   "source": [
    "After these trials and errors, we generalize a function to call out these fields by passing a row to it. The result is a dictionary with attributes as keys and player values as attributes."
   ]
  },
  {
   "cell_type": "code",
   "execution_count": 26,
   "metadata": {
    "collapsed": true
   },
   "outputs": [],
   "source": [
    "def get_player_name(row):\n",
    "    row1=row.contents[2]\n",
    "    return row1.findAll('a',class_='spielprofil_tooltip')[0].text\n",
    "def get_position(row):\n",
    "    row2=row.contents[2]\n",
    "    return row2.findAll('td')[2].text\n",
    "def get_nationality(row):\n",
    "    return row.find('img',class_='flaggenrahmen').get('title')\n",
    "def get_age(row):\n",
    "    row3=row.contents[3]\n",
    "    row3text=row3.text\n",
    "    return row3text[row3text.find(\"(\")+1:row3text.find(\")\")]\n",
    "def get_value(row):\n",
    "    row6=row.contents[6]\n",
    "    return row6.text.replace(u'\\xa0',u'')"
   ]
  },
  {
   "cell_type": "code",
   "execution_count": 27,
   "metadata": {
    "collapsed": true
   },
   "outputs": [],
   "source": [
    "def get_player_info(player_test):\n",
    "    return {'Player Name':get_player_name(player_test),'Position':get_position(player_test),'Nationality':get_nationality(player_test),\n",
    "            'Club':club,'Age':get_age(player_test),'Market Value':get_value(player_test)}"
   ]
  },
  {
   "cell_type": "markdown",
   "metadata": {},
   "source": [
    "We then test our function by passing the `player1_row` to the `get_player_info` function. "
   ]
  },
  {
   "cell_type": "code",
   "execution_count": 28,
   "metadata": {
    "collapsed": false,
    "scrolled": true
   },
   "outputs": [
    {
     "data": {
      "text/plain": [
       "{'Age': '30',\n",
       " 'Club': 'Manchester United',\n",
       " 'Market Value': '£5.40m',\n",
       " 'Nationality': 'Argentina',\n",
       " 'Player Name': 'Sergio Romero',\n",
       " 'Position': 'Keeper'}"
      ]
     },
     "execution_count": 28,
     "metadata": {},
     "output_type": "execute_result"
    }
   ],
   "source": [
    "get_player_info(player1_row)"
   ]
  },
  {
   "cell_type": "markdown",
   "metadata": {},
   "source": [
    "Looks good! The next step would be loop this function through the 20 links we created in step 2."
   ]
  },
  {
   "cell_type": "markdown",
   "metadata": {},
   "source": [
    "# 4. Putting all together"
   ]
  },
  {
   "cell_type": "markdown",
   "metadata": {},
   "source": [
    "In this step, we will create a new list of player and append the next dictionary by iterating through each even and odd row. We then repeat the process for other clubs by using the list of 20 hyper links we extracted in step 2. "
   ]
  },
  {
   "cell_type": "code",
   "execution_count": 29,
   "metadata": {
    "collapsed": true
   },
   "outputs": [],
   "source": [
    "headers= {\"User-Agent\":\"Mozilla/5.0\"}\n",
    "player_lists=[]\n",
    "df=[]\n",
    "for x in range(len(external_links)):\n",
    "    url = external_links[x]\n",
    "    response = requests.get(url, headers=headers)\n",
    "    soup = bs4.BeautifulSoup(response.text, 'lxml')\n",
    "    club = soup.findAll('b')[0].text\n",
    "    for i in range(0,len(soup.findAll('tr',class_=\"even\"))-1):\n",
    "        player_even=soup.findAll('tr',class_=\"even\")[i]\n",
    "        player_lists.append(get_player_info(player_even))\n",
    "        \n",
    "    for i in range(0,len(soup.findAll('tr',class_=\"odd\"))-1):    \n",
    "        player_odd=soup.findAll('tr',class_=\"odd\")[i]\n",
    "        player_lists.append(get_player_info(player_odd))"
   ]
  },
  {
   "cell_type": "markdown",
   "metadata": {},
   "source": [
    "We then make a dataframe out of the list of dictionary lists we created earlier"
   ]
  },
  {
   "cell_type": "code",
   "execution_count": 30,
   "metadata": {
    "collapsed": true
   },
   "outputs": [],
   "source": [
    "df_orig=pd.DataFrame.from_dict(player_lists)\n",
    "# reorder dataframe\n",
    "df_orig=df_orig[['Player Name','Position','Age','Nationality','Club','Market Value']]"
   ]
  },
  {
   "cell_type": "markdown",
   "metadata": {},
   "source": [
    "We then view the final result. The list contains 482 players in the Premier League with 6 different attributes. From this, we can do some further analysis."
   ]
  },
  {
   "cell_type": "code",
   "execution_count": 31,
   "metadata": {
    "collapsed": false,
    "scrolled": true
   },
   "outputs": [
    {
     "data": {
      "text/html": [
       "<div>\n",
       "<style>\n",
       "    .dataframe thead tr:only-child th {\n",
       "        text-align: right;\n",
       "    }\n",
       "\n",
       "    .dataframe thead th {\n",
       "        text-align: left;\n",
       "    }\n",
       "\n",
       "    .dataframe tbody tr th {\n",
       "        vertical-align: top;\n",
       "    }\n",
       "</style>\n",
       "<table border=\"1\" class=\"dataframe\">\n",
       "  <thead>\n",
       "    <tr style=\"text-align: right;\">\n",
       "      <th></th>\n",
       "      <th>Player Name</th>\n",
       "      <th>Position</th>\n",
       "      <th>Age</th>\n",
       "      <th>Nationality</th>\n",
       "      <th>Club</th>\n",
       "      <th>Market Value</th>\n",
       "    </tr>\n",
       "  </thead>\n",
       "  <tbody>\n",
       "    <tr>\n",
       "      <th>0</th>\n",
       "      <td>Adam Federici</td>\n",
       "      <td>Keeper</td>\n",
       "      <td>32</td>\n",
       "      <td>Australia</td>\n",
       "      <td>AFC Bournemouth</td>\n",
       "      <td>£900k</td>\n",
       "    </tr>\n",
       "    <tr>\n",
       "      <th>1</th>\n",
       "      <td>Aaron Ramsdale</td>\n",
       "      <td>Keeper</td>\n",
       "      <td>19</td>\n",
       "      <td>England</td>\n",
       "      <td>AFC Bournemouth</td>\n",
       "      <td>£450k</td>\n",
       "    </tr>\n",
       "    <tr>\n",
       "      <th>2</th>\n",
       "      <td>Steve Cook</td>\n",
       "      <td>Centre-Back</td>\n",
       "      <td>26</td>\n",
       "      <td>England</td>\n",
       "      <td>AFC Bournemouth</td>\n",
       "      <td>£4.50m</td>\n",
       "    </tr>\n",
       "    <tr>\n",
       "      <th>3</th>\n",
       "      <td>Charlie Daniels</td>\n",
       "      <td>Left-Back</td>\n",
       "      <td>31</td>\n",
       "      <td>England</td>\n",
       "      <td>AFC Bournemouth</td>\n",
       "      <td>£2.70m</td>\n",
       "    </tr>\n",
       "    <tr>\n",
       "      <th>4</th>\n",
       "      <td>Rhoys Wiggins</td>\n",
       "      <td>Left-Back</td>\n",
       "      <td>29</td>\n",
       "      <td>Wales</td>\n",
       "      <td>AFC Bournemouth</td>\n",
       "      <td>£450k</td>\n",
       "    </tr>\n",
       "    <tr>\n",
       "      <th>5</th>\n",
       "      <td>Simon Francis</td>\n",
       "      <td>Right-Back</td>\n",
       "      <td>32</td>\n",
       "      <td>England</td>\n",
       "      <td>AFC Bournemouth</td>\n",
       "      <td>£2.25m</td>\n",
       "    </tr>\n",
       "    <tr>\n",
       "      <th>6</th>\n",
       "      <td>Dan Gosling</td>\n",
       "      <td>Central Midfield</td>\n",
       "      <td>27</td>\n",
       "      <td>England</td>\n",
       "      <td>AFC Bournemouth</td>\n",
       "      <td>£2.70m</td>\n",
       "    </tr>\n",
       "    <tr>\n",
       "      <th>7</th>\n",
       "      <td>Andrew Surman</td>\n",
       "      <td>Central Midfield</td>\n",
       "      <td>31</td>\n",
       "      <td>England</td>\n",
       "      <td>AFC Bournemouth</td>\n",
       "      <td>£1.80m</td>\n",
       "    </tr>\n",
       "    <tr>\n",
       "      <th>8</th>\n",
       "      <td>Ryan Fraser</td>\n",
       "      <td>Left Wing</td>\n",
       "      <td>23</td>\n",
       "      <td>Scotland</td>\n",
       "      <td>AFC Bournemouth</td>\n",
       "      <td>£4.50m</td>\n",
       "    </tr>\n",
       "    <tr>\n",
       "      <th>9</th>\n",
       "      <td>Marc Pugh</td>\n",
       "      <td>Left Wing</td>\n",
       "      <td>30</td>\n",
       "      <td>England</td>\n",
       "      <td>AFC Bournemouth</td>\n",
       "      <td>£1.80m</td>\n",
       "    </tr>\n",
       "    <tr>\n",
       "      <th>10</th>\n",
       "      <td>Connor Mahoney</td>\n",
       "      <td>Right Wing</td>\n",
       "      <td>20</td>\n",
       "      <td>England</td>\n",
       "      <td>AFC Bournemouth</td>\n",
       "      <td>£225k</td>\n",
       "    </tr>\n",
       "    <tr>\n",
       "      <th>11</th>\n",
       "      <td>Benik Afobe</td>\n",
       "      <td>Centre-Forward</td>\n",
       "      <td>24</td>\n",
       "      <td>Congo DR</td>\n",
       "      <td>AFC Bournemouth</td>\n",
       "      <td>£9.00m</td>\n",
       "    </tr>\n",
       "    <tr>\n",
       "      <th>12</th>\n",
       "      <td>Asmir Begovic</td>\n",
       "      <td>Keeper</td>\n",
       "      <td>30</td>\n",
       "      <td>Bosnia-Herzegovina</td>\n",
       "      <td>AFC Bournemouth</td>\n",
       "      <td>£7.20m</td>\n",
       "    </tr>\n",
       "    <tr>\n",
       "      <th>13</th>\n",
       "      <td>Artur Boruc</td>\n",
       "      <td>Keeper</td>\n",
       "      <td>37</td>\n",
       "      <td>Poland</td>\n",
       "      <td>AFC Bournemouth</td>\n",
       "      <td>£900k</td>\n",
       "    </tr>\n",
       "    <tr>\n",
       "      <th>14</th>\n",
       "      <td>Nathan Aké</td>\n",
       "      <td>Centre-Back</td>\n",
       "      <td>22</td>\n",
       "      <td>Netherlands</td>\n",
       "      <td>AFC Bournemouth</td>\n",
       "      <td>£10.80m</td>\n",
       "    </tr>\n",
       "    <tr>\n",
       "      <th>15</th>\n",
       "      <td>Tyrone Mings</td>\n",
       "      <td>Centre-Back</td>\n",
       "      <td>24</td>\n",
       "      <td>England</td>\n",
       "      <td>AFC Bournemouth</td>\n",
       "      <td>£4.50m</td>\n",
       "    </tr>\n",
       "    <tr>\n",
       "      <th>16</th>\n",
       "      <td>Brad Smith</td>\n",
       "      <td>Left-Back</td>\n",
       "      <td>23</td>\n",
       "      <td>Australia</td>\n",
       "      <td>AFC Bournemouth</td>\n",
       "      <td>£1.80m</td>\n",
       "    </tr>\n",
       "    <tr>\n",
       "      <th>17</th>\n",
       "      <td>Adam Smith</td>\n",
       "      <td>Right-Back</td>\n",
       "      <td>26</td>\n",
       "      <td>England</td>\n",
       "      <td>AFC Bournemouth</td>\n",
       "      <td>£4.50m</td>\n",
       "    </tr>\n",
       "    <tr>\n",
       "      <th>18</th>\n",
       "      <td>Lewis Cook</td>\n",
       "      <td>Central Midfield</td>\n",
       "      <td>20</td>\n",
       "      <td>England</td>\n",
       "      <td>AFC Bournemouth</td>\n",
       "      <td>£5.40m</td>\n",
       "    </tr>\n",
       "    <tr>\n",
       "      <th>19</th>\n",
       "      <td>Harry Arter</td>\n",
       "      <td>Central Midfield</td>\n",
       "      <td>27</td>\n",
       "      <td>Ireland</td>\n",
       "      <td>AFC Bournemouth</td>\n",
       "      <td>£2.25m</td>\n",
       "    </tr>\n",
       "    <tr>\n",
       "      <th>20</th>\n",
       "      <td>Emerson Hyndman</td>\n",
       "      <td>Central Midfield</td>\n",
       "      <td>21</td>\n",
       "      <td>United States</td>\n",
       "      <td>AFC Bournemouth</td>\n",
       "      <td>£900k</td>\n",
       "    </tr>\n",
       "    <tr>\n",
       "      <th>21</th>\n",
       "      <td>Junior Stanislas</td>\n",
       "      <td>Left Wing</td>\n",
       "      <td>27</td>\n",
       "      <td>England</td>\n",
       "      <td>AFC Bournemouth</td>\n",
       "      <td>£4.05m</td>\n",
       "    </tr>\n",
       "    <tr>\n",
       "      <th>22</th>\n",
       "      <td>Jordon Ibe</td>\n",
       "      <td>Right Wing</td>\n",
       "      <td>21</td>\n",
       "      <td>England</td>\n",
       "      <td>AFC Bournemouth</td>\n",
       "      <td>£7.20m</td>\n",
       "    </tr>\n",
       "    <tr>\n",
       "      <th>23</th>\n",
       "      <td>Joshua King</td>\n",
       "      <td>Secondary Striker</td>\n",
       "      <td>25</td>\n",
       "      <td>Norway</td>\n",
       "      <td>AFC Bournemouth</td>\n",
       "      <td>£7.20m</td>\n",
       "    </tr>\n",
       "    <tr>\n",
       "      <th>24</th>\n",
       "      <td>Callum Wilson</td>\n",
       "      <td>Centre-Forward</td>\n",
       "      <td>25</td>\n",
       "      <td>England</td>\n",
       "      <td>AFC Bournemouth</td>\n",
       "      <td>£9.00m</td>\n",
       "    </tr>\n",
       "    <tr>\n",
       "      <th>25</th>\n",
       "      <td>Tim Krul</td>\n",
       "      <td>Keeper</td>\n",
       "      <td>29</td>\n",
       "      <td>Netherlands</td>\n",
       "      <td>Brighton &amp; Hove Albion</td>\n",
       "      <td>£3.60m</td>\n",
       "    </tr>\n",
       "    <tr>\n",
       "      <th>26</th>\n",
       "      <td>Lewis Dunk</td>\n",
       "      <td>Centre-Back</td>\n",
       "      <td>25</td>\n",
       "      <td>England</td>\n",
       "      <td>Brighton &amp; Hove Albion</td>\n",
       "      <td>£4.50m</td>\n",
       "    </tr>\n",
       "    <tr>\n",
       "      <th>27</th>\n",
       "      <td>Uwe Hünemeier</td>\n",
       "      <td>Centre-Back</td>\n",
       "      <td>31</td>\n",
       "      <td>Germany</td>\n",
       "      <td>Brighton &amp; Hove Albion</td>\n",
       "      <td>£1.35m</td>\n",
       "    </tr>\n",
       "    <tr>\n",
       "      <th>28</th>\n",
       "      <td>Markus Suttner</td>\n",
       "      <td>Left-Back</td>\n",
       "      <td>30</td>\n",
       "      <td>Austria</td>\n",
       "      <td>Brighton &amp; Hove Albion</td>\n",
       "      <td>£2.70m</td>\n",
       "    </tr>\n",
       "    <tr>\n",
       "      <th>29</th>\n",
       "      <td>Ezequiel Schelotto</td>\n",
       "      <td>Right-Back</td>\n",
       "      <td>28</td>\n",
       "      <td>Italy</td>\n",
       "      <td>Brighton &amp; Hove Albion</td>\n",
       "      <td>£4.05m</td>\n",
       "    </tr>\n",
       "    <tr>\n",
       "      <th>...</th>\n",
       "      <td>...</td>\n",
       "      <td>...</td>\n",
       "      <td>...</td>\n",
       "      <td>...</td>\n",
       "      <td>...</td>\n",
       "      <td>...</td>\n",
       "    </tr>\n",
       "    <tr>\n",
       "      <th>452</th>\n",
       "      <td>Gareth McAuley</td>\n",
       "      <td>Centre-Back</td>\n",
       "      <td>37</td>\n",
       "      <td>Northern Ireland</td>\n",
       "      <td>West Bromwich Albion</td>\n",
       "      <td>£900k</td>\n",
       "    </tr>\n",
       "    <tr>\n",
       "      <th>453</th>\n",
       "      <td>Craig Dawson</td>\n",
       "      <td>Right-Back</td>\n",
       "      <td>27</td>\n",
       "      <td>England</td>\n",
       "      <td>West Bromwich Albion</td>\n",
       "      <td>£5.40m</td>\n",
       "    </tr>\n",
       "    <tr>\n",
       "      <th>454</th>\n",
       "      <td>Grzegorz Krychowiak</td>\n",
       "      <td>Defensive Midfield</td>\n",
       "      <td>27</td>\n",
       "      <td>Poland</td>\n",
       "      <td>West Bromwich Albion</td>\n",
       "      <td>£22.50m</td>\n",
       "    </tr>\n",
       "    <tr>\n",
       "      <th>455</th>\n",
       "      <td>Claudio Yacob</td>\n",
       "      <td>Defensive Midfield</td>\n",
       "      <td>30</td>\n",
       "      <td>Argentina</td>\n",
       "      <td>West Bromwich Albion</td>\n",
       "      <td>£3.60m</td>\n",
       "    </tr>\n",
       "    <tr>\n",
       "      <th>456</th>\n",
       "      <td>James Morrison</td>\n",
       "      <td>Central Midfield</td>\n",
       "      <td>31</td>\n",
       "      <td>Scotland</td>\n",
       "      <td>West Bromwich Albion</td>\n",
       "      <td>£4.50m</td>\n",
       "    </tr>\n",
       "    <tr>\n",
       "      <th>457</th>\n",
       "      <td>Chris Brunt</td>\n",
       "      <td>Left Midfield</td>\n",
       "      <td>32</td>\n",
       "      <td>Northern Ireland</td>\n",
       "      <td>West Bromwich Albion</td>\n",
       "      <td>£3.60m</td>\n",
       "    </tr>\n",
       "    <tr>\n",
       "      <th>458</th>\n",
       "      <td>James McClean</td>\n",
       "      <td>Left Wing</td>\n",
       "      <td>28</td>\n",
       "      <td>Ireland</td>\n",
       "      <td>West Bromwich Albion</td>\n",
       "      <td>£2.70m</td>\n",
       "    </tr>\n",
       "    <tr>\n",
       "      <th>459</th>\n",
       "      <td>Oliver Burke</td>\n",
       "      <td>Right Wing</td>\n",
       "      <td>20</td>\n",
       "      <td>Scotland</td>\n",
       "      <td>West Bromwich Albion</td>\n",
       "      <td>£10.80m</td>\n",
       "    </tr>\n",
       "    <tr>\n",
       "      <th>460</th>\n",
       "      <td>Adrián</td>\n",
       "      <td>Keeper</td>\n",
       "      <td>30</td>\n",
       "      <td>Spain</td>\n",
       "      <td>West Ham United</td>\n",
       "      <td>£4.50m</td>\n",
       "    </tr>\n",
       "    <tr>\n",
       "      <th>461</th>\n",
       "      <td>Angelo Ogbonna</td>\n",
       "      <td>Centre-Back</td>\n",
       "      <td>29</td>\n",
       "      <td>Italy</td>\n",
       "      <td>West Ham United</td>\n",
       "      <td>£8.10m</td>\n",
       "    </tr>\n",
       "    <tr>\n",
       "      <th>462</th>\n",
       "      <td>James Collins</td>\n",
       "      <td>Centre-Back</td>\n",
       "      <td>34</td>\n",
       "      <td>Wales</td>\n",
       "      <td>West Ham United</td>\n",
       "      <td>£1.80m</td>\n",
       "    </tr>\n",
       "    <tr>\n",
       "      <th>463</th>\n",
       "      <td>Doneil Henry</td>\n",
       "      <td>Centre-Back</td>\n",
       "      <td>24</td>\n",
       "      <td>Canada</td>\n",
       "      <td>West Ham United</td>\n",
       "      <td>£360k</td>\n",
       "    </tr>\n",
       "    <tr>\n",
       "      <th>464</th>\n",
       "      <td>Arthur Masuaku</td>\n",
       "      <td>Left-Back</td>\n",
       "      <td>23</td>\n",
       "      <td>Congo DR</td>\n",
       "      <td>West Ham United</td>\n",
       "      <td>£6.30m</td>\n",
       "    </tr>\n",
       "    <tr>\n",
       "      <th>465</th>\n",
       "      <td>Sam Byram</td>\n",
       "      <td>Right-Back</td>\n",
       "      <td>24</td>\n",
       "      <td>England</td>\n",
       "      <td>West Ham United</td>\n",
       "      <td>£4.05m</td>\n",
       "    </tr>\n",
       "    <tr>\n",
       "      <th>466</th>\n",
       "      <td>Pedro Obiang</td>\n",
       "      <td>Central Midfield</td>\n",
       "      <td>25</td>\n",
       "      <td>Spain</td>\n",
       "      <td>West Ham United</td>\n",
       "      <td>£8.10m</td>\n",
       "    </tr>\n",
       "    <tr>\n",
       "      <th>467</th>\n",
       "      <td>Edimilson Fernandes</td>\n",
       "      <td>Central Midfield</td>\n",
       "      <td>21</td>\n",
       "      <td>Switzerland</td>\n",
       "      <td>West Ham United</td>\n",
       "      <td>£4.50m</td>\n",
       "    </tr>\n",
       "    <tr>\n",
       "      <th>468</th>\n",
       "      <td>Manuel Lanzini</td>\n",
       "      <td>Attacking Midfield</td>\n",
       "      <td>24</td>\n",
       "      <td>Argentina</td>\n",
       "      <td>West Ham United</td>\n",
       "      <td>£13.50m</td>\n",
       "    </tr>\n",
       "    <tr>\n",
       "      <th>469</th>\n",
       "      <td>Marko Arnautovic</td>\n",
       "      <td>Left Wing</td>\n",
       "      <td>28</td>\n",
       "      <td>Austria</td>\n",
       "      <td>West Ham United</td>\n",
       "      <td>£13.50m</td>\n",
       "    </tr>\n",
       "    <tr>\n",
       "      <th>470</th>\n",
       "      <td>Chicharito</td>\n",
       "      <td>Centre-Forward</td>\n",
       "      <td>29</td>\n",
       "      <td>Mexico</td>\n",
       "      <td>West Ham United</td>\n",
       "      <td>£16.20m</td>\n",
       "    </tr>\n",
       "    <tr>\n",
       "      <th>471</th>\n",
       "      <td>Joe Hart</td>\n",
       "      <td>Keeper</td>\n",
       "      <td>30</td>\n",
       "      <td>England</td>\n",
       "      <td>West Ham United</td>\n",
       "      <td>£11.70m</td>\n",
       "    </tr>\n",
       "    <tr>\n",
       "      <th>472</th>\n",
       "      <td>Winston Reid</td>\n",
       "      <td>Centre-Back</td>\n",
       "      <td>29</td>\n",
       "      <td>New Zealand</td>\n",
       "      <td>West Ham United</td>\n",
       "      <td>£9.00m</td>\n",
       "    </tr>\n",
       "    <tr>\n",
       "      <th>473</th>\n",
       "      <td>José Fonte</td>\n",
       "      <td>Centre-Back</td>\n",
       "      <td>33</td>\n",
       "      <td>Portugal</td>\n",
       "      <td>West Ham United</td>\n",
       "      <td>£6.30m</td>\n",
       "    </tr>\n",
       "    <tr>\n",
       "      <th>474</th>\n",
       "      <td>Declan Rice</td>\n",
       "      <td>Centre-Back</td>\n",
       "      <td>18</td>\n",
       "      <td>Ireland</td>\n",
       "      <td>West Ham United</td>\n",
       "      <td>£450k</td>\n",
       "    </tr>\n",
       "    <tr>\n",
       "      <th>475</th>\n",
       "      <td>Aaron Cresswell</td>\n",
       "      <td>Left-Back</td>\n",
       "      <td>27</td>\n",
       "      <td>England</td>\n",
       "      <td>West Ham United</td>\n",
       "      <td>£10.80m</td>\n",
       "    </tr>\n",
       "    <tr>\n",
       "      <th>476</th>\n",
       "      <td>Pablo Zabaleta</td>\n",
       "      <td>Right-Back</td>\n",
       "      <td>32</td>\n",
       "      <td>Argentina</td>\n",
       "      <td>West Ham United</td>\n",
       "      <td>£6.30m</td>\n",
       "    </tr>\n",
       "    <tr>\n",
       "      <th>477</th>\n",
       "      <td>Cheikhou Kouyaté</td>\n",
       "      <td>Defensive Midfield</td>\n",
       "      <td>27</td>\n",
       "      <td>Senegal</td>\n",
       "      <td>West Ham United</td>\n",
       "      <td>£10.80m</td>\n",
       "    </tr>\n",
       "    <tr>\n",
       "      <th>478</th>\n",
       "      <td>Mark Noble</td>\n",
       "      <td>Central Midfield</td>\n",
       "      <td>30</td>\n",
       "      <td>England</td>\n",
       "      <td>West Ham United</td>\n",
       "      <td>£6.30m</td>\n",
       "    </tr>\n",
       "    <tr>\n",
       "      <th>479</th>\n",
       "      <td>Sead Haksabanovic</td>\n",
       "      <td>Left Midfield</td>\n",
       "      <td>18</td>\n",
       "      <td>Montenegro</td>\n",
       "      <td>West Ham United</td>\n",
       "      <td>£1.35m</td>\n",
       "    </tr>\n",
       "    <tr>\n",
       "      <th>480</th>\n",
       "      <td>André Ayew</td>\n",
       "      <td>Left Wing</td>\n",
       "      <td>27</td>\n",
       "      <td>Ghana</td>\n",
       "      <td>West Ham United</td>\n",
       "      <td>£16.20m</td>\n",
       "    </tr>\n",
       "    <tr>\n",
       "      <th>481</th>\n",
       "      <td>Michail Antonio</td>\n",
       "      <td>Right Wing</td>\n",
       "      <td>27</td>\n",
       "      <td>England</td>\n",
       "      <td>West Ham United</td>\n",
       "      <td>£16.20m</td>\n",
       "    </tr>\n",
       "  </tbody>\n",
       "</table>\n",
       "<p>482 rows × 6 columns</p>\n",
       "</div>"
      ],
      "text/plain": [
       "             Player Name            Position Age         Nationality  \\\n",
       "0          Adam Federici              Keeper  32           Australia   \n",
       "1         Aaron Ramsdale              Keeper  19             England   \n",
       "2             Steve Cook         Centre-Back  26             England   \n",
       "3        Charlie Daniels           Left-Back  31             England   \n",
       "4          Rhoys Wiggins           Left-Back  29               Wales   \n",
       "5          Simon Francis          Right-Back  32             England   \n",
       "6            Dan Gosling    Central Midfield  27             England   \n",
       "7          Andrew Surman    Central Midfield  31             England   \n",
       "8            Ryan Fraser           Left Wing  23            Scotland   \n",
       "9              Marc Pugh           Left Wing  30             England   \n",
       "10        Connor Mahoney          Right Wing  20             England   \n",
       "11           Benik Afobe      Centre-Forward  24            Congo DR   \n",
       "12         Asmir Begovic              Keeper  30  Bosnia-Herzegovina   \n",
       "13           Artur Boruc              Keeper  37              Poland   \n",
       "14            Nathan Aké         Centre-Back  22         Netherlands   \n",
       "15          Tyrone Mings         Centre-Back  24             England   \n",
       "16            Brad Smith           Left-Back  23           Australia   \n",
       "17            Adam Smith          Right-Back  26             England   \n",
       "18            Lewis Cook    Central Midfield  20             England   \n",
       "19           Harry Arter    Central Midfield  27             Ireland   \n",
       "20       Emerson Hyndman    Central Midfield  21       United States   \n",
       "21      Junior Stanislas           Left Wing  27             England   \n",
       "22            Jordon Ibe          Right Wing  21             England   \n",
       "23           Joshua King   Secondary Striker  25              Norway   \n",
       "24         Callum Wilson      Centre-Forward  25             England   \n",
       "25              Tim Krul              Keeper  29         Netherlands   \n",
       "26            Lewis Dunk         Centre-Back  25             England   \n",
       "27         Uwe Hünemeier         Centre-Back  31             Germany   \n",
       "28        Markus Suttner           Left-Back  30             Austria   \n",
       "29    Ezequiel Schelotto          Right-Back  28               Italy   \n",
       "..                   ...                 ...  ..                 ...   \n",
       "452       Gareth McAuley         Centre-Back  37    Northern Ireland   \n",
       "453         Craig Dawson          Right-Back  27             England   \n",
       "454  Grzegorz Krychowiak  Defensive Midfield  27              Poland   \n",
       "455        Claudio Yacob  Defensive Midfield  30           Argentina   \n",
       "456       James Morrison    Central Midfield  31            Scotland   \n",
       "457          Chris Brunt       Left Midfield  32    Northern Ireland   \n",
       "458        James McClean           Left Wing  28             Ireland   \n",
       "459         Oliver Burke          Right Wing  20            Scotland   \n",
       "460               Adrián              Keeper  30               Spain   \n",
       "461       Angelo Ogbonna         Centre-Back  29               Italy   \n",
       "462        James Collins         Centre-Back  34               Wales   \n",
       "463         Doneil Henry         Centre-Back  24              Canada   \n",
       "464       Arthur Masuaku           Left-Back  23            Congo DR   \n",
       "465            Sam Byram          Right-Back  24             England   \n",
       "466         Pedro Obiang    Central Midfield  25               Spain   \n",
       "467  Edimilson Fernandes    Central Midfield  21         Switzerland   \n",
       "468       Manuel Lanzini  Attacking Midfield  24           Argentina   \n",
       "469     Marko Arnautovic           Left Wing  28             Austria   \n",
       "470           Chicharito      Centre-Forward  29              Mexico   \n",
       "471             Joe Hart              Keeper  30             England   \n",
       "472         Winston Reid         Centre-Back  29         New Zealand   \n",
       "473           José Fonte         Centre-Back  33            Portugal   \n",
       "474          Declan Rice         Centre-Back  18             Ireland   \n",
       "475      Aaron Cresswell           Left-Back  27             England   \n",
       "476       Pablo Zabaleta          Right-Back  32           Argentina   \n",
       "477     Cheikhou Kouyaté  Defensive Midfield  27             Senegal   \n",
       "478           Mark Noble    Central Midfield  30             England   \n",
       "479    Sead Haksabanovic       Left Midfield  18          Montenegro   \n",
       "480           André Ayew           Left Wing  27               Ghana   \n",
       "481      Michail Antonio          Right Wing  27             England   \n",
       "\n",
       "                       Club Market Value  \n",
       "0           AFC Bournemouth        £900k  \n",
       "1           AFC Bournemouth        £450k  \n",
       "2           AFC Bournemouth       £4.50m  \n",
       "3           AFC Bournemouth       £2.70m  \n",
       "4           AFC Bournemouth        £450k  \n",
       "5           AFC Bournemouth       £2.25m  \n",
       "6           AFC Bournemouth       £2.70m  \n",
       "7           AFC Bournemouth       £1.80m  \n",
       "8           AFC Bournemouth       £4.50m  \n",
       "9           AFC Bournemouth       £1.80m  \n",
       "10          AFC Bournemouth        £225k  \n",
       "11          AFC Bournemouth       £9.00m  \n",
       "12          AFC Bournemouth       £7.20m  \n",
       "13          AFC Bournemouth        £900k  \n",
       "14          AFC Bournemouth      £10.80m  \n",
       "15          AFC Bournemouth       £4.50m  \n",
       "16          AFC Bournemouth       £1.80m  \n",
       "17          AFC Bournemouth       £4.50m  \n",
       "18          AFC Bournemouth       £5.40m  \n",
       "19          AFC Bournemouth       £2.25m  \n",
       "20          AFC Bournemouth        £900k  \n",
       "21          AFC Bournemouth       £4.05m  \n",
       "22          AFC Bournemouth       £7.20m  \n",
       "23          AFC Bournemouth       £7.20m  \n",
       "24          AFC Bournemouth       £9.00m  \n",
       "25   Brighton & Hove Albion       £3.60m  \n",
       "26   Brighton & Hove Albion       £4.50m  \n",
       "27   Brighton & Hove Albion       £1.35m  \n",
       "28   Brighton & Hove Albion       £2.70m  \n",
       "29   Brighton & Hove Albion       £4.05m  \n",
       "..                      ...          ...  \n",
       "452    West Bromwich Albion        £900k  \n",
       "453    West Bromwich Albion       £5.40m  \n",
       "454    West Bromwich Albion      £22.50m  \n",
       "455    West Bromwich Albion       £3.60m  \n",
       "456    West Bromwich Albion       £4.50m  \n",
       "457    West Bromwich Albion       £3.60m  \n",
       "458    West Bromwich Albion       £2.70m  \n",
       "459    West Bromwich Albion      £10.80m  \n",
       "460         West Ham United       £4.50m  \n",
       "461         West Ham United       £8.10m  \n",
       "462         West Ham United       £1.80m  \n",
       "463         West Ham United        £360k  \n",
       "464         West Ham United       £6.30m  \n",
       "465         West Ham United       £4.05m  \n",
       "466         West Ham United       £8.10m  \n",
       "467         West Ham United       £4.50m  \n",
       "468         West Ham United      £13.50m  \n",
       "469         West Ham United      £13.50m  \n",
       "470         West Ham United      £16.20m  \n",
       "471         West Ham United      £11.70m  \n",
       "472         West Ham United       £9.00m  \n",
       "473         West Ham United       £6.30m  \n",
       "474         West Ham United        £450k  \n",
       "475         West Ham United      £10.80m  \n",
       "476         West Ham United       £6.30m  \n",
       "477         West Ham United      £10.80m  \n",
       "478         West Ham United       £6.30m  \n",
       "479         West Ham United       £1.35m  \n",
       "480         West Ham United      £16.20m  \n",
       "481         West Ham United      £16.20m  \n",
       "\n",
       "[482 rows x 6 columns]"
      ]
     },
     "execution_count": 31,
     "metadata": {},
     "output_type": "execute_result"
    }
   ],
   "source": [
    "df_orig"
   ]
  },
  {
   "cell_type": "markdown",
   "metadata": {},
   "source": [
    "# 5. Analysis"
   ]
  },
  {
   "cell_type": "markdown",
   "metadata": {},
   "source": [
    "Our first step for analysis is to clean the data for any error/discrepancy. We convert the age and market value into numeric value for easier analysis later. Since the market value is formatted as k for thousand, m for million, we create a function to times the numeric value by 1,000 and 1,000,000 respectively."
   ]
  },
  {
   "cell_type": "code",
   "execution_count": 32,
   "metadata": {
    "collapsed": false,
    "scrolled": true
   },
   "outputs": [
    {
     "data": {
      "text/plain": [
       "Player Name     object\n",
       "Position        object\n",
       "Age             object\n",
       "Nationality     object\n",
       "Club            object\n",
       "Market Value    object\n",
       "dtype: object"
      ]
     },
     "execution_count": 32,
     "metadata": {},
     "output_type": "execute_result"
    }
   ],
   "source": [
    "df=df_orig\n",
    "df.dtypes"
   ]
  },
  {
   "cell_type": "code",
   "execution_count": 33,
   "metadata": {
    "collapsed": true
   },
   "outputs": [],
   "source": [
    "df['Age']=df['Age'].astype(int)"
   ]
  },
  {
   "cell_type": "code",
   "execution_count": 34,
   "metadata": {
    "collapsed": true
   },
   "outputs": [],
   "source": [
    "df['Market Value']=df['Market Value'].str.strip('£')"
   ]
  },
  {
   "cell_type": "code",
   "execution_count": 35,
   "metadata": {
    "collapsed": true
   },
   "outputs": [],
   "source": [
    "def format_number(string):\n",
    "    if string.endswith('m'): return float(string.split('m')[0])*1000000\n",
    "    if string.endswith('k'): return float(string.split('k')[0])*1000"
   ]
  },
  {
   "cell_type": "code",
   "execution_count": 36,
   "metadata": {
    "collapsed": false
   },
   "outputs": [
    {
     "name": "stderr",
     "output_type": "stream",
     "text": [
      "/home/nam/anaconda3/lib/python3.6/site-packages/ipykernel_launcher.py:2: SettingWithCopyWarning: \n",
      "A value is trying to be set on a copy of a slice from a DataFrame\n",
      "\n",
      "See the caveats in the documentation: http://pandas.pydata.org/pandas-docs/stable/indexing.html#indexing-view-versus-copy\n",
      "  \n"
     ]
    }
   ],
   "source": [
    "for i in range(len(df)):\n",
    "    df['Market Value'][i]=format_number(df['Market Value'][i])"
   ]
  },
  {
   "cell_type": "code",
   "execution_count": 37,
   "metadata": {
    "collapsed": false,
    "scrolled": true
   },
   "outputs": [
    {
     "data": {
      "text/html": [
       "<div>\n",
       "<style>\n",
       "    .dataframe thead tr:only-child th {\n",
       "        text-align: right;\n",
       "    }\n",
       "\n",
       "    .dataframe thead th {\n",
       "        text-align: left;\n",
       "    }\n",
       "\n",
       "    .dataframe tbody tr th {\n",
       "        vertical-align: top;\n",
       "    }\n",
       "</style>\n",
       "<table border=\"1\" class=\"dataframe\">\n",
       "  <thead>\n",
       "    <tr style=\"text-align: right;\">\n",
       "      <th></th>\n",
       "      <th>Player Name</th>\n",
       "      <th>Position</th>\n",
       "      <th>Age</th>\n",
       "      <th>Nationality</th>\n",
       "      <th>Club</th>\n",
       "      <th>Market Value</th>\n",
       "    </tr>\n",
       "  </thead>\n",
       "  <tbody>\n",
       "    <tr>\n",
       "      <th>0</th>\n",
       "      <td>Adam Federici</td>\n",
       "      <td>Keeper</td>\n",
       "      <td>32</td>\n",
       "      <td>Australia</td>\n",
       "      <td>AFC Bournemouth</td>\n",
       "      <td>900000.0</td>\n",
       "    </tr>\n",
       "    <tr>\n",
       "      <th>1</th>\n",
       "      <td>Aaron Ramsdale</td>\n",
       "      <td>Keeper</td>\n",
       "      <td>19</td>\n",
       "      <td>England</td>\n",
       "      <td>AFC Bournemouth</td>\n",
       "      <td>450000.0</td>\n",
       "    </tr>\n",
       "    <tr>\n",
       "      <th>2</th>\n",
       "      <td>Steve Cook</td>\n",
       "      <td>Centre-Back</td>\n",
       "      <td>26</td>\n",
       "      <td>England</td>\n",
       "      <td>AFC Bournemouth</td>\n",
       "      <td>4500000.0</td>\n",
       "    </tr>\n",
       "    <tr>\n",
       "      <th>3</th>\n",
       "      <td>Charlie Daniels</td>\n",
       "      <td>Left-Back</td>\n",
       "      <td>31</td>\n",
       "      <td>England</td>\n",
       "      <td>AFC Bournemouth</td>\n",
       "      <td>2700000.0</td>\n",
       "    </tr>\n",
       "    <tr>\n",
       "      <th>4</th>\n",
       "      <td>Rhoys Wiggins</td>\n",
       "      <td>Left-Back</td>\n",
       "      <td>29</td>\n",
       "      <td>Wales</td>\n",
       "      <td>AFC Bournemouth</td>\n",
       "      <td>450000.0</td>\n",
       "    </tr>\n",
       "  </tbody>\n",
       "</table>\n",
       "</div>"
      ],
      "text/plain": [
       "       Player Name     Position  Age Nationality             Club  \\\n",
       "0    Adam Federici       Keeper   32   Australia  AFC Bournemouth   \n",
       "1   Aaron Ramsdale       Keeper   19     England  AFC Bournemouth   \n",
       "2       Steve Cook  Centre-Back   26     England  AFC Bournemouth   \n",
       "3  Charlie Daniels    Left-Back   31     England  AFC Bournemouth   \n",
       "4    Rhoys Wiggins    Left-Back   29       Wales  AFC Bournemouth   \n",
       "\n",
       "   Market Value  \n",
       "0      900000.0  \n",
       "1      450000.0  \n",
       "2     4500000.0  \n",
       "3     2700000.0  \n",
       "4      450000.0  "
      ]
     },
     "execution_count": 37,
     "metadata": {},
     "output_type": "execute_result"
    }
   ],
   "source": [
    "df['Market Value']=df['Market Value'].astype(float)\n",
    "# new data \n",
    "df.head()"
   ]
  },
  {
   "cell_type": "code",
   "execution_count": 38,
   "metadata": {
    "collapsed": false,
    "scrolled": false
   },
   "outputs": [
    {
     "data": {
      "text/plain": [
       "Player Name      object\n",
       "Position         object\n",
       "Age               int64\n",
       "Nationality      object\n",
       "Club             object\n",
       "Market Value    float64\n",
       "dtype: object"
      ]
     },
     "execution_count": 38,
     "metadata": {},
     "output_type": "execute_result"
    }
   ],
   "source": [
    "df.dtypes"
   ]
  },
  {
   "cell_type": "markdown",
   "metadata": {},
   "source": [
    "Next, we want to check for any null/missing values. We realize there is one player without transfer value"
   ]
  },
  {
   "cell_type": "code",
   "execution_count": 39,
   "metadata": {
    "collapsed": false,
    "scrolled": true
   },
   "outputs": [
    {
     "data": {
      "text/plain": [
       "Player Name     0\n",
       "Position        0\n",
       "Age             0\n",
       "Nationality     0\n",
       "Club            0\n",
       "Market Value    1\n",
       "dtype: int64"
      ]
     },
     "execution_count": 39,
     "metadata": {},
     "output_type": "execute_result"
    }
   ],
   "source": [
    "pd.isnull(df).sum()"
   ]
  },
  {
   "cell_type": "code",
   "execution_count": 40,
   "metadata": {
    "collapsed": false
   },
   "outputs": [
    {
     "data": {
      "text/html": [
       "<div>\n",
       "<style>\n",
       "    .dataframe thead tr:only-child th {\n",
       "        text-align: right;\n",
       "    }\n",
       "\n",
       "    .dataframe thead th {\n",
       "        text-align: left;\n",
       "    }\n",
       "\n",
       "    .dataframe tbody tr th {\n",
       "        vertical-align: top;\n",
       "    }\n",
       "</style>\n",
       "<table border=\"1\" class=\"dataframe\">\n",
       "  <thead>\n",
       "    <tr style=\"text-align: right;\">\n",
       "      <th></th>\n",
       "      <th>Player Name</th>\n",
       "      <th>Position</th>\n",
       "      <th>Age</th>\n",
       "      <th>Nationality</th>\n",
       "      <th>Club</th>\n",
       "      <th>Market Value</th>\n",
       "    </tr>\n",
       "  </thead>\n",
       "  <tbody>\n",
       "    <tr>\n",
       "      <th>65</th>\n",
       "      <td>Kleton Perntreou</td>\n",
       "      <td>Keeper</td>\n",
       "      <td>22</td>\n",
       "      <td>Albania</td>\n",
       "      <td>Crystal Palace</td>\n",
       "      <td>NaN</td>\n",
       "    </tr>\n",
       "  </tbody>\n",
       "</table>\n",
       "</div>"
      ],
      "text/plain": [
       "         Player Name Position  Age Nationality            Club  Market Value\n",
       "65  Kleton Perntreou   Keeper   22     Albania  Crystal Palace           NaN"
      ]
     },
     "execution_count": 40,
     "metadata": {},
     "output_type": "execute_result"
    }
   ],
   "source": [
    "df[pd.isnull(df['Market Value'])]"
   ]
  },
  {
   "cell_type": "markdown",
   "metadata": {},
   "source": [
    "We went to the team page for Crystal Palace and looked up the problem. Apparently, Kleton Perntreou does not have a market value. It is either this player is new or Transfer Market does not have enough information to evaluate this player. For the purpose of the analysis, we will remove this player."
   ]
  },
  {
   "cell_type": "code",
   "execution_count": 41,
   "metadata": {
    "collapsed": true
   },
   "outputs": [],
   "source": [
    "df=df[pd.notnull(df['Market Value'])]"
   ]
  },
  {
   "cell_type": "code",
   "execution_count": 42,
   "metadata": {
    "collapsed": false
   },
   "outputs": [
    {
     "data": {
      "text/plain": [
       "Player Name     0\n",
       "Position        0\n",
       "Age             0\n",
       "Nationality     0\n",
       "Club            0\n",
       "Market Value    0\n",
       "dtype: int64"
      ]
     },
     "execution_count": 42,
     "metadata": {},
     "output_type": "execute_result"
    }
   ],
   "source": [
    "pd.isnull(df).sum()"
   ]
  },
  {
   "cell_type": "markdown",
   "metadata": {},
   "source": [
    "## Most valuable players in the league\n",
    "The most valuable players in the league are in the 40-70 millions pound range, age ranging from 23-26. Dele Alli stands out as one of the youngest and valuable, indicating his value potentially will increase in the future. Out of the top 10, only Kante plays in a defensive position."
   ]
  },
  {
   "cell_type": "code",
   "execution_count": 43,
   "metadata": {
    "collapsed": false,
    "scrolled": true
   },
   "outputs": [
    {
     "data": {
      "text/html": [
       "<div>\n",
       "<style>\n",
       "    .dataframe thead tr:only-child th {\n",
       "        text-align: right;\n",
       "    }\n",
       "\n",
       "    .dataframe thead th {\n",
       "        text-align: left;\n",
       "    }\n",
       "\n",
       "    .dataframe tbody tr th {\n",
       "        vertical-align: top;\n",
       "    }\n",
       "</style>\n",
       "<table border=\"1\" class=\"dataframe\">\n",
       "  <thead>\n",
       "    <tr style=\"text-align: right;\">\n",
       "      <th></th>\n",
       "      <th>Player Name</th>\n",
       "      <th>Position</th>\n",
       "      <th>Age</th>\n",
       "      <th>Nationality</th>\n",
       "      <th>Club</th>\n",
       "      <th>Market Value</th>\n",
       "    </tr>\n",
       "  </thead>\n",
       "  <tbody>\n",
       "    <tr>\n",
       "      <th>342</th>\n",
       "      <td>Paul Pogba</td>\n",
       "      <td>Central Midfield</td>\n",
       "      <td>24</td>\n",
       "      <td>France</td>\n",
       "      <td>Manchester United</td>\n",
       "      <td>67500000.0</td>\n",
       "    </tr>\n",
       "    <tr>\n",
       "      <th>311</th>\n",
       "      <td>Kevin De Bruyne</td>\n",
       "      <td>Attacking Midfield</td>\n",
       "      <td>26</td>\n",
       "      <td>Belgium</td>\n",
       "      <td>Manchester City</td>\n",
       "      <td>67500000.0</td>\n",
       "    </tr>\n",
       "    <tr>\n",
       "      <th>145</th>\n",
       "      <td>Eden Hazard</td>\n",
       "      <td>Left Wing</td>\n",
       "      <td>26</td>\n",
       "      <td>Belgium</td>\n",
       "      <td>Chelsea FC</td>\n",
       "      <td>67500000.0</td>\n",
       "    </tr>\n",
       "    <tr>\n",
       "      <th>346</th>\n",
       "      <td>Romelu Lukaku</td>\n",
       "      <td>Centre-Forward</td>\n",
       "      <td>24</td>\n",
       "      <td>Belgium</td>\n",
       "      <td>Manchester United</td>\n",
       "      <td>63000000.0</td>\n",
       "    </tr>\n",
       "    <tr>\n",
       "      <th>185</th>\n",
       "      <td>Philippe Coutinho</td>\n",
       "      <td>Attacking Midfield</td>\n",
       "      <td>25</td>\n",
       "      <td>Brazil</td>\n",
       "      <td>Liverpool FC</td>\n",
       "      <td>58500000.0</td>\n",
       "    </tr>\n",
       "    <tr>\n",
       "      <th>86</th>\n",
       "      <td>Alexis Sánchez</td>\n",
       "      <td>Left Wing</td>\n",
       "      <td>28</td>\n",
       "      <td>Chile</td>\n",
       "      <td>Arsenal FC</td>\n",
       "      <td>58500000.0</td>\n",
       "    </tr>\n",
       "    <tr>\n",
       "      <th>426</th>\n",
       "      <td>Dele Alli</td>\n",
       "      <td>Attacking Midfield</td>\n",
       "      <td>21</td>\n",
       "      <td>England</td>\n",
       "      <td>Tottenham Hotspur</td>\n",
       "      <td>54000000.0</td>\n",
       "    </tr>\n",
       "    <tr>\n",
       "      <th>186</th>\n",
       "      <td>Sadio Mané</td>\n",
       "      <td>Left Wing</td>\n",
       "      <td>25</td>\n",
       "      <td>Senegal</td>\n",
       "      <td>Liverpool FC</td>\n",
       "      <td>45000000.0</td>\n",
       "    </tr>\n",
       "    <tr>\n",
       "      <th>313</th>\n",
       "      <td>Raheem Sterling</td>\n",
       "      <td>Right Wing</td>\n",
       "      <td>22</td>\n",
       "      <td>England</td>\n",
       "      <td>Manchester City</td>\n",
       "      <td>45000000.0</td>\n",
       "    </tr>\n",
       "    <tr>\n",
       "      <th>143</th>\n",
       "      <td>N'Golo Kanté</td>\n",
       "      <td>Defensive Midfield</td>\n",
       "      <td>26</td>\n",
       "      <td>France</td>\n",
       "      <td>Chelsea FC</td>\n",
       "      <td>45000000.0</td>\n",
       "    </tr>\n",
       "  </tbody>\n",
       "</table>\n",
       "</div>"
      ],
      "text/plain": [
       "           Player Name            Position  Age Nationality  \\\n",
       "342         Paul Pogba    Central Midfield   24      France   \n",
       "311    Kevin De Bruyne  Attacking Midfield   26     Belgium   \n",
       "145        Eden Hazard           Left Wing   26     Belgium   \n",
       "346      Romelu Lukaku      Centre-Forward   24     Belgium   \n",
       "185  Philippe Coutinho  Attacking Midfield   25      Brazil   \n",
       "86      Alexis Sánchez           Left Wing   28       Chile   \n",
       "426          Dele Alli  Attacking Midfield   21     England   \n",
       "186         Sadio Mané           Left Wing   25     Senegal   \n",
       "313    Raheem Sterling          Right Wing   22     England   \n",
       "143       N'Golo Kanté  Defensive Midfield   26      France   \n",
       "\n",
       "                  Club  Market Value  \n",
       "342  Manchester United    67500000.0  \n",
       "311    Manchester City    67500000.0  \n",
       "145         Chelsea FC    67500000.0  \n",
       "346  Manchester United    63000000.0  \n",
       "185       Liverpool FC    58500000.0  \n",
       "86          Arsenal FC    58500000.0  \n",
       "426  Tottenham Hotspur    54000000.0  \n",
       "186       Liverpool FC    45000000.0  \n",
       "313    Manchester City    45000000.0  \n",
       "143         Chelsea FC    45000000.0  "
      ]
     },
     "execution_count": 43,
     "metadata": {},
     "output_type": "execute_result"
    }
   ],
   "source": [
    "df.sort_values('Market Value',ascending=False).head(10)"
   ]
  },
  {
   "cell_type": "markdown",
   "metadata": {},
   "source": [
    "## Most valuable young players\n",
    "We also look at some of the young talent playing in the country. These players mainly come from England, with value less than 20 million pounds. They tend to play for small and mid-size clubs, also in attacking position."
   ]
  },
  {
   "cell_type": "code",
   "execution_count": 44,
   "metadata": {
    "collapsed": false,
    "scrolled": false
   },
   "outputs": [
    {
     "name": "stderr",
     "output_type": "stream",
     "text": [
      "/home/nam/anaconda3/lib/python3.6/site-packages/ipykernel_launcher.py:1: UserWarning: Boolean Series key will be reindexed to match DataFrame index.\n",
      "  \"\"\"Entry point for launching an IPython kernel.\n"
     ]
    },
    {
     "data": {
      "text/html": [
       "<div>\n",
       "<style>\n",
       "    .dataframe thead tr:only-child th {\n",
       "        text-align: right;\n",
       "    }\n",
       "\n",
       "    .dataframe thead th {\n",
       "        text-align: left;\n",
       "    }\n",
       "\n",
       "    .dataframe tbody tr th {\n",
       "        vertical-align: top;\n",
       "    }\n",
       "</style>\n",
       "<table border=\"1\" class=\"dataframe\">\n",
       "  <thead>\n",
       "    <tr style=\"text-align: right;\">\n",
       "      <th></th>\n",
       "      <th>Player Name</th>\n",
       "      <th>Position</th>\n",
       "      <th>Age</th>\n",
       "      <th>Nationality</th>\n",
       "      <th>Club</th>\n",
       "      <th>Market Value</th>\n",
       "    </tr>\n",
       "  </thead>\n",
       "  <tbody>\n",
       "    <tr>\n",
       "      <th>399</th>\n",
       "      <td>Renato Sanches</td>\n",
       "      <td>Central Midfield</td>\n",
       "      <td>20</td>\n",
       "      <td>Portugal</td>\n",
       "      <td>Swansea City</td>\n",
       "      <td>19800000.0</td>\n",
       "    </tr>\n",
       "    <tr>\n",
       "      <th>286</th>\n",
       "      <td>Wilfred Ndidi</td>\n",
       "      <td>Defensive Midfield</td>\n",
       "      <td>20</td>\n",
       "      <td>Nigeria</td>\n",
       "      <td>Leicester City</td>\n",
       "      <td>12600000.0</td>\n",
       "    </tr>\n",
       "    <tr>\n",
       "      <th>459</th>\n",
       "      <td>Oliver Burke</td>\n",
       "      <td>Right Wing</td>\n",
       "      <td>20</td>\n",
       "      <td>Scotland</td>\n",
       "      <td>West Bromwich Albion</td>\n",
       "      <td>10800000.0</td>\n",
       "    </tr>\n",
       "    <tr>\n",
       "      <th>405</th>\n",
       "      <td>Tammy Abraham</td>\n",
       "      <td>Centre-Forward</td>\n",
       "      <td>20</td>\n",
       "      <td>England</td>\n",
       "      <td>Swansea City</td>\n",
       "      <td>9000000.0</td>\n",
       "    </tr>\n",
       "    <tr>\n",
       "      <th>170</th>\n",
       "      <td>Tom Davies</td>\n",
       "      <td>Central Midfield</td>\n",
       "      <td>19</td>\n",
       "      <td>England</td>\n",
       "      <td>Everton FC</td>\n",
       "      <td>7200000.0</td>\n",
       "    </tr>\n",
       "    <tr>\n",
       "      <th>175</th>\n",
       "      <td>Dominic Calvert-Lewin</td>\n",
       "      <td>Secondary Striker</td>\n",
       "      <td>20</td>\n",
       "      <td>England</td>\n",
       "      <td>Everton FC</td>\n",
       "      <td>7200000.0</td>\n",
       "    </tr>\n",
       "    <tr>\n",
       "      <th>192</th>\n",
       "      <td>Joe Gomez</td>\n",
       "      <td>Centre-Back</td>\n",
       "      <td>20</td>\n",
       "      <td>England</td>\n",
       "      <td>Liverpool FC</td>\n",
       "      <td>7200000.0</td>\n",
       "    </tr>\n",
       "    <tr>\n",
       "      <th>172</th>\n",
       "      <td>Nikola Vlasic</td>\n",
       "      <td>Attacking Midfield</td>\n",
       "      <td>20</td>\n",
       "      <td>Croatia</td>\n",
       "      <td>Everton FC</td>\n",
       "      <td>7200000.0</td>\n",
       "    </tr>\n",
       "    <tr>\n",
       "      <th>254</th>\n",
       "      <td>Richarlison</td>\n",
       "      <td>Left Wing</td>\n",
       "      <td>20</td>\n",
       "      <td>Brazil</td>\n",
       "      <td>Watford FC</td>\n",
       "      <td>6300000.0</td>\n",
       "    </tr>\n",
       "    <tr>\n",
       "      <th>18</th>\n",
       "      <td>Lewis Cook</td>\n",
       "      <td>Central Midfield</td>\n",
       "      <td>20</td>\n",
       "      <td>England</td>\n",
       "      <td>AFC Bournemouth</td>\n",
       "      <td>5400000.0</td>\n",
       "    </tr>\n",
       "  </tbody>\n",
       "</table>\n",
       "</div>"
      ],
      "text/plain": [
       "               Player Name            Position  Age Nationality  \\\n",
       "399         Renato Sanches    Central Midfield   20    Portugal   \n",
       "286          Wilfred Ndidi  Defensive Midfield   20     Nigeria   \n",
       "459           Oliver Burke          Right Wing   20    Scotland   \n",
       "405          Tammy Abraham      Centre-Forward   20     England   \n",
       "170             Tom Davies    Central Midfield   19     England   \n",
       "175  Dominic Calvert-Lewin   Secondary Striker   20     England   \n",
       "192              Joe Gomez         Centre-Back   20     England   \n",
       "172          Nikola Vlasic  Attacking Midfield   20     Croatia   \n",
       "254            Richarlison           Left Wing   20      Brazil   \n",
       "18              Lewis Cook    Central Midfield   20     England   \n",
       "\n",
       "                     Club  Market Value  \n",
       "399          Swansea City    19800000.0  \n",
       "286        Leicester City    12600000.0  \n",
       "459  West Bromwich Albion    10800000.0  \n",
       "405          Swansea City     9000000.0  \n",
       "170            Everton FC     7200000.0  \n",
       "175            Everton FC     7200000.0  \n",
       "192          Liverpool FC     7200000.0  \n",
       "172            Everton FC     7200000.0  \n",
       "254            Watford FC     6300000.0  \n",
       "18        AFC Bournemouth     5400000.0  "
      ]
     },
     "execution_count": 44,
     "metadata": {},
     "output_type": "execute_result"
    }
   ],
   "source": [
    "df.sort_values('Market Value',ascending=False)[df.Age<=20].head(10)"
   ]
  },
  {
   "cell_type": "markdown",
   "metadata": {},
   "source": [
    "## Most valuable team in the league\n",
    "We can quickly identify the top 6 teams in the Premier League, namely Chelsea, Man Utd, Man City, Liverpool, Arsenal and Tottenham. These are also the six teams that perform consistently well over the past few years. Using total value, Chelsea has the most valuable team, followed closely by Man Utd. However, using average value by players, Man City players are worth more. "
   ]
  },
  {
   "cell_type": "code",
   "execution_count": 45,
   "metadata": {
    "collapsed": true
   },
   "outputs": [],
   "source": [
    "tick = mtick.StrMethodFormatter(fmt)\n",
    "pd.options.display.float_format = '${:,.2f}'.format"
   ]
  },
  {
   "cell_type": "code",
   "execution_count": 46,
   "metadata": {
    "collapsed": false,
    "scrolled": false
   },
   "outputs": [
    {
     "data": {
      "image/png": "[encoded data removed]",
      "text/plain": [
       "<matplotlib.figure.Figure at 0x7f70fb38a390>"
      ]
     },
     "metadata": {},
     "output_type": "display_data"
    }
   ],
   "source": [
    "df_value_by_club=(df.groupby('Club')['Market Value'].sum())\n",
    "df_value_by_club=df_value_by_club.sort_values(ascending=False)\n",
    "plot1=df_value_by_club.plot.bar()\n",
    "plot1.yaxis.set_major_formatter(tick) "
   ]
  },
  {
   "cell_type": "code",
   "execution_count": 47,
   "metadata": {
    "collapsed": false
   },
   "outputs": [
    {
     "data": {
      "image/png": "[encoded data removed]",
      "text/plain": [
       "<matplotlib.figure.Figure at 0x7f70fac92390>"
      ]
     },
     "metadata": {},
     "output_type": "display_data"
    }
   ],
   "source": [
    "df_avg_value_by_club=(df.groupby('Club')['Market Value'].mean())\n",
    "df_avg_value_by_club=df_avg_value_by_club.sort_values(ascending=False)\n",
    "plot2=df_avg_value_by_club.plot.bar()\n",
    "plot2.yaxis.set_major_formatter(tick) "
   ]
  },
  {
   "cell_type": "markdown",
   "metadata": {},
   "source": [
    "## Value breakdown by position\n",
    "We can see that attacking players tend to have higher valuation. Left back, right back, and keeper are among the lowest average value. Another thing to note is that while right Midfields are valued relatively high, left midfield are at the bottom of the list."
   ]
  },
  {
   "cell_type": "code",
   "execution_count": 48,
   "metadata": {
    "collapsed": false,
    "scrolled": true
   },
   "outputs": [
    {
     "data": {
      "image/png": "[encoded data removed]",
      "text/plain": [
       "<matplotlib.figure.Figure at 0x7f70fad2eda0>"
      ]
     },
     "metadata": {},
     "output_type": "display_data"
    }
   ],
   "source": [
    "df_value_by_position=df.groupby('Position')['Market Value'].mean()\n",
    "df_value_by_position=df_value_by_position.sort_values(ascending=False)\n",
    "plot2=df_value_by_position.plot.bar(title='Average value by Position')\n",
    "plot2.yaxis.set_major_formatter(tick) "
   ]
  },
  {
   "cell_type": "markdown",
   "metadata": {},
   "source": [
    "## Value breakdown by countries\n",
    "Sorting by nationality, we can see Chile and Armenia has the highest average value. However, this could be because only a handful of talented players from these countries can play in the UK. Comparing the average value to the number of players from countries playing in the Premier League, we can see that Belgium, France, and Germany have both a high average transfer value and large number of players, thus contributing largely to the quality of the league."
   ]
  },
  {
   "cell_type": "code",
   "execution_count": 49,
   "metadata": {
    "collapsed": false
   },
   "outputs": [
    {
     "data": {
      "text/plain": [
       "Nationality\n",
       "Chile     $32,850,000.00\n",
       "Armenia   $31,500,000.00\n",
       "Belgium   $25,453,125.00\n",
       "Algeria   $24,750,000.00\n",
       "Kenya     $22,500,000.00\n",
       "Brazil    $19,800,000.00\n",
       "France    $18,036,000.00\n",
       "Mexico    $16,200,000.00\n",
       "Spain     $14,950,000.00\n",
       "Germany   $14,882,142.86\n",
       "Name: Market Value, dtype: float64"
      ]
     },
     "execution_count": 49,
     "metadata": {},
     "output_type": "execute_result"
    }
   ],
   "source": [
    "df_value_by_nationality=df.groupby('Nationality')['Market Value'].mean()\n",
    "df_value_by_nationality.sort_values(ascending=False).head(10)"
   ]
  },
  {
   "cell_type": "code",
   "execution_count": 50,
   "metadata": {
    "collapsed": false,
    "scrolled": true
   },
   "outputs": [
    {
     "data": {
      "text/plain": [
       "Nationality\n",
       "England        156\n",
       "Spain           27\n",
       "France          25\n",
       "Netherlands     23\n",
       "Ireland         16\n",
       "Belgium         16\n",
       "Argentina       14\n",
       "Germany         14\n",
       "Wales           13\n",
       "Scotland        12\n",
       "Name: Market Value, dtype: int64"
      ]
     },
     "execution_count": 50,
     "metadata": {},
     "output_type": "execute_result"
    }
   ],
   "source": [
    "df_count_by_nationality=df.groupby('Nationality')['Market Value'].count()\n",
    "df_count_by_nationality.sort_values(ascending=False).head(10)"
   ]
  },
  {
   "cell_type": "markdown",
   "metadata": {},
   "source": [
    "## Relationship between Age and Market Value"
   ]
  },
  {
   "cell_type": "markdown",
   "metadata": {},
   "source": [
    "We then look at the distribution of age and market value. The majority of players falls between 25 and 30. The majority of value are under 20 million pounds"
   ]
  },
  {
   "cell_type": "code",
   "execution_count": 51,
   "metadata": {
    "collapsed": false
   },
   "outputs": [
    {
     "data": {
      "text/plain": [
       "<matplotlib.axes._subplots.AxesSubplot at 0x7f70facc0fd0>"
      ]
     },
     "execution_count": 51,
     "metadata": {},
     "output_type": "execute_result"
    },
    {
     "data": {
      "image/png": "[encoded data removed]",
      "text/plain": [
       "<matplotlib.figure.Figure at 0x7f70fac45240>"
      ]
     },
     "metadata": {},
     "output_type": "display_data"
    }
   ],
   "source": [
    "sns.distplot(df['Age'])"
   ]
  },
  {
   "cell_type": "code",
   "execution_count": 54,
   "metadata": {
    "collapsed": false,
    "scrolled": false
   },
   "outputs": [
    {
     "data": {
      "image/png": "[encoded data removed]",
      "text/plain": [
       "<matplotlib.figure.Figure at 0x7f70fa87cf60>"
      ]
     },
     "metadata": {},
     "output_type": "display_data"
    }
   ],
   "source": [
    "plot3=sns.distplot(df['Market Value'])\n",
    "#plot3.xaxis.set_major_formatter(FormatStrFormatter('%.0f'))\n",
    "#plot3.yaxis.set_major_formatter(FormatStrFormatter('%.5f'))"
   ]
  },
  {
   "cell_type": "markdown",
   "metadata": {},
   "source": [
    "To observe the relationship between age and market value, we use a scatterplot. This graph tells us that a player's value peaks at 25-27 then decreases over time."
   ]
  },
  {
   "cell_type": "code",
   "execution_count": 53,
   "metadata": {
    "collapsed": false,
    "scrolled": true
   },
   "outputs": [
    {
     "data": {
      "image/png": "[encoded data removed]",
      "text/plain": [
       "<matplotlib.figure.Figure at 0x7f70faab4828>"
      ]
     },
     "metadata": {},
     "output_type": "display_data"
    }
   ],
   "source": [
    "#scatter plot grlivarea/saleprice\n",
    "var = 'Age'\n",
    "data = pd.concat([df['Market Value'], df[var]], axis=1)\n",
    "plot3=data.plot.scatter(x=var, y='Market Value')\n",
    "plot3.yaxis.set_major_formatter(tick) "
   ]
  },
  {
   "cell_type": "markdown",
   "metadata": {},
   "source": [
    "## Distribution of market value player within teams\n",
    "We then graph the boxplot to view the distribution of market value from each club. As we can see, big clubs such as Manchester United, Man City, Chelsea, Arsenal has a larger distribution of market value, indicating their rosters consists of several high value players and young inexperienced players. Small and middle club distribution are relatively more uniform, as they don't have the big budget. Most of these teams have one \"outliers\", probably can be seen as the \"star\" of the club whose market value is separable from the rest. For example, Chelsea has Eden Hazard, Man Utd has Paul Pogba and Romelu Lukaku."
   ]
  },
  {
   "cell_type": "code",
   "execution_count": 55,
   "metadata": {
    "collapsed": false,
    "scrolled": false
   },
   "outputs": [
    {
     "data": {
      "image/png": "[encoded data removed]",
      "text/plain": [
       "<matplotlib.figure.Figure at 0x7f70fa6db400>"
      ]
     },
     "metadata": {},
     "output_type": "display_data"
    }
   ],
   "source": [
    "var = 'Club'\n",
    "data = pd.concat([df['Market Value'], df[var]], axis=1)\n",
    "f, ax = plt.subplots(figsize=(16, 8))\n",
    "fig = sns.boxplot(x=var, y=\"Market Value\", data=data)\n",
    "fig.yaxis.set_major_formatter(tick) \n",
    "#fig.axis(ymin=0, ymax=800000);\n",
    "plt.xticks(rotation=90);"
   ]
  },
  {
   "cell_type": "markdown",
   "metadata": {},
   "source": [
    "## Distribution of Age among team\n",
    "Using the same analysis above, we can also observe how aging each club is. The smaller the box, the more conformed the club age is. For example, Liverpool has quite young squad. On the other hand, West Brom uses a more aging squad. AFC Bournemouth seems to use a very wide range of players of different age group."
   ]
  },
  {
   "cell_type": "code",
   "execution_count": 56,
   "metadata": {
    "collapsed": false
   },
   "outputs": [
    {
     "data": {
      "image/png": "[encoded data removed]",
      "text/plain": [
       "<matplotlib.figure.Figure at 0x7f70f9fb8da0>"
      ]
     },
     "metadata": {},
     "output_type": "display_data"
    }
   ],
   "source": [
    "var = 'Club'\n",
    "data = pd.concat([df['Age'], df[var]], axis=1)\n",
    "f, ax = plt.subplots(figsize=(16, 8))\n",
    "fig = sns.boxplot(x=var, y=\"Age\", data=data)\n",
    "#fig.yaxis.set_major_formatter(tick) \n",
    "#fig.axis(ymin=0, ymax=800000);\n",
    "plt.xticks(rotation=90);"
   ]
  },
  {
   "cell_type": "code",
   "execution_count": 59,
   "metadata": {
    "collapsed": false
   },
   "outputs": [
    {
     "data": {
      "image/png": "[encoded data removed]",
      "text/plain": [
       "<matplotlib.figure.Figure at 0x7f70fa37bb38>"
      ]
     },
     "metadata": {},
     "output_type": "display_data"
    }
   ],
   "source": [
    "#correlation matrix\n",
    "corrmat = df.pivot_table(index='Age',columns='Club',values='Market Value', aggfunc=np.sum)\n",
    "sns.heatmap(corrmat);\n",
    "#heatmap.axis.set_major_formatter(tick) \n",
    "#corrmat"
   ]
  }
 ],
 "metadata": {
  "kernelspec": {
   "display_name": "Python 3",
   "language": "python",
   "name": "python3"
  },
  "language_info": {
   "codemirror_mode": {
    "name": "ipython",
    "version": 3
   },
   "file_extension": ".py",
   "mimetype": "text/x-python",
   "name": "python",
   "nbconvert_exporter": "python",
   "pygments_lexer": "ipython3",
   "version": "3.6.0"
  }
 },
 "nbformat": 4,
 "nbformat_minor": 2
}
