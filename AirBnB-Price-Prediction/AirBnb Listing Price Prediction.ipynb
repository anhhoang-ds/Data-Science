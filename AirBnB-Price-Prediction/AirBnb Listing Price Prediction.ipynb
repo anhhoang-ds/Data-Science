{
 "cells": [
  {
   "cell_type": "markdown",
   "metadata": {},
   "source": [
    "The goal for this workbook is to predict the price of an AirBnB listing for a test dataset."
   ]
  },
  {
   "cell_type": "code",
   "execution_count": 2017,
   "metadata": {
    "collapsed": true
   },
   "outputs": [],
   "source": [
    "import pandas as pd\n",
    "import numpy as np\n",
    "import matplotlib.pyplot as plt\n",
    "%matplotlib inline\n",
    "from sklearn.model_selection import train_test_split\n",
    "from imblearn.over_sampling import SMOTE\n",
    "from sklearn import tree\n",
    "from sklearn.ensemble import RandomForestClassifier\n",
    "from sklearn.metrics import recall_score\n",
    "from imblearn import over_sampling\n",
    "import seaborn as sns\n",
    "import datetime\n",
    "from geopy.geocoders import Nominatim\n",
    "import math"
   ]
  },
  {
   "cell_type": "code",
   "execution_count": 2018,
   "metadata": {
    "collapsed": true
   },
   "outputs": [],
   "source": [
    "df_train=pd.read_csv(\"C:/Users/namhpham/Documents/Personal files/Data Science/AirBnb/Original/train.csv\")\n",
    "df_test=pd.read_csv(\"C:/Users/namhpham/Documents/Personal files/Data Science/AirBnb/Original/test.csv\")"
   ]
  },
  {
   "cell_type": "markdown",
   "metadata": {},
   "source": [
    "Viewing the datasets attributes"
   ]
  },
  {
   "cell_type": "code",
   "execution_count": 2019,
   "metadata": {
    "collapsed": false
   },
   "outputs": [
    {
     "data": {
      "text/plain": [
       "(74111, 29)"
      ]
     },
     "execution_count": 2019,
     "metadata": {},
     "output_type": "execute_result"
    }
   ],
   "source": [
    "df_train.shape"
   ]
  },
  {
   "cell_type": "code",
   "execution_count": 2020,
   "metadata": {
    "collapsed": false
   },
   "outputs": [
    {
     "data": {
      "text/plain": [
       "(25458, 28)"
      ]
     },
     "execution_count": 2020,
     "metadata": {},
     "output_type": "execute_result"
    }
   ],
   "source": [
    "df_test.shape"
   ]
  },
  {
   "cell_type": "code",
   "execution_count": 2021,
   "metadata": {
    "collapsed": false,
    "scrolled": true
   },
   "outputs": [
    {
     "data": {
      "text/html": [
       "<div>\n",
       "<style>\n",
       "    .dataframe thead tr:only-child th {\n",
       "        text-align: right;\n",
       "    }\n",
       "\n",
       "    .dataframe thead th {\n",
       "        text-align: left;\n",
       "    }\n",
       "\n",
       "    .dataframe tbody tr th {\n",
       "        vertical-align: top;\n",
       "    }\n",
       "</style>\n",
       "<table border=\"1\" class=\"dataframe\">\n",
       "  <thead>\n",
       "    <tr style=\"text-align: right;\">\n",
       "      <th></th>\n",
       "      <th>id</th>\n",
       "      <th>log_price</th>\n",
       "      <th>property_type</th>\n",
       "      <th>room_type</th>\n",
       "      <th>amenities</th>\n",
       "      <th>accommodates</th>\n",
       "      <th>bathrooms</th>\n",
       "      <th>bed_type</th>\n",
       "      <th>cancellation_policy</th>\n",
       "      <th>cleaning_fee</th>\n",
       "      <th>city</th>\n",
       "      <th>description</th>\n",
       "      <th>first_review</th>\n",
       "      <th>host_has_profile_pic</th>\n",
       "      <th>host_identity_verified</th>\n",
       "    </tr>\n",
       "  </thead>\n",
       "  <tbody>\n",
       "    <tr>\n",
       "      <th>0</th>\n",
       "      <td>6901257</td>\n",
       "      <td>5.010635</td>\n",
       "      <td>Apartment</td>\n",
       "      <td>Entire home/apt</td>\n",
       "      <td>{\"Wireless Internet\",\"Air conditioning\",Kitche...</td>\n",
       "      <td>3</td>\n",
       "      <td>1.0</td>\n",
       "      <td>Real Bed</td>\n",
       "      <td>strict</td>\n",
       "      <td>True</td>\n",
       "      <td>NYC</td>\n",
       "      <td>Beautiful, sunlit brownstone 1-bedroom in the ...</td>\n",
       "      <td>2016-06-18</td>\n",
       "      <td>t</td>\n",
       "      <td>t</td>\n",
       "    </tr>\n",
       "    <tr>\n",
       "      <th>1</th>\n",
       "      <td>6304928</td>\n",
       "      <td>5.129899</td>\n",
       "      <td>Apartment</td>\n",
       "      <td>Entire home/apt</td>\n",
       "      <td>{\"Wireless Internet\",\"Air conditioning\",Kitche...</td>\n",
       "      <td>7</td>\n",
       "      <td>1.0</td>\n",
       "      <td>Real Bed</td>\n",
       "      <td>strict</td>\n",
       "      <td>True</td>\n",
       "      <td>NYC</td>\n",
       "      <td>Enjoy travelling during your stay in Manhattan...</td>\n",
       "      <td>2017-08-05</td>\n",
       "      <td>t</td>\n",
       "      <td>f</td>\n",
       "    </tr>\n",
       "    <tr>\n",
       "      <th>2</th>\n",
       "      <td>7919400</td>\n",
       "      <td>4.976734</td>\n",
       "      <td>Apartment</td>\n",
       "      <td>Entire home/apt</td>\n",
       "      <td>{TV,\"Cable TV\",\"Wireless Internet\",\"Air condit...</td>\n",
       "      <td>5</td>\n",
       "      <td>1.0</td>\n",
       "      <td>Real Bed</td>\n",
       "      <td>moderate</td>\n",
       "      <td>True</td>\n",
       "      <td>NYC</td>\n",
       "      <td>The Oasis comes complete with a full backyard ...</td>\n",
       "      <td>2017-04-30</td>\n",
       "      <td>t</td>\n",
       "      <td>t</td>\n",
       "    </tr>\n",
       "  </tbody>\n",
       "</table>\n",
       "</div>"
      ],
      "text/plain": [
       "        id  log_price property_type        room_type  \\\n",
       "0  6901257   5.010635     Apartment  Entire home/apt   \n",
       "1  6304928   5.129899     Apartment  Entire home/apt   \n",
       "2  7919400   4.976734     Apartment  Entire home/apt   \n",
       "\n",
       "                                           amenities  accommodates  bathrooms  \\\n",
       "0  {\"Wireless Internet\",\"Air conditioning\",Kitche...             3        1.0   \n",
       "1  {\"Wireless Internet\",\"Air conditioning\",Kitche...             7        1.0   \n",
       "2  {TV,\"Cable TV\",\"Wireless Internet\",\"Air condit...             5        1.0   \n",
       "\n",
       "   bed_type cancellation_policy  cleaning_fee city  \\\n",
       "0  Real Bed              strict          True  NYC   \n",
       "1  Real Bed              strict          True  NYC   \n",
       "2  Real Bed            moderate          True  NYC   \n",
       "\n",
       "                                         description first_review  \\\n",
       "0  Beautiful, sunlit brownstone 1-bedroom in the ...   2016-06-18   \n",
       "1  Enjoy travelling during your stay in Manhattan...   2017-08-05   \n",
       "2  The Oasis comes complete with a full backyard ...   2017-04-30   \n",
       "\n",
       "  host_has_profile_pic host_identity_verified  \n",
       "0                    t                      t  \n",
       "1                    t                      f  \n",
       "2                    t                      t  "
      ]
     },
     "execution_count": 2021,
     "metadata": {},
     "output_type": "execute_result"
    }
   ],
   "source": [
    "df_train.iloc[:3,:15]"
   ]
  },
  {
   "cell_type": "markdown",
   "metadata": {},
   "source": [
    "Joining train and test dataset together. The test dataset does not have the `log_price` attribute"
   ]
  },
  {
   "cell_type": "code",
   "execution_count": 2022,
   "metadata": {
    "collapsed": true
   },
   "outputs": [],
   "source": [
    "df_train['label']='train'\n",
    "df_test['label']='test'\n",
    "\n",
    "df_concat=pd.concat([df_train,df_test])\n",
    "df_concat.zipcode=df_concat['zipcode'].astype(str)"
   ]
  },
  {
   "cell_type": "code",
   "execution_count": 2023,
   "metadata": {
    "collapsed": false,
    "scrolled": true
   },
   "outputs": [],
   "source": [
    "df_concat['Dollar_price']=np.exp(df_concat['log_price'])\n",
    "df_train['Dollar_price']=np.exp(df_train.log_price)"
   ]
  },
  {
   "cell_type": "markdown",
   "metadata": {},
   "source": [
    "Exploratory Data Analysis"
   ]
  },
  {
   "cell_type": "code",
   "execution_count": 2024,
   "metadata": {
    "collapsed": false
   },
   "outputs": [
    {
     "data": {
      "image/png": "[encoded data removed]",
      "text/plain": [
       "<matplotlib.figure.Figure at 0x1b896359470>"
      ]
     },
     "metadata": {},
     "output_type": "display_data"
    }
   ],
   "source": [
    "Price_by_city=df_concat.groupby('city')['Dollar_price'].mean()\n",
    "Price_by_city=Price_by_city.sort_values(ascending=False)\n",
    "plot1=Price_by_city.plot.bar()"
   ]
  },
  {
   "cell_type": "code",
   "execution_count": 2025,
   "metadata": {
    "collapsed": false,
    "scrolled": true
   },
   "outputs": [
    {
     "data": {
      "image/png": "[encoded data removed]",
      "text/plain": [
       "<matplotlib.figure.Figure at 0x1b8e3c9b470>"
      ]
     },
     "metadata": {},
     "output_type": "display_data"
    }
   ],
   "source": [
    "Price_by_neighbourhood=df_concat.groupby('neighbourhood')['Dollar_price'].mean()\n",
    "Price_by_neighbourhood=Price_by_neighbourhood.sort_values(ascending=False)\n",
    "plot2=Price_by_neighbourhood.head(20).plot.bar()"
   ]
  },
  {
   "cell_type": "code",
   "execution_count": 2026,
   "metadata": {
    "collapsed": false,
    "scrolled": true
   },
   "outputs": [
    {
     "data": {
      "image/png": "[encoded data removed]",
      "text/plain": [
       "<matplotlib.figure.Figure at 0x1b8c404e978>"
      ]
     },
     "metadata": {},
     "output_type": "display_data"
    }
   ],
   "source": [
    "var = 'city'\n",
    "data = pd.concat([df_concat['Dollar_price'], df_concat[var]], axis=1)\n",
    "f, ax = plt.subplots(figsize=(16, 8))\n",
    "fig = sns.boxplot(x=var, y=\"Dollar_price\", data=data)\n",
    "#fig.yaxis.set_major_formatter(tick) \n",
    "#fig.axis(ymin=0, ymax=800000);\n",
    "plt.xticks(rotation=90);"
   ]
  },
  {
   "cell_type": "code",
   "execution_count": 2027,
   "metadata": {
    "collapsed": false,
    "scrolled": true
   },
   "outputs": [
    {
     "data": {
      "image/png": "[encoded data removed]",
      "text/plain": [
       "<matplotlib.figure.Figure at 0x1b8e3d80080>"
      ]
     },
     "metadata": {},
     "output_type": "display_data"
    }
   ],
   "source": [
    "Price_by_property=df_concat.groupby('property_type')['Dollar_price'].median()\n",
    "Price_by_property=Price_by_property.sort_values(ascending=False)\n",
    "plot3=Price_by_property.plot.bar()"
   ]
  },
  {
   "cell_type": "markdown",
   "metadata": {},
   "source": [
    "Viewing the distribution of price. The majority are in $50-200 range"
   ]
  },
  {
   "cell_type": "code",
   "execution_count": 2028,
   "metadata": {
    "collapsed": false,
    "scrolled": true
   },
   "outputs": [
    {
     "data": {
      "text/plain": [
       "<matplotlib.axes._subplots.AxesSubplot at 0x1b8d2d4a710>"
      ]
     },
     "execution_count": 2028,
     "metadata": {},
     "output_type": "execute_result"
    },
    {
     "data": {
      "image/png": "[encoded data removed]",
      "text/plain": [
       "<matplotlib.figure.Figure at 0x1b8af9b1c50>"
      ]
     },
     "metadata": {},
     "output_type": "display_data"
    }
   ],
   "source": [
    "sns.distplot(df_concat['Dollar_price'].dropna())"
   ]
  },
  {
   "cell_type": "markdown",
   "metadata": {},
   "source": [
    "Cleaning the data. Because location is an important factor in pricing, we want to have a good variable to determine this. However, city is too broad (only 5 levels), while neighborhood is too detail (800 levels). We want to come up with a variable that can explain better. We will come up with 5 categories based on pricing. We will group neighbourhood into these categories."
   ]
  },
  {
   "cell_type": "markdown",
   "metadata": {},
   "source": [
    "Fix zip code"
   ]
  },
  {
   "cell_type": "code",
   "execution_count": 2029,
   "metadata": {
    "collapsed": false
   },
   "outputs": [],
   "source": [
    "col=list(df_concat.zipcode)"
   ]
  },
  {
   "cell_type": "code",
   "execution_count": 2030,
   "metadata": {
    "collapsed": true
   },
   "outputs": [],
   "source": [
    "col=[str(x)[:5] for x in col]"
   ]
  },
  {
   "cell_type": "code",
   "execution_count": 2031,
   "metadata": {
    "collapsed": false
   },
   "outputs": [],
   "source": [
    "df_concat.zipcode=col\n",
    "df_concat.zipcode=df_concat['zipcode'].astype(str)"
   ]
  },
  {
   "cell_type": "markdown",
   "metadata": {},
   "source": [
    "create lookup table"
   ]
  },
  {
   "cell_type": "code",
   "execution_count": 2032,
   "metadata": {
    "collapsed": false
   },
   "outputs": [],
   "source": [
    "data=pd.DataFrame(df_concat[['zipcode','neighbourhood']])\n",
    "data=data.dropna()"
   ]
  },
  {
   "cell_type": "code",
   "execution_count": 2033,
   "metadata": {
    "collapsed": false
   },
   "outputs": [],
   "source": [
    "look_up=data.set_index('zipcode')['neighbourhood'].to_dict()"
   ]
  },
  {
   "cell_type": "code",
   "execution_count": 2034,
   "metadata": {
    "collapsed": false
   },
   "outputs": [],
   "source": [
    "df_concat['neighbourhood']=df_concat.zipcode.map(look_up)"
   ]
  },
  {
   "cell_type": "code",
   "execution_count": 2035,
   "metadata": {
    "collapsed": false,
    "scrolled": true
   },
   "outputs": [
    {
     "data": {
      "text/plain": [
       "1122"
      ]
     },
     "execution_count": 2035,
     "metadata": {},
     "output_type": "execute_result"
    }
   ],
   "source": [
    "df_concat['neighbourhood'].isnull().sum()"
   ]
  },
  {
   "cell_type": "markdown",
   "metadata": {},
   "source": [
    "For the listing without neighbourbood, we label them as the City they belong to (NY, DC, Boston, Chicago, or LA)"
   ]
  },
  {
   "cell_type": "code",
   "execution_count": 2036,
   "metadata": {
    "collapsed": true
   },
   "outputs": [],
   "source": [
    "df_concat['neighbourhood']=df_concat['neighbourhood'].fillna(df_concat['city'])"
   ]
  },
  {
   "cell_type": "code",
   "execution_count": 2037,
   "metadata": {
    "collapsed": false
   },
   "outputs": [],
   "source": [
    "#df_concat.loc[df_concat.label=='test','Category']='Category_1'\n",
    "#df_test['Category']='Category_1'"
   ]
  },
  {
   "cell_type": "code",
   "execution_count": 2038,
   "metadata": {
    "collapsed": false,
    "scrolled": true
   },
   "outputs": [
    {
     "name": "stdout",
     "output_type": "stream",
     "text": [
      "94.0\n",
      "150.0\n",
      "259.0\n",
      "464.91\n"
     ]
    }
   ],
   "source": [
    "for i in (50,80,97,99):\n",
    "    print(np.percentile(test2['Dollar_price'],i))"
   ]
  },
  {
   "cell_type": "code",
   "execution_count": 2039,
   "metadata": {
    "collapsed": false,
    "scrolled": true
   },
   "outputs": [],
   "source": [
    "test2=pd.DataFrame(df_train.groupby('neighbourhood')['Dollar_price'].median())"
   ]
  },
  {
   "cell_type": "code",
   "execution_count": 2040,
   "metadata": {
    "collapsed": false
   },
   "outputs": [],
   "source": [
    "test2['neighbourhood']=test2.index"
   ]
  },
  {
   "cell_type": "code",
   "execution_count": 2041,
   "metadata": {
    "collapsed": true
   },
   "outputs": [],
   "source": [
    "test2['Category']=1"
   ]
  },
  {
   "cell_type": "code",
   "execution_count": 2042,
   "metadata": {
    "collapsed": true
   },
   "outputs": [],
   "source": [
    "test2.loc[test2.Dollar_price>=94,'Category']=2\n",
    "test2.loc[test2.Dollar_price>=150,'Category']=3\n",
    "test2.loc[test2.Dollar_price>=259,'Category']=4\n",
    "test2.loc[test2.Dollar_price>=464,'Category']=5\n"
   ]
  },
  {
   "cell_type": "code",
   "execution_count": 2043,
   "metadata": {
    "collapsed": true
   },
   "outputs": [],
   "source": [
    "look_up2=test2.set_index('neighbourhood')['Category'].to_dict()"
   ]
  },
  {
   "cell_type": "code",
   "execution_count": 2044,
   "metadata": {
    "collapsed": false,
    "scrolled": true
   },
   "outputs": [],
   "source": [
    "df_concat['Category']=df_concat.neighbourhood.map(look_up2)"
   ]
  },
  {
   "cell_type": "markdown",
   "metadata": {},
   "source": [
    "For Category not filled, we put them in category 1."
   ]
  },
  {
   "cell_type": "code",
   "execution_count": 2045,
   "metadata": {
    "collapsed": true
   },
   "outputs": [],
   "source": [
    "df_concat['Category']=df_concat['Category'].fillna(1)"
   ]
  },
  {
   "cell_type": "markdown",
   "metadata": {},
   "source": [
    "We also try to fill some missing information. Most listing has 1 bed and 1 bathroom, so we give this default value"
   ]
  },
  {
   "cell_type": "code",
   "execution_count": 2046,
   "metadata": {
    "collapsed": false
   },
   "outputs": [],
   "source": [
    "df_concat['beds']=df_concat['beds'].fillna(1)\n",
    "df_concat['bathrooms']=df_concat['bathrooms'].fillna(1)\n",
    "df_concat['bathrooms']=df_concat['bathrooms'].astype(int)\n",
    "df_concat['beds']=df_concat['beds'].astype(int)"
   ]
  },
  {
   "cell_type": "markdown",
   "metadata": {},
   "source": [
    "Number of amenities are text string, separated by `,` character. As a result, we can do a simple calculation of number of amenities by counting the number of `,` character plus one. We do not distinguish between one amenity from the other."
   ]
  },
  {
   "cell_type": "code",
   "execution_count": 2047,
   "metadata": {
    "collapsed": false,
    "scrolled": true
   },
   "outputs": [],
   "source": [
    "df_concat['number_amenities']=df_concat['amenities'].apply(lambda x: x.count(',')+1)"
   ]
  },
  {
   "cell_type": "code",
   "execution_count": 2048,
   "metadata": {
    "collapsed": false
   },
   "outputs": [
    {
     "data": {
      "text/plain": [
       "Entire home/apt    55482\n",
       "Private room       41082\n",
       "Shared room         3005\n",
       "Name: room_type, dtype: int64"
      ]
     },
     "execution_count": 2048,
     "metadata": {},
     "output_type": "execute_result"
    }
   ],
   "source": [
    "df_concat['room_type'].value_counts()"
   ]
  },
  {
   "cell_type": "markdown",
   "metadata": {},
   "source": [
    "We try to give a rating value for room type on a scale of 5. For entire house, the price will likely to be higher, so we give them a score of 5. We also follow this logic for property type and bed type"
   ]
  },
  {
   "cell_type": "code",
   "execution_count": 2049,
   "metadata": {
    "collapsed": false,
    "scrolled": true
   },
   "outputs": [],
   "source": [
    "df_concat.loc[df_concat.room_type=='Entire home/apt','room_type_rating']=5\n",
    "df_concat.loc[df_concat.room_type=='Private room','room_type_rating']=3\n",
    "df_concat.loc[df_concat.room_type=='Shared room','room_type_rating']=1"
   ]
  },
  {
   "cell_type": "code",
   "execution_count": 2050,
   "metadata": {
    "collapsed": false,
    "scrolled": false
   },
   "outputs": [
    {
     "data": {
      "text/plain": [
       "Apartment             65675\n",
       "House                 22321\n",
       "Condominium            3609\n",
       "Townhouse              2234\n",
       "Loft                   1681\n",
       "Other                   805\n",
       "Guesthouse              672\n",
       "Bed & Breakfast         625\n",
       "Bungalow                483\n",
       "Villa                   237\n",
       "Dorm                    203\n",
       "Guest suite             172\n",
       "Camper/RV               125\n",
       "Timeshare               108\n",
       "Hostel                  101\n",
       "Boutique hotel          100\n",
       "In-law                   99\n",
       "Cabin                    91\n",
       "Boat                     87\n",
       "Serviced apartment       27\n",
       "Tent                     20\n",
       "Vacation home            16\n",
       "Castle                   15\n",
       "Treehouse                14\n",
       "Yurt                     12\n",
       "Hut                       8\n",
       "Earth House               8\n",
       "Chalet                    7\n",
       "Tipi                      4\n",
       "Train                     3\n",
       "Cave                      3\n",
       "Parking Space             1\n",
       "Casa particular           1\n",
       "Island                    1\n",
       "Lighthouse                1\n",
       "Name: property_type, dtype: int64"
      ]
     },
     "execution_count": 2050,
     "metadata": {},
     "output_type": "execute_result"
    }
   ],
   "source": [
    "df_concat['property_type'].value_counts()"
   ]
  },
  {
   "cell_type": "code",
   "execution_count": 2051,
   "metadata": {
    "collapsed": true
   },
   "outputs": [],
   "source": [
    "df_concat.loc[df_concat.property_type=='House','property_type_rating']=5\n",
    "df_concat.loc[df_concat.property_type=='Condomium','property_type_rating']=5\n",
    "df_concat.loc[df_concat.property_type=='Townhouse','property_type_rating']=5\n",
    "df_concat.loc[df_concat.property_type=='Villa','property_type_rating']=5\n",
    "df_concat.loc[df_concat.property_type=='Apartment','property_type_rating']=4\n",
    "df_concat['property_type_rating']=df_concat['property_type_rating'].fillna(1)"
   ]
  },
  {
   "cell_type": "code",
   "execution_count": 2052,
   "metadata": {
    "collapsed": false
   },
   "outputs": [
    {
     "data": {
      "text/plain": [
       "Real Bed         96805\n",
       "Futon              993\n",
       "Pull-out Sofa      783\n",
       "Airbed             645\n",
       "Couch              343\n",
       "Name: bed_type, dtype: int64"
      ]
     },
     "execution_count": 2052,
     "metadata": {},
     "output_type": "execute_result"
    }
   ],
   "source": [
    "df_concat['bed_type'].value_counts()"
   ]
  },
  {
   "cell_type": "code",
   "execution_count": 2053,
   "metadata": {
    "collapsed": false
   },
   "outputs": [],
   "source": [
    "df_concat['bed_type_rating']=1\n",
    "df_concat.loc[df_concat.bed_type=='Real Bed','bed_type_rating']=5\n",
    "df_concat.loc[df_concat.bed_type=='Futon','bed_type_rating']=3"
   ]
  },
  {
   "cell_type": "code",
   "execution_count": 2054,
   "metadata": {
    "collapsed": false
   },
   "outputs": [],
   "source": [
    "df_concat['host_identity_verified_rating']=1\n",
    "df_concat.loc[df_concat.host_identity_verified=='t']=5"
   ]
  },
  {
   "cell_type": "code",
   "execution_count": 2055,
   "metadata": {
    "collapsed": false
   },
   "outputs": [],
   "source": [
    "df_concat['review_scores_rating']=df_concat['review_scores_rating'].fillna(df_concat['review_scores_rating'].median())"
   ]
  },
  {
   "cell_type": "markdown",
   "metadata": {},
   "source": [
    "Building the model"
   ]
  },
  {
   "cell_type": "code",
   "execution_count": 2056,
   "metadata": {
    "collapsed": true
   },
   "outputs": [],
   "source": [
    "keep_cols=['id','label','log_price','room_type_rating',\n",
    "               'accommodates','bathrooms','Category',\n",
    "               'number_of_reviews', 'beds','number_amenities','property_type_rating']"
   ]
  },
  {
   "cell_type": "code",
   "execution_count": 2057,
   "metadata": {
    "collapsed": false
   },
   "outputs": [],
   "source": [
    "#features_df=pd.get_dummies(df_concat,columns=['property_type'])\n",
    "df_train2=features_df[features_df['label']=='train']\n",
    "df_test2=features_df[features_df['label']=='score']"
   ]
  },
  {
   "cell_type": "markdown",
   "metadata": {},
   "source": [
    "Viewing the dataset used for building the model"
   ]
  },
  {
   "cell_type": "code",
   "execution_count": 2058,
   "metadata": {
    "collapsed": false
   },
   "outputs": [],
   "source": [
    "df_concat2=df_concat[keep_cols]"
   ]
  },
  {
   "cell_type": "code",
   "execution_count": 2059,
   "metadata": {
    "collapsed": false
   },
   "outputs": [
    {
     "data": {
      "text/html": [
       "<div>\n",
       "<style>\n",
       "    .dataframe thead tr:only-child th {\n",
       "        text-align: right;\n",
       "    }\n",
       "\n",
       "    .dataframe thead th {\n",
       "        text-align: left;\n",
       "    }\n",
       "\n",
       "    .dataframe tbody tr th {\n",
       "        vertical-align: top;\n",
       "    }\n",
       "</style>\n",
       "<table border=\"1\" class=\"dataframe\">\n",
       "  <thead>\n",
       "    <tr style=\"text-align: right;\">\n",
       "      <th></th>\n",
       "      <th>Category</th>\n",
       "      <th>Dollar_price</th>\n",
       "      <th>accommodates</th>\n",
       "      <th>amenities</th>\n",
       "      <th>bathrooms</th>\n",
       "      <th>bed_type</th>\n",
       "      <th>bedrooms</th>\n",
       "      <th>beds</th>\n",
       "      <th>cancellation_policy</th>\n",
       "      <th>city</th>\n",
       "      <th>...</th>\n",
       "      <th>property_type_Serviced apartment</th>\n",
       "      <th>property_type_Tent</th>\n",
       "      <th>property_type_Timeshare</th>\n",
       "      <th>property_type_Tipi</th>\n",
       "      <th>property_type_Townhouse</th>\n",
       "      <th>property_type_Train</th>\n",
       "      <th>property_type_Treehouse</th>\n",
       "      <th>property_type_Vacation home</th>\n",
       "      <th>property_type_Villa</th>\n",
       "      <th>property_type_Yurt</th>\n",
       "    </tr>\n",
       "  </thead>\n",
       "  <tbody>\n",
       "    <tr>\n",
       "      <th>0</th>\n",
       "      <td>2.0</td>\n",
       "      <td>150.0</td>\n",
       "      <td>3</td>\n",
       "      <td>{\"Wireless Internet\",\"Air conditioning\",Kitche...</td>\n",
       "      <td>1</td>\n",
       "      <td>Real Bed</td>\n",
       "      <td>1.0</td>\n",
       "      <td>1</td>\n",
       "      <td>strict</td>\n",
       "      <td>NYC</td>\n",
       "      <td>...</td>\n",
       "      <td>0</td>\n",
       "      <td>0</td>\n",
       "      <td>0</td>\n",
       "      <td>0</td>\n",
       "      <td>0</td>\n",
       "      <td>0</td>\n",
       "      <td>0</td>\n",
       "      <td>0</td>\n",
       "      <td>0</td>\n",
       "      <td>0</td>\n",
       "    </tr>\n",
       "    <tr>\n",
       "      <th>1</th>\n",
       "      <td>3.0</td>\n",
       "      <td>169.0</td>\n",
       "      <td>7</td>\n",
       "      <td>{\"Wireless Internet\",\"Air conditioning\",Kitche...</td>\n",
       "      <td>1</td>\n",
       "      <td>Real Bed</td>\n",
       "      <td>3.0</td>\n",
       "      <td>3</td>\n",
       "      <td>strict</td>\n",
       "      <td>NYC</td>\n",
       "      <td>...</td>\n",
       "      <td>0</td>\n",
       "      <td>0</td>\n",
       "      <td>0</td>\n",
       "      <td>0</td>\n",
       "      <td>0</td>\n",
       "      <td>0</td>\n",
       "      <td>0</td>\n",
       "      <td>0</td>\n",
       "      <td>0</td>\n",
       "      <td>0</td>\n",
       "    </tr>\n",
       "    <tr>\n",
       "      <th>2</th>\n",
       "      <td>2.0</td>\n",
       "      <td>145.0</td>\n",
       "      <td>5</td>\n",
       "      <td>{TV,\"Cable TV\",\"Wireless Internet\",\"Air condit...</td>\n",
       "      <td>1</td>\n",
       "      <td>Real Bed</td>\n",
       "      <td>1.0</td>\n",
       "      <td>3</td>\n",
       "      <td>moderate</td>\n",
       "      <td>NYC</td>\n",
       "      <td>...</td>\n",
       "      <td>0</td>\n",
       "      <td>0</td>\n",
       "      <td>0</td>\n",
       "      <td>0</td>\n",
       "      <td>0</td>\n",
       "      <td>0</td>\n",
       "      <td>0</td>\n",
       "      <td>0</td>\n",
       "      <td>0</td>\n",
       "      <td>0</td>\n",
       "    </tr>\n",
       "    <tr>\n",
       "      <th>3</th>\n",
       "      <td>2.0</td>\n",
       "      <td>750.0</td>\n",
       "      <td>4</td>\n",
       "      <td>{TV,\"Cable TV\",Internet,\"Wireless Internet\",Ki...</td>\n",
       "      <td>1</td>\n",
       "      <td>Real Bed</td>\n",
       "      <td>2.0</td>\n",
       "      <td>2</td>\n",
       "      <td>flexible</td>\n",
       "      <td>SF</td>\n",
       "      <td>...</td>\n",
       "      <td>0</td>\n",
       "      <td>0</td>\n",
       "      <td>0</td>\n",
       "      <td>0</td>\n",
       "      <td>0</td>\n",
       "      <td>0</td>\n",
       "      <td>0</td>\n",
       "      <td>0</td>\n",
       "      <td>0</td>\n",
       "      <td>0</td>\n",
       "    </tr>\n",
       "    <tr>\n",
       "      <th>4</th>\n",
       "      <td>2.0</td>\n",
       "      <td>115.0</td>\n",
       "      <td>2</td>\n",
       "      <td>{TV,Internet,\"Wireless Internet\",\"Air conditio...</td>\n",
       "      <td>1</td>\n",
       "      <td>Real Bed</td>\n",
       "      <td>0.0</td>\n",
       "      <td>1</td>\n",
       "      <td>moderate</td>\n",
       "      <td>DC</td>\n",
       "      <td>...</td>\n",
       "      <td>0</td>\n",
       "      <td>0</td>\n",
       "      <td>0</td>\n",
       "      <td>0</td>\n",
       "      <td>0</td>\n",
       "      <td>0</td>\n",
       "      <td>0</td>\n",
       "      <td>0</td>\n",
       "      <td>0</td>\n",
       "      <td>0</td>\n",
       "    </tr>\n",
       "  </tbody>\n",
       "</table>\n",
       "<p>5 rows × 68 columns</p>\n",
       "</div>"
      ],
      "text/plain": [
       "   Category  Dollar_price  accommodates  \\\n",
       "0       2.0         150.0             3   \n",
       "1       3.0         169.0             7   \n",
       "2       2.0         145.0             5   \n",
       "3       2.0         750.0             4   \n",
       "4       2.0         115.0             2   \n",
       "\n",
       "                                           amenities  bathrooms  bed_type  \\\n",
       "0  {\"Wireless Internet\",\"Air conditioning\",Kitche...          1  Real Bed   \n",
       "1  {\"Wireless Internet\",\"Air conditioning\",Kitche...          1  Real Bed   \n",
       "2  {TV,\"Cable TV\",\"Wireless Internet\",\"Air condit...          1  Real Bed   \n",
       "3  {TV,\"Cable TV\",Internet,\"Wireless Internet\",Ki...          1  Real Bed   \n",
       "4  {TV,Internet,\"Wireless Internet\",\"Air conditio...          1  Real Bed   \n",
       "\n",
       "   bedrooms  beds cancellation_policy city        ...          \\\n",
       "0       1.0     1              strict  NYC        ...           \n",
       "1       3.0     3              strict  NYC        ...           \n",
       "2       1.0     3            moderate  NYC        ...           \n",
       "3       2.0     2            flexible   SF        ...           \n",
       "4       0.0     1            moderate   DC        ...           \n",
       "\n",
       "   property_type_Serviced apartment property_type_Tent  \\\n",
       "0                                 0                  0   \n",
       "1                                 0                  0   \n",
       "2                                 0                  0   \n",
       "3                                 0                  0   \n",
       "4                                 0                  0   \n",
       "\n",
       "  property_type_Timeshare property_type_Tipi property_type_Townhouse  \\\n",
       "0                       0                  0                       0   \n",
       "1                       0                  0                       0   \n",
       "2                       0                  0                       0   \n",
       "3                       0                  0                       0   \n",
       "4                       0                  0                       0   \n",
       "\n",
       "  property_type_Train property_type_Treehouse  property_type_Vacation home  \\\n",
       "0                   0                       0                            0   \n",
       "1                   0                       0                            0   \n",
       "2                   0                       0                            0   \n",
       "3                   0                       0                            0   \n",
       "4                   0                       0                            0   \n",
       "\n",
       "  property_type_Villa property_type_Yurt  \n",
       "0                   0                  0  \n",
       "1                   0                  0  \n",
       "2                   0                  0  \n",
       "3                   0                  0  \n",
       "4                   0                  0  \n",
       "\n",
       "[5 rows x 68 columns]"
      ]
     },
     "execution_count": 2059,
     "metadata": {},
     "output_type": "execute_result"
    }
   ],
   "source": [
    "df_train2.head()"
   ]
  },
  {
   "cell_type": "code",
   "execution_count": 2060,
   "metadata": {
    "collapsed": true
   },
   "outputs": [],
   "source": [
    "# Take out train and test model\n",
    "df_train2=df_concat2[df_concat2['label']=='train']\n",
    "df_test2=df_concat2[df_concat2['label']=='test']"
   ]
  },
  {
   "cell_type": "code",
   "execution_count": 2061,
   "metadata": {
    "collapsed": true
   },
   "outputs": [],
   "source": [
    "df_train2=df_train2.drop(['label','id'],axis=1)\n",
    "df_test2=df_test2.drop('label',axis=1)"
   ]
  },
  {
   "cell_type": "code",
   "execution_count": 2062,
   "metadata": {
    "collapsed": true
   },
   "outputs": [],
   "source": [
    "training_features,val_features,training_target,val_target=train_test_split(df_train2.drop('log_price',axis=1),df_train2['log_price'],test_size=0.2, random_state=12)"
   ]
  },
  {
   "cell_type": "code",
   "execution_count": 2063,
   "metadata": {
    "collapsed": true
   },
   "outputs": [],
   "source": [
    "x_train,x_val,y_train,y_val=train_test_split(training_features, training_target,test_size=.2, random_state=12)"
   ]
  },
  {
   "cell_type": "code",
   "execution_count": 2064,
   "metadata": {
    "collapsed": true
   },
   "outputs": [],
   "source": [
    "sample_leaf_options = [1,5,10,50,100,200,500]"
   ]
  },
  {
   "cell_type": "code",
   "execution_count": 2065,
   "metadata": {
    "collapsed": true
   },
   "outputs": [],
   "source": [
    "from sklearn.ensemble import RandomForestRegressor\n",
    "for leaf_size in sample_leaf_options :\n",
    "    rf = RandomForestRegressor(n_estimators=200, oob_score=True, n_jobs = -1,random_state=50, max_features = \"auto\", min_samples_leaf = leaf_size)"
   ]
  },
  {
   "cell_type": "code",
   "execution_count": 2066,
   "metadata": {
    "collapsed": false,
    "scrolled": false
   },
   "outputs": [
    {
     "data": {
      "text/plain": [
       "RandomForestRegressor(bootstrap=True, criterion='mse', max_depth=None,\n",
       "           max_features='auto', max_leaf_nodes=None,\n",
       "           min_impurity_decrease=0.0, min_impurity_split=None,\n",
       "           min_samples_leaf=500, min_samples_split=2,\n",
       "           min_weight_fraction_leaf=0.0, n_estimators=200, n_jobs=-1,\n",
       "           oob_score=True, random_state=50, verbose=0, warm_start=False)"
      ]
     },
     "execution_count": 2066,
     "metadata": {},
     "output_type": "execute_result"
    }
   ],
   "source": [
    "rf.fit(x_train, y_train)"
   ]
  },
  {
   "cell_type": "code",
   "execution_count": 2067,
   "metadata": {
    "collapsed": false
   },
   "outputs": [
    {
     "name": "stdout",
     "output_type": "stream",
     "text": [
      "Out-of-bag R-2 score estimate: 0.527\n",
      "Test data R-2 score: 0.549\n",
      "Test data Spearman correlation: 0.775\n",
      "Test data Pearson correlation: 0.742\n"
     ]
    }
   ],
   "source": [
    "from sklearn.metrics import r2_score\n",
    "from scipy.stats import spearmanr, pearsonr\n",
    "predicted_train = rf.predict(x_train)\n",
    "predicted_val = rf.predict(x_val)\n",
    "\n",
    "test_score = r2_score(y_val, predicted_val)\n",
    "spearman = spearmanr(y_val, predicted_val)\n",
    "pearson = pearsonr(y_val, predicted_val)\n",
    "print(f'Out-of-bag R-2 score estimate: {rf.oob_score_:>5.3}')\n",
    "print(f'Test data R-2 score: {test_score:>5.3}')\n",
    "print(f'Test data Spearman correlation: {spearman[0]:.3}')\n",
    "print(f'Test data Pearson correlation: {pearson[0]:.3}')"
   ]
  },
  {
   "cell_type": "code",
   "execution_count": 2068,
   "metadata": {
    "collapsed": false
   },
   "outputs": [
    {
     "data": {
      "image/png": "[encoded data removed]",
      "text/plain": [
       "<matplotlib.figure.Figure at 0x1b8ed50acc0>"
      ]
     },
     "metadata": {},
     "output_type": "display_data"
    }
   ],
   "source": [
    "coef = pd.Series(rf.feature_importances_, index = x_train.columns).sort_values(ascending=False)\n",
    "\n",
    "plt.figure(figsize=(10, 5))\n",
    "coef.head(25).plot(kind='bar')\n",
    "plt.title('Feature Significance')\n",
    "plt.tight_layout()"
   ]
  },
  {
   "cell_type": "code",
   "execution_count": 2069,
   "metadata": {
    "collapsed": false,
    "scrolled": true
   },
   "outputs": [
    {
     "name": "stdout",
     "output_type": "stream",
     "text": [
      "0.548635615058\n"
     ]
    }
   ],
   "source": [
    "print(rf.score(x_val,y_val))"
   ]
  },
  {
   "cell_type": "code",
   "execution_count": 2070,
   "metadata": {
    "collapsed": false
   },
   "outputs": [
    {
     "data": {
      "text/plain": [
       "0.26592811752635537"
      ]
     },
     "execution_count": 2070,
     "metadata": {},
     "output_type": "execute_result"
    }
   ],
   "source": [
    "from sklearn.metrics import mean_squared_error\n",
    "mean_squared_error(y_val,rf.predict(x_val))"
   ]
  },
  {
   "cell_type": "code",
   "execution_count": 2071,
   "metadata": {
    "collapsed": false
   },
   "outputs": [
    {
     "name": "stdout",
     "output_type": "stream",
     "text": [
      "Train RMSE: 0.5183367362307131\n"
     ]
    }
   ],
   "source": [
    "print('Train RMSE: ' + str(math.sqrt(mean_squared_error(y_train, rf.predict(x_train)))))"
   ]
  },
  {
   "cell_type": "code",
   "execution_count": 2072,
   "metadata": {
    "collapsed": false
   },
   "outputs": [
    {
     "name": "stdout",
     "output_type": "stream",
     "text": [
      "Validation RMSE: 0.5156821865513248\n"
     ]
    }
   ],
   "source": [
    "print ('Validation RMSE: ' + str(math.sqrt(mean_squared_error(y_val,rf.predict(x_val)))))\n"
   ]
  },
  {
   "cell_type": "code",
   "execution_count": 2073,
   "metadata": {
    "collapsed": false
   },
   "outputs": [
    {
     "data": {
      "text/plain": [
       "LinearRegression(copy_X=True, fit_intercept=True, n_jobs=1, normalize=False)"
      ]
     },
     "execution_count": 2073,
     "metadata": {},
     "output_type": "execute_result"
    }
   ],
   "source": [
    "from sklearn import datasets, linear_model\n",
    "regr = linear_model.LinearRegression()\n",
    "regr.fit(x_train, y_train)"
   ]
  },
  {
   "cell_type": "code",
   "execution_count": 2074,
   "metadata": {
    "collapsed": false,
    "scrolled": true
   },
   "outputs": [
    {
     "data": {
      "text/plain": [
       "0.4974410515418656"
      ]
     },
     "execution_count": 2074,
     "metadata": {},
     "output_type": "execute_result"
    }
   ],
   "source": [
    "math.sqrt(mean_squared_error(y_val,regr.predict(x_val)))"
   ]
  },
  {
   "cell_type": "code",
   "execution_count": 2075,
   "metadata": {
    "collapsed": false
   },
   "outputs": [],
   "source": [
    "from sklearn import neighbors\n",
    "n_neighbors = 5\n",
    "\n",
    "for i, weights in enumerate(['uniform', 'distance']):\n",
    "    knn = neighbors.KNeighborsRegressor(n_neighbors, weights=weights)\n",
    "    y_ = knn.fit(x_train, y_train).predict(x_val)"
   ]
  },
  {
   "cell_type": "code",
   "execution_count": 2076,
   "metadata": {
    "collapsed": false
   },
   "outputs": [
    {
     "data": {
      "text/plain": [
       "0.23131316573603916"
      ]
     },
     "execution_count": 2076,
     "metadata": {},
     "output_type": "execute_result"
    }
   ],
   "source": [
    "from sklearn.datasets import make_friedman1\n",
    "from sklearn.ensemble import GradientBoostingRegressor\n",
    "\n",
    "est = GradientBoostingRegressor(n_estimators=500, learning_rate=0.1,\n",
    "     max_depth=1, random_state=0, loss='ls').fit(x_train, y_train)\n",
    "mean_squared_error(y_val, est.predict(x_val))  "
   ]
  },
  {
   "cell_type": "code",
   "execution_count": 2077,
   "metadata": {
    "collapsed": false
   },
   "outputs": [
    {
     "data": {
      "text/plain": [
       "0.48542096192757944"
      ]
     },
     "execution_count": 2077,
     "metadata": {},
     "output_type": "execute_result"
    }
   ],
   "source": [
    "math.sqrt(mean_squared_error(y_train,est.predict(x_train)))"
   ]
  },
  {
   "cell_type": "code",
   "execution_count": 2078,
   "metadata": {
    "collapsed": false,
    "scrolled": true
   },
   "outputs": [
    {
     "data": {
      "text/plain": [
       "0.48095027366250576"
      ]
     },
     "execution_count": 2078,
     "metadata": {},
     "output_type": "execute_result"
    }
   ],
   "source": [
    "math.sqrt(mean_squared_error(y_val,est.predict(x_val)))"
   ]
  },
  {
   "cell_type": "code",
   "execution_count": 2079,
   "metadata": {
    "collapsed": false
   },
   "outputs": [],
   "source": [
    "df_test2.log_price=est.predict(df_test2.drop(['log_price','id'],axis=1))"
   ]
  },
  {
   "cell_type": "code",
   "execution_count": 2081,
   "metadata": {
    "collapsed": false,
    "scrolled": true
   },
   "outputs": [],
   "source": [
    "output=pd.DataFrame()"
   ]
  },
  {
   "cell_type": "code",
   "execution_count": 2082,
   "metadata": {
    "collapsed": false
   },
   "outputs": [],
   "source": [
    "output['id']=df_test2[\"id\"]\n",
    "output['log_price']=df_test2['log_price']"
   ]
  },
  {
   "cell_type": "code",
   "execution_count": 2083,
   "metadata": {
    "collapsed": false
   },
   "outputs": [
    {
     "data": {
      "text/html": [
       "<div>\n",
       "<style>\n",
       "    .dataframe thead tr:only-child th {\n",
       "        text-align: right;\n",
       "    }\n",
       "\n",
       "    .dataframe thead th {\n",
       "        text-align: left;\n",
       "    }\n",
       "\n",
       "    .dataframe tbody tr th {\n",
       "        vertical-align: top;\n",
       "    }\n",
       "</style>\n",
       "<table border=\"1\" class=\"dataframe\">\n",
       "  <thead>\n",
       "    <tr style=\"text-align: right;\">\n",
       "      <th></th>\n",
       "      <th>id</th>\n",
       "      <th>log_price</th>\n",
       "    </tr>\n",
       "  </thead>\n",
       "  <tbody>\n",
       "    <tr>\n",
       "      <th>0</th>\n",
       "      <td>3895911</td>\n",
       "      <td>4.382746</td>\n",
       "    </tr>\n",
       "    <tr>\n",
       "      <th>7</th>\n",
       "      <td>14402792</td>\n",
       "      <td>5.157678</td>\n",
       "    </tr>\n",
       "    <tr>\n",
       "      <th>9</th>\n",
       "      <td>830490</td>\n",
       "      <td>4.703033</td>\n",
       "    </tr>\n",
       "    <tr>\n",
       "      <th>11</th>\n",
       "      <td>18375967</td>\n",
       "      <td>4.523807</td>\n",
       "    </tr>\n",
       "    <tr>\n",
       "      <th>16</th>\n",
       "      <td>4000249</td>\n",
       "      <td>5.419883</td>\n",
       "    </tr>\n",
       "  </tbody>\n",
       "</table>\n",
       "</div>"
      ],
      "text/plain": [
       "          id  log_price\n",
       "0    3895911   4.382746\n",
       "7   14402792   5.157678\n",
       "9     830490   4.703033\n",
       "11  18375967   4.523807\n",
       "16   4000249   5.419883"
      ]
     },
     "execution_count": 2083,
     "metadata": {},
     "output_type": "execute_result"
    }
   ],
   "source": [
    "output.head()"
   ]
  },
  {
   "cell_type": "code",
   "execution_count": 2084,
   "metadata": {
    "collapsed": true
   },
   "outputs": [],
   "source": [
    "#output.to_csv(\"C:/Users/namhpham/Documents/Personal files/Data Science/AirBnb/submission_v7.csv\",index=False)"
   ]
  }
 ],
 "metadata": {
  "kernelspec": {
   "display_name": "Python 3",
   "language": "python",
   "name": "python3"
  },
  "language_info": {
   "codemirror_mode": {
    "name": "ipython",
    "version": 3
   },
   "file_extension": ".py",
   "mimetype": "text/x-python",
   "name": "python",
   "nbconvert_exporter": "python",
   "pygments_lexer": "ipython3",
   "version": "3.6.0"
  }
 },
 "nbformat": 4,
 "nbformat_minor": 2
}
