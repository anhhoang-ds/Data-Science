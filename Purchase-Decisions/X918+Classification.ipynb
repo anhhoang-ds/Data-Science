{
 "cells": [
  {
   "cell_type": "markdown",
   "metadata": {},
   "source": [
    "## 1. Problem Definition\n",
    "\n",
    "In this problem, we are assuming the role of a company trying to sell its product. However, the company is not able to profile the customers who bought the new product X918 so far. Data collected contains a diverse group of customers with a wide variety of demographic information, and not understanding its core customer leads to inefficient marketing mix; for example, they could have wasted promotions and coupons on people who are less likely to buy. In addition, they do not know with certainty the likely buyer of this product in the future period. They might not be able to estimate the demand for our new product, which can possibly lead to oversupply of product in the market or failure to optimize supply chain. In order to profile the buyer of the product and correctly predict the buyers next month, a decision tree and random forest can be used."
   ]
  },
  {
   "cell_type": "markdown",
   "metadata": {},
   "source": [
    "## 2. Preparing the Data\n",
    "The following libraries are used in this problem"
   ]
  },
  {
   "cell_type": "code",
   "execution_count": 263,
   "metadata": {
    "collapsed": true
   },
   "outputs": [],
   "source": [
    "import pandas as pd\n",
    "import numpy as np\n",
    "import matplotlib.pyplot as plt\n",
    "%matplotlib inline\n",
    "from sklearn.model_selection import train_test_split\n",
    "from imblearn.over_sampling import SMOTE\n",
    "from sklearn import tree\n",
    "from sklearn.ensemble import RandomForestClassifier\n",
    "from sklearn.metrics import recall_score\n",
    "from imblearn import over_sampling"
   ]
  },
  {
   "cell_type": "markdown",
   "metadata": {},
   "source": [
    "We have an existing record of 29,304 customers with variables including age, working class, level of education, years spent in school, marital status, occupation, known relationship, race, gender, average work week hours, native country. "
   ]
  },
  {
   "cell_type": "code",
   "execution_count": 264,
   "metadata": {
    "collapsed": false
   },
   "outputs": [
    {
     "data": {
      "text/plain": [
       "(29304, 13)"
      ]
     },
     "execution_count": 264,
     "metadata": {},
     "output_type": "execute_result"
    }
   ],
   "source": [
    "df=pd.read_sas(\"C:/Users/namhpham/Documents/Personal files/R workspace/x918_training_data.sas7bdat\",encoding=\"utf-8\")\n",
    "# need to use encoding because otherwise will return byte value\n",
    "df.shape"
   ]
  },
  {
   "cell_type": "code",
   "execution_count": 265,
   "metadata": {
    "collapsed": false
   },
   "outputs": [
    {
     "data": {
      "text/html": [
       "<div>\n",
       "<style>\n",
       "    .dataframe thead tr:only-child th {\n",
       "        text-align: right;\n",
       "    }\n",
       "\n",
       "    .dataframe thead th {\n",
       "        text-align: left;\n",
       "    }\n",
       "\n",
       "    .dataframe tbody tr th {\n",
       "        vertical-align: top;\n",
       "    }\n",
       "</style>\n",
       "<table border=\"1\" class=\"dataframe\">\n",
       "  <thead>\n",
       "    <tr style=\"text-align: right;\">\n",
       "      <th></th>\n",
       "      <th>person_id</th>\n",
       "      <th>Purchased_X918</th>\n",
       "      <th>age</th>\n",
       "      <th>work_class</th>\n",
       "      <th>education</th>\n",
       "      <th>education_yrs</th>\n",
       "      <th>marital_status</th>\n",
       "      <th>occupation</th>\n",
       "      <th>relationship</th>\n",
       "      <th>race</th>\n",
       "      <th>gender</th>\n",
       "      <th>hrs_per_week</th>\n",
       "      <th>native_country</th>\n",
       "    </tr>\n",
       "  </thead>\n",
       "  <tbody>\n",
       "    <tr>\n",
       "      <th>0</th>\n",
       "      <td>2.0</td>\n",
       "      <td>No</td>\n",
       "      <td>50.0</td>\n",
       "      <td>Self-emp-not-inc</td>\n",
       "      <td>Bachelors</td>\n",
       "      <td>13.0</td>\n",
       "      <td>Married-civ-spouse</td>\n",
       "      <td>Exec-managerial</td>\n",
       "      <td>Husband</td>\n",
       "      <td>White</td>\n",
       "      <td>Male</td>\n",
       "      <td>13.0</td>\n",
       "      <td>United-States</td>\n",
       "    </tr>\n",
       "    <tr>\n",
       "      <th>1</th>\n",
       "      <td>3.0</td>\n",
       "      <td>No</td>\n",
       "      <td>38.0</td>\n",
       "      <td>Private</td>\n",
       "      <td>HS-grad</td>\n",
       "      <td>9.0</td>\n",
       "      <td>Divorced</td>\n",
       "      <td>Handlers-cleaners</td>\n",
       "      <td>Not-in-family</td>\n",
       "      <td>White</td>\n",
       "      <td>Male</td>\n",
       "      <td>40.0</td>\n",
       "      <td>United-States</td>\n",
       "    </tr>\n",
       "    <tr>\n",
       "      <th>2</th>\n",
       "      <td>5.0</td>\n",
       "      <td>No</td>\n",
       "      <td>28.0</td>\n",
       "      <td>Private</td>\n",
       "      <td>Bachelors</td>\n",
       "      <td>13.0</td>\n",
       "      <td>Married-civ-spouse</td>\n",
       "      <td>Prof-specialty</td>\n",
       "      <td>Wife</td>\n",
       "      <td>Black</td>\n",
       "      <td>Female</td>\n",
       "      <td>40.0</td>\n",
       "      <td>Cuba</td>\n",
       "    </tr>\n",
       "    <tr>\n",
       "      <th>3</th>\n",
       "      <td>6.0</td>\n",
       "      <td>No</td>\n",
       "      <td>37.0</td>\n",
       "      <td>Private</td>\n",
       "      <td>Masters</td>\n",
       "      <td>14.0</td>\n",
       "      <td>Married-civ-spouse</td>\n",
       "      <td>Exec-managerial</td>\n",
       "      <td>Wife</td>\n",
       "      <td>White</td>\n",
       "      <td>Female</td>\n",
       "      <td>40.0</td>\n",
       "      <td>United-States</td>\n",
       "    </tr>\n",
       "    <tr>\n",
       "      <th>4</th>\n",
       "      <td>7.0</td>\n",
       "      <td>No</td>\n",
       "      <td>49.0</td>\n",
       "      <td>Private</td>\n",
       "      <td>9th</td>\n",
       "      <td>5.0</td>\n",
       "      <td>Married-spouse-absent</td>\n",
       "      <td>Other-service</td>\n",
       "      <td>Not-in-family</td>\n",
       "      <td>Black</td>\n",
       "      <td>Female</td>\n",
       "      <td>16.0</td>\n",
       "      <td>Jamaica</td>\n",
       "    </tr>\n",
       "    <tr>\n",
       "      <th>5</th>\n",
       "      <td>8.0</td>\n",
       "      <td>Yes</td>\n",
       "      <td>52.0</td>\n",
       "      <td>Self-emp-not-inc</td>\n",
       "      <td>HS-grad</td>\n",
       "      <td>9.0</td>\n",
       "      <td>Married-civ-spouse</td>\n",
       "      <td>Exec-managerial</td>\n",
       "      <td>Husband</td>\n",
       "      <td>White</td>\n",
       "      <td>Male</td>\n",
       "      <td>45.0</td>\n",
       "      <td>United-States</td>\n",
       "    </tr>\n",
       "    <tr>\n",
       "      <th>6</th>\n",
       "      <td>9.0</td>\n",
       "      <td>Yes</td>\n",
       "      <td>31.0</td>\n",
       "      <td>Private</td>\n",
       "      <td>Masters</td>\n",
       "      <td>14.0</td>\n",
       "      <td>Never-married</td>\n",
       "      <td>Prof-specialty</td>\n",
       "      <td>Not-in-family</td>\n",
       "      <td>White</td>\n",
       "      <td>Female</td>\n",
       "      <td>50.0</td>\n",
       "      <td>United-States</td>\n",
       "    </tr>\n",
       "    <tr>\n",
       "      <th>7</th>\n",
       "      <td>10.0</td>\n",
       "      <td>Yes</td>\n",
       "      <td>42.0</td>\n",
       "      <td>Private</td>\n",
       "      <td>Bachelors</td>\n",
       "      <td>13.0</td>\n",
       "      <td>Married-civ-spouse</td>\n",
       "      <td>Exec-managerial</td>\n",
       "      <td>Husband</td>\n",
       "      <td>White</td>\n",
       "      <td>Male</td>\n",
       "      <td>40.0</td>\n",
       "      <td>United-States</td>\n",
       "    </tr>\n",
       "    <tr>\n",
       "      <th>8</th>\n",
       "      <td>11.0</td>\n",
       "      <td>Yes</td>\n",
       "      <td>37.0</td>\n",
       "      <td>Private</td>\n",
       "      <td>Some-college</td>\n",
       "      <td>10.0</td>\n",
       "      <td>Married-civ-spouse</td>\n",
       "      <td>Exec-managerial</td>\n",
       "      <td>Husband</td>\n",
       "      <td>Black</td>\n",
       "      <td>Male</td>\n",
       "      <td>80.0</td>\n",
       "      <td>United-States</td>\n",
       "    </tr>\n",
       "    <tr>\n",
       "      <th>9</th>\n",
       "      <td>12.0</td>\n",
       "      <td>Yes</td>\n",
       "      <td>30.0</td>\n",
       "      <td>State-gov</td>\n",
       "      <td>Bachelors</td>\n",
       "      <td>13.0</td>\n",
       "      <td>Married-civ-spouse</td>\n",
       "      <td>Prof-specialty</td>\n",
       "      <td>Husband</td>\n",
       "      <td>Asian-Pac-Islander</td>\n",
       "      <td>Male</td>\n",
       "      <td>40.0</td>\n",
       "      <td>India</td>\n",
       "    </tr>\n",
       "    <tr>\n",
       "      <th>10</th>\n",
       "      <td>13.0</td>\n",
       "      <td>No</td>\n",
       "      <td>23.0</td>\n",
       "      <td>Private</td>\n",
       "      <td>Bachelors</td>\n",
       "      <td>13.0</td>\n",
       "      <td>Never-married</td>\n",
       "      <td>Adm-clerical</td>\n",
       "      <td>Own-child</td>\n",
       "      <td>White</td>\n",
       "      <td>Female</td>\n",
       "      <td>30.0</td>\n",
       "      <td>United-States</td>\n",
       "    </tr>\n",
       "    <tr>\n",
       "      <th>11</th>\n",
       "      <td>14.0</td>\n",
       "      <td>No</td>\n",
       "      <td>32.0</td>\n",
       "      <td>Private</td>\n",
       "      <td>Assoc-acdm</td>\n",
       "      <td>12.0</td>\n",
       "      <td>Never-married</td>\n",
       "      <td>Sales</td>\n",
       "      <td>Not-in-family</td>\n",
       "      <td>Black</td>\n",
       "      <td>Male</td>\n",
       "      <td>50.0</td>\n",
       "      <td>United-States</td>\n",
       "    </tr>\n",
       "    <tr>\n",
       "      <th>12</th>\n",
       "      <td>15.0</td>\n",
       "      <td>Yes</td>\n",
       "      <td>40.0</td>\n",
       "      <td>Private</td>\n",
       "      <td>Assoc-voc</td>\n",
       "      <td>11.0</td>\n",
       "      <td>Married-civ-spouse</td>\n",
       "      <td>Craft-repair</td>\n",
       "      <td>Husband</td>\n",
       "      <td>Asian-Pac-Islander</td>\n",
       "      <td>Male</td>\n",
       "      <td>40.0</td>\n",
       "      <td>?</td>\n",
       "    </tr>\n",
       "    <tr>\n",
       "      <th>13</th>\n",
       "      <td>16.0</td>\n",
       "      <td>No</td>\n",
       "      <td>34.0</td>\n",
       "      <td>Private</td>\n",
       "      <td>7th-8th</td>\n",
       "      <td>4.0</td>\n",
       "      <td>Married-civ-spouse</td>\n",
       "      <td>Transport-moving</td>\n",
       "      <td>Husband</td>\n",
       "      <td>Amer-Indian-Eskimo</td>\n",
       "      <td>Male</td>\n",
       "      <td>45.0</td>\n",
       "      <td>Mexico</td>\n",
       "    </tr>\n",
       "    <tr>\n",
       "      <th>14</th>\n",
       "      <td>17.0</td>\n",
       "      <td>No</td>\n",
       "      <td>25.0</td>\n",
       "      <td>Self-emp-not-inc</td>\n",
       "      <td>HS-grad</td>\n",
       "      <td>9.0</td>\n",
       "      <td>Never-married</td>\n",
       "      <td>Farming-fishing</td>\n",
       "      <td>Own-child</td>\n",
       "      <td>White</td>\n",
       "      <td>Male</td>\n",
       "      <td>35.0</td>\n",
       "      <td>United-States</td>\n",
       "    </tr>\n",
       "    <tr>\n",
       "      <th>15</th>\n",
       "      <td>18.0</td>\n",
       "      <td>No</td>\n",
       "      <td>32.0</td>\n",
       "      <td>Private</td>\n",
       "      <td>HS-grad</td>\n",
       "      <td>9.0</td>\n",
       "      <td>Never-married</td>\n",
       "      <td>Machine-op-inspct</td>\n",
       "      <td>Unmarried</td>\n",
       "      <td>White</td>\n",
       "      <td>Male</td>\n",
       "      <td>40.0</td>\n",
       "      <td>United-States</td>\n",
       "    </tr>\n",
       "    <tr>\n",
       "      <th>16</th>\n",
       "      <td>19.0</td>\n",
       "      <td>No</td>\n",
       "      <td>38.0</td>\n",
       "      <td>Private</td>\n",
       "      <td>11th</td>\n",
       "      <td>7.0</td>\n",
       "      <td>Married-civ-spouse</td>\n",
       "      <td>Sales</td>\n",
       "      <td>Husband</td>\n",
       "      <td>White</td>\n",
       "      <td>Male</td>\n",
       "      <td>50.0</td>\n",
       "      <td>United-States</td>\n",
       "    </tr>\n",
       "    <tr>\n",
       "      <th>17</th>\n",
       "      <td>20.0</td>\n",
       "      <td>Yes</td>\n",
       "      <td>43.0</td>\n",
       "      <td>Self-emp-not-inc</td>\n",
       "      <td>Masters</td>\n",
       "      <td>14.0</td>\n",
       "      <td>Divorced</td>\n",
       "      <td>Exec-managerial</td>\n",
       "      <td>Unmarried</td>\n",
       "      <td>White</td>\n",
       "      <td>Female</td>\n",
       "      <td>45.0</td>\n",
       "      <td>United-States</td>\n",
       "    </tr>\n",
       "    <tr>\n",
       "      <th>18</th>\n",
       "      <td>21.0</td>\n",
       "      <td>Yes</td>\n",
       "      <td>40.0</td>\n",
       "      <td>Private</td>\n",
       "      <td>Doctorate</td>\n",
       "      <td>16.0</td>\n",
       "      <td>Married-civ-spouse</td>\n",
       "      <td>Prof-specialty</td>\n",
       "      <td>Husband</td>\n",
       "      <td>White</td>\n",
       "      <td>Male</td>\n",
       "      <td>60.0</td>\n",
       "      <td>United-States</td>\n",
       "    </tr>\n",
       "    <tr>\n",
       "      <th>19</th>\n",
       "      <td>22.0</td>\n",
       "      <td>No</td>\n",
       "      <td>54.0</td>\n",
       "      <td>Private</td>\n",
       "      <td>HS-grad</td>\n",
       "      <td>9.0</td>\n",
       "      <td>Separated</td>\n",
       "      <td>Other-service</td>\n",
       "      <td>Unmarried</td>\n",
       "      <td>Black</td>\n",
       "      <td>Female</td>\n",
       "      <td>20.0</td>\n",
       "      <td>United-States</td>\n",
       "    </tr>\n",
       "    <tr>\n",
       "      <th>20</th>\n",
       "      <td>23.0</td>\n",
       "      <td>No</td>\n",
       "      <td>35.0</td>\n",
       "      <td>Federal-gov</td>\n",
       "      <td>9th</td>\n",
       "      <td>5.0</td>\n",
       "      <td>Married-civ-spouse</td>\n",
       "      <td>Farming-fishing</td>\n",
       "      <td>Husband</td>\n",
       "      <td>Black</td>\n",
       "      <td>Male</td>\n",
       "      <td>40.0</td>\n",
       "      <td>United-States</td>\n",
       "    </tr>\n",
       "    <tr>\n",
       "      <th>21</th>\n",
       "      <td>24.0</td>\n",
       "      <td>No</td>\n",
       "      <td>43.0</td>\n",
       "      <td>Private</td>\n",
       "      <td>11th</td>\n",
       "      <td>7.0</td>\n",
       "      <td>Married-civ-spouse</td>\n",
       "      <td>Transport-moving</td>\n",
       "      <td>Husband</td>\n",
       "      <td>White</td>\n",
       "      <td>Male</td>\n",
       "      <td>40.0</td>\n",
       "      <td>United-States</td>\n",
       "    </tr>\n",
       "    <tr>\n",
       "      <th>22</th>\n",
       "      <td>26.0</td>\n",
       "      <td>Yes</td>\n",
       "      <td>56.0</td>\n",
       "      <td>Local-gov</td>\n",
       "      <td>Bachelors</td>\n",
       "      <td>13.0</td>\n",
       "      <td>Married-civ-spouse</td>\n",
       "      <td>Tech-support</td>\n",
       "      <td>Husband</td>\n",
       "      <td>White</td>\n",
       "      <td>Male</td>\n",
       "      <td>40.0</td>\n",
       "      <td>United-States</td>\n",
       "    </tr>\n",
       "    <tr>\n",
       "      <th>23</th>\n",
       "      <td>27.0</td>\n",
       "      <td>No</td>\n",
       "      <td>19.0</td>\n",
       "      <td>Private</td>\n",
       "      <td>HS-grad</td>\n",
       "      <td>9.0</td>\n",
       "      <td>Never-married</td>\n",
       "      <td>Craft-repair</td>\n",
       "      <td>Own-child</td>\n",
       "      <td>White</td>\n",
       "      <td>Male</td>\n",
       "      <td>40.0</td>\n",
       "      <td>United-States</td>\n",
       "    </tr>\n",
       "    <tr>\n",
       "      <th>24</th>\n",
       "      <td>28.0</td>\n",
       "      <td>Yes</td>\n",
       "      <td>54.0</td>\n",
       "      <td>?</td>\n",
       "      <td>Some-college</td>\n",
       "      <td>10.0</td>\n",
       "      <td>Married-civ-spouse</td>\n",
       "      <td>?</td>\n",
       "      <td>Husband</td>\n",
       "      <td>Asian-Pac-Islander</td>\n",
       "      <td>Male</td>\n",
       "      <td>60.0</td>\n",
       "      <td>South</td>\n",
       "    </tr>\n",
       "  </tbody>\n",
       "</table>\n",
       "</div>"
      ],
      "text/plain": [
       "    person_id Purchased_X918   age        work_class     education  \\\n",
       "0         2.0             No  50.0  Self-emp-not-inc     Bachelors   \n",
       "1         3.0             No  38.0           Private       HS-grad   \n",
       "2         5.0             No  28.0           Private     Bachelors   \n",
       "3         6.0             No  37.0           Private       Masters   \n",
       "4         7.0             No  49.0           Private           9th   \n",
       "5         8.0            Yes  52.0  Self-emp-not-inc       HS-grad   \n",
       "6         9.0            Yes  31.0           Private       Masters   \n",
       "7        10.0            Yes  42.0           Private     Bachelors   \n",
       "8        11.0            Yes  37.0           Private  Some-college   \n",
       "9        12.0            Yes  30.0         State-gov     Bachelors   \n",
       "10       13.0             No  23.0           Private     Bachelors   \n",
       "11       14.0             No  32.0           Private    Assoc-acdm   \n",
       "12       15.0            Yes  40.0           Private     Assoc-voc   \n",
       "13       16.0             No  34.0           Private       7th-8th   \n",
       "14       17.0             No  25.0  Self-emp-not-inc       HS-grad   \n",
       "15       18.0             No  32.0           Private       HS-grad   \n",
       "16       19.0             No  38.0           Private          11th   \n",
       "17       20.0            Yes  43.0  Self-emp-not-inc       Masters   \n",
       "18       21.0            Yes  40.0           Private     Doctorate   \n",
       "19       22.0             No  54.0           Private       HS-grad   \n",
       "20       23.0             No  35.0       Federal-gov           9th   \n",
       "21       24.0             No  43.0           Private          11th   \n",
       "22       26.0            Yes  56.0         Local-gov     Bachelors   \n",
       "23       27.0             No  19.0           Private       HS-grad   \n",
       "24       28.0            Yes  54.0                 ?  Some-college   \n",
       "\n",
       "    education_yrs         marital_status         occupation   relationship  \\\n",
       "0            13.0     Married-civ-spouse    Exec-managerial        Husband   \n",
       "1             9.0               Divorced  Handlers-cleaners  Not-in-family   \n",
       "2            13.0     Married-civ-spouse     Prof-specialty           Wife   \n",
       "3            14.0     Married-civ-spouse    Exec-managerial           Wife   \n",
       "4             5.0  Married-spouse-absent      Other-service  Not-in-family   \n",
       "5             9.0     Married-civ-spouse    Exec-managerial        Husband   \n",
       "6            14.0          Never-married     Prof-specialty  Not-in-family   \n",
       "7            13.0     Married-civ-spouse    Exec-managerial        Husband   \n",
       "8            10.0     Married-civ-spouse    Exec-managerial        Husband   \n",
       "9            13.0     Married-civ-spouse     Prof-specialty        Husband   \n",
       "10           13.0          Never-married       Adm-clerical      Own-child   \n",
       "11           12.0          Never-married              Sales  Not-in-family   \n",
       "12           11.0     Married-civ-spouse       Craft-repair        Husband   \n",
       "13            4.0     Married-civ-spouse   Transport-moving        Husband   \n",
       "14            9.0          Never-married    Farming-fishing      Own-child   \n",
       "15            9.0          Never-married  Machine-op-inspct      Unmarried   \n",
       "16            7.0     Married-civ-spouse              Sales        Husband   \n",
       "17           14.0               Divorced    Exec-managerial      Unmarried   \n",
       "18           16.0     Married-civ-spouse     Prof-specialty        Husband   \n",
       "19            9.0              Separated      Other-service      Unmarried   \n",
       "20            5.0     Married-civ-spouse    Farming-fishing        Husband   \n",
       "21            7.0     Married-civ-spouse   Transport-moving        Husband   \n",
       "22           13.0     Married-civ-spouse       Tech-support        Husband   \n",
       "23            9.0          Never-married       Craft-repair      Own-child   \n",
       "24           10.0     Married-civ-spouse                  ?        Husband   \n",
       "\n",
       "                  race  gender  hrs_per_week native_country  \n",
       "0                White    Male          13.0  United-States  \n",
       "1                White    Male          40.0  United-States  \n",
       "2                Black  Female          40.0           Cuba  \n",
       "3                White  Female          40.0  United-States  \n",
       "4                Black  Female          16.0        Jamaica  \n",
       "5                White    Male          45.0  United-States  \n",
       "6                White  Female          50.0  United-States  \n",
       "7                White    Male          40.0  United-States  \n",
       "8                Black    Male          80.0  United-States  \n",
       "9   Asian-Pac-Islander    Male          40.0          India  \n",
       "10               White  Female          30.0  United-States  \n",
       "11               Black    Male          50.0  United-States  \n",
       "12  Asian-Pac-Islander    Male          40.0              ?  \n",
       "13  Amer-Indian-Eskimo    Male          45.0         Mexico  \n",
       "14               White    Male          35.0  United-States  \n",
       "15               White    Male          40.0  United-States  \n",
       "16               White    Male          50.0  United-States  \n",
       "17               White  Female          45.0  United-States  \n",
       "18               White    Male          60.0  United-States  \n",
       "19               Black  Female          20.0  United-States  \n",
       "20               Black    Male          40.0  United-States  \n",
       "21               White    Male          40.0  United-States  \n",
       "22               White    Male          40.0  United-States  \n",
       "23               White    Male          40.0  United-States  \n",
       "24  Asian-Pac-Islander    Male          60.0          South  "
      ]
     },
     "execution_count": 265,
     "metadata": {},
     "output_type": "execute_result"
    }
   ],
   "source": [
    "df.head(n=25)"
   ]
  },
  {
   "cell_type": "code",
   "execution_count": 266,
   "metadata": {
    "collapsed": false
   },
   "outputs": [
    {
     "data": {
      "text/plain": [
       "person_id         float64\n",
       "Purchased_X918     object\n",
       "age               float64\n",
       "work_class         object\n",
       "education          object\n",
       "education_yrs     float64\n",
       "marital_status     object\n",
       "occupation         object\n",
       "relationship       object\n",
       "race               object\n",
       "gender             object\n",
       "hrs_per_week      float64\n",
       "native_country     object\n",
       "dtype: object"
      ]
     },
     "execution_count": 266,
     "metadata": {},
     "output_type": "execute_result"
    }
   ],
   "source": [
    "df.dtypes"
   ]
  },
  {
   "cell_type": "code",
   "execution_count": 267,
   "metadata": {
    "collapsed": false
   },
   "outputs": [],
   "source": [
    "# Converting object to category\n",
    "for col in ['Purchased_X918','work_class','education','marital_status', 'occupation','relationship','race','gender','native_country']:\n",
    "    df[col]=df[col].astype('category')"
   ]
  },
  {
   "cell_type": "markdown",
   "metadata": {},
   "source": [
    "There are some values marked as ?, we will attemp to convert them to NaN to count the number of missing values"
   ]
  },
  {
   "cell_type": "code",
   "execution_count": 268,
   "metadata": {
    "collapsed": false
   },
   "outputs": [],
   "source": [
    "df=df.replace('?', np.NaN)"
   ]
  },
  {
   "cell_type": "code",
   "execution_count": 269,
   "metadata": {
    "collapsed": false
   },
   "outputs": [
    {
     "data": {
      "text/plain": [
       "person_id            0\n",
       "Purchased_X918       0\n",
       "age                  0\n",
       "work_class        1650\n",
       "education            0\n",
       "education_yrs        0\n",
       "marital_status       0\n",
       "occupation        1657\n",
       "relationship         0\n",
       "race                 0\n",
       "gender               0\n",
       "hrs_per_week         0\n",
       "native_country     523\n",
       "dtype: int64"
      ]
     },
     "execution_count": 269,
     "metadata": {},
     "output_type": "execute_result"
    }
   ],
   "source": [
    "# Find out how many data is missing \n",
    "\n",
    "df.isnull().sum()"
   ]
  },
  {
   "cell_type": "markdown",
   "metadata": {},
   "source": [
    "There are some missing values in the dataset, such as 1650 (5.63%) customers without working class, 5.65% without occupation, and 1.75% with no native country. We will proceed the dataset."
   ]
  },
  {
   "cell_type": "markdown",
   "metadata": {},
   "source": [
    "### Broad insights into the data\n",
    "The target variable is `Purchased_X918`, which indicates if the person decided to purchase the product in the last year. We can also see that the dataset is imbalanced, with only 24% of the people bought the product"
   ]
  },
  {
   "cell_type": "code",
   "execution_count": 270,
   "metadata": {
    "collapsed": false
   },
   "outputs": [
    {
     "data": {
      "text/plain": [
       "No     0.760203\n",
       "Yes    0.239797\n",
       "Name: Purchased_X918, dtype: float64"
      ]
     },
     "execution_count": 270,
     "metadata": {},
     "output_type": "execute_result"
    }
   ],
   "source": [
    "# Over the last year, only about 24% of customers bought the product\n",
    "purchase_count=df['Purchased_X918'].value_counts(normalize='True')\n",
    "purchase_count"
   ]
  },
  {
   "cell_type": "code",
   "execution_count": 271,
   "metadata": {
    "collapsed": false
   },
   "outputs": [],
   "source": [
    "# Encode target variable for easier processing\n",
    "df['Purchased_X918'] = df['Purchased_X918'].map({'Yes': \"1\", 'No': \"0\"})\n",
    "df['Purchased_X918']=df['Purchased_X918'].astype(float)"
   ]
  },
  {
   "cell_type": "markdown",
   "metadata": {},
   "source": [
    "From overview perspective, people who purchase the product are generally older, has higher education, and work longer hours. They are dominantly white male who work in white-collar positions."
   ]
  },
  {
   "cell_type": "code",
   "execution_count": 272,
   "metadata": {
    "collapsed": false
   },
   "outputs": [
    {
     "data": {
      "text/html": [
       "<div>\n",
       "<style>\n",
       "    .dataframe thead tr:only-child th {\n",
       "        text-align: right;\n",
       "    }\n",
       "\n",
       "    .dataframe thead th {\n",
       "        text-align: left;\n",
       "    }\n",
       "\n",
       "    .dataframe tbody tr th {\n",
       "        vertical-align: top;\n",
       "    }\n",
       "</style>\n",
       "<table border=\"1\" class=\"dataframe\">\n",
       "  <thead>\n",
       "    <tr>\n",
       "      <th></th>\n",
       "      <th colspan=\"8\" halign=\"left\">age</th>\n",
       "      <th colspan=\"2\" halign=\"left\">education_yrs</th>\n",
       "      <th>...</th>\n",
       "      <th colspan=\"2\" halign=\"left\">hrs_per_week</th>\n",
       "      <th colspan=\"8\" halign=\"left\">person_id</th>\n",
       "    </tr>\n",
       "    <tr>\n",
       "      <th></th>\n",
       "      <th>count</th>\n",
       "      <th>mean</th>\n",
       "      <th>std</th>\n",
       "      <th>min</th>\n",
       "      <th>25%</th>\n",
       "      <th>50%</th>\n",
       "      <th>75%</th>\n",
       "      <th>max</th>\n",
       "      <th>count</th>\n",
       "      <th>mean</th>\n",
       "      <th>...</th>\n",
       "      <th>75%</th>\n",
       "      <th>max</th>\n",
       "      <th>count</th>\n",
       "      <th>mean</th>\n",
       "      <th>std</th>\n",
       "      <th>min</th>\n",
       "      <th>25%</th>\n",
       "      <th>50%</th>\n",
       "      <th>75%</th>\n",
       "      <th>max</th>\n",
       "    </tr>\n",
       "    <tr>\n",
       "      <th>Purchased_X918</th>\n",
       "      <th></th>\n",
       "      <th></th>\n",
       "      <th></th>\n",
       "      <th></th>\n",
       "      <th></th>\n",
       "      <th></th>\n",
       "      <th></th>\n",
       "      <th></th>\n",
       "      <th></th>\n",
       "      <th></th>\n",
       "      <th></th>\n",
       "      <th></th>\n",
       "      <th></th>\n",
       "      <th></th>\n",
       "      <th></th>\n",
       "      <th></th>\n",
       "      <th></th>\n",
       "      <th></th>\n",
       "      <th></th>\n",
       "      <th></th>\n",
       "      <th></th>\n",
       "    </tr>\n",
       "  </thead>\n",
       "  <tbody>\n",
       "    <tr>\n",
       "      <th>0.0</th>\n",
       "      <td>22277.0</td>\n",
       "      <td>36.718185</td>\n",
       "      <td>13.973288</td>\n",
       "      <td>17.0</td>\n",
       "      <td>25.0</td>\n",
       "      <td>34.0</td>\n",
       "      <td>46.0</td>\n",
       "      <td>90.0</td>\n",
       "      <td>22277.0</td>\n",
       "      <td>9.597208</td>\n",
       "      <td>...</td>\n",
       "      <td>40.0</td>\n",
       "      <td>99.0</td>\n",
       "      <td>22277.0</td>\n",
       "      <td>16260.500830</td>\n",
       "      <td>9375.103925</td>\n",
       "      <td>2.0</td>\n",
       "      <td>8135.0</td>\n",
       "      <td>16273.0</td>\n",
       "      <td>24383.0</td>\n",
       "      <td>32560.0</td>\n",
       "    </tr>\n",
       "    <tr>\n",
       "      <th>1.0</th>\n",
       "      <td>7027.0</td>\n",
       "      <td>44.260424</td>\n",
       "      <td>10.558968</td>\n",
       "      <td>19.0</td>\n",
       "      <td>36.0</td>\n",
       "      <td>44.0</td>\n",
       "      <td>51.0</td>\n",
       "      <td>90.0</td>\n",
       "      <td>7027.0</td>\n",
       "      <td>11.613775</td>\n",
       "      <td>...</td>\n",
       "      <td>50.0</td>\n",
       "      <td>99.0</td>\n",
       "      <td>7027.0</td>\n",
       "      <td>16370.717234</td>\n",
       "      <td>9456.577114</td>\n",
       "      <td>8.0</td>\n",
       "      <td>8226.5</td>\n",
       "      <td>16419.0</td>\n",
       "      <td>24511.5</td>\n",
       "      <td>32561.0</td>\n",
       "    </tr>\n",
       "  </tbody>\n",
       "</table>\n",
       "<p>2 rows × 32 columns</p>\n",
       "</div>"
      ],
      "text/plain": [
       "                    age                                                      \\\n",
       "                  count       mean        std   min   25%   50%   75%   max   \n",
       "Purchased_X918                                                                \n",
       "0.0             22277.0  36.718185  13.973288  17.0  25.0  34.0  46.0  90.0   \n",
       "1.0              7027.0  44.260424  10.558968  19.0  36.0  44.0  51.0  90.0   \n",
       "\n",
       "               education_yrs              ...    hrs_per_week       person_id  \\\n",
       "                       count       mean   ...             75%   max     count   \n",
       "Purchased_X918                            ...                                   \n",
       "0.0                  22277.0   9.597208   ...            40.0  99.0   22277.0   \n",
       "1.0                   7027.0  11.613775   ...            50.0  99.0    7027.0   \n",
       "\n",
       "                                                                          \\\n",
       "                        mean          std  min     25%      50%      75%   \n",
       "Purchased_X918                                                             \n",
       "0.0             16260.500830  9375.103925  2.0  8135.0  16273.0  24383.0   \n",
       "1.0             16370.717234  9456.577114  8.0  8226.5  16419.0  24511.5   \n",
       "\n",
       "                         \n",
       "                    max  \n",
       "Purchased_X918           \n",
       "0.0             32560.0  \n",
       "1.0             32561.0  \n",
       "\n",
       "[2 rows x 32 columns]"
      ]
     },
     "execution_count": 272,
     "metadata": {},
     "output_type": "execute_result"
    }
   ],
   "source": [
    "# break down by age, education year, hourrs per week\n",
    "df.groupby('Purchased_X918').describe()"
   ]
  },
  {
   "cell_type": "code",
   "execution_count": 273,
   "metadata": {
    "collapsed": false
   },
   "outputs": [
    {
     "data": {
      "text/plain": [
       "Purchased_X918  race              \n",
       "0.0             White                 0.838174\n",
       "                Black                 0.109710\n",
       "                Asian-Pac-Islander    0.030884\n",
       "                Amer-Indian-Eskimo    0.011402\n",
       "                Other                 0.009831\n",
       "1.0             White                 0.905792\n",
       "                Black                 0.050519\n",
       "                Asian-Pac-Islander    0.035719\n",
       "                Amer-Indian-Eskimo    0.004554\n",
       "                Other                 0.003415\n",
       "Name: race, dtype: float64"
      ]
     },
     "execution_count": 273,
     "metadata": {},
     "output_type": "execute_result"
    }
   ],
   "source": [
    "df.groupby(['Purchased_X918'])['race'].value_counts(normalize='True')"
   ]
  },
  {
   "cell_type": "code",
   "execution_count": 274,
   "metadata": {
    "collapsed": false
   },
   "outputs": [
    {
     "data": {
      "text/plain": [
       "Purchased_X918  gender\n",
       "0.0             Male      0.613907\n",
       "                Female    0.386093\n",
       "1.0             Male      0.849865\n",
       "                Female    0.150135\n",
       "Name: gender, dtype: float64"
      ]
     },
     "execution_count": 274,
     "metadata": {},
     "output_type": "execute_result"
    }
   ],
   "source": [
    "df.groupby(['Purchased_X918'])['gender'].value_counts(normalize='True')"
   ]
  },
  {
   "cell_type": "code",
   "execution_count": 275,
   "metadata": {
    "collapsed": false
   },
   "outputs": [
    {
     "data": {
      "text/plain": [
       "Purchased_X918  occupation       \n",
       "1.0             Exec-managerial      0.255688\n",
       "                Prof-specialty       0.243874\n",
       "                Sales                0.128209\n",
       "                Craft-repair         0.120333\n",
       "                Adm-clerical         0.066365\n",
       "                Transport-moving     0.043028\n",
       "                Tech-support         0.037631\n",
       "                Machine-op-inspct    0.032818\n",
       "                Protective-serv      0.028005\n",
       "                Other-service        0.017065\n",
       "                Farming-fishing      0.015023\n",
       "                Handlers-cleaners    0.011669\n",
       "                Armed-Forces         0.000146\n",
       "                Priv-house-serv      0.000146\n",
       "Name: occupation, dtype: float64"
      ]
     },
     "execution_count": 275,
     "metadata": {},
     "output_type": "execute_result"
    }
   ],
   "source": [
    "df[df['Purchased_X918']==1].groupby('Purchased_X918')['occupation'].value_counts(normalize='True')"
   ]
  },
  {
   "cell_type": "markdown",
   "metadata": {},
   "source": [
    "## 3. Building the Model\n",
    "Our original goal was to classify customers into groups in order to predict potential customers in future periods. We are building two models: Decision trees and Random Forest with `Purchased_X918` as target variable. Our first step is to choose the variables that will be used for classification"
   ]
  },
  {
   "cell_type": "code",
   "execution_count": 276,
   "metadata": {
    "collapsed": false
   },
   "outputs": [],
   "source": [
    "model_variables = ['Purchased_X918','age','work_class','education','education_yrs','marital_status', 'occupation','relationship','race','gender','hrs_per_week','native_country']\n",
    "df_relevant = df[model_variables]"
   ]
  },
  {
   "cell_type": "markdown",
   "metadata": {},
   "source": [
    "Normally we don't need to encode categorical variables for decision trees or random forest; however, scikit learn do need to enforce this rule. "
   ]
  },
  {
   "cell_type": "code",
   "execution_count": 277,
   "metadata": {
    "collapsed": false
   },
   "outputs": [],
   "source": [
    "df_relevant_encoded = pd.get_dummies(df_relevant)"
   ]
  },
  {
   "cell_type": "markdown",
   "metadata": {},
   "source": [
    "New data set after one hot encoding"
   ]
  },
  {
   "cell_type": "code",
   "execution_count": 278,
   "metadata": {
    "collapsed": false
   },
   "outputs": [
    {
     "data": {
      "text/html": [
       "<div>\n",
       "<style>\n",
       "    .dataframe thead tr:only-child th {\n",
       "        text-align: right;\n",
       "    }\n",
       "\n",
       "    .dataframe thead th {\n",
       "        text-align: left;\n",
       "    }\n",
       "\n",
       "    .dataframe tbody tr th {\n",
       "        vertical-align: top;\n",
       "    }\n",
       "</style>\n",
       "<table border=\"1\" class=\"dataframe\">\n",
       "  <thead>\n",
       "    <tr style=\"text-align: right;\">\n",
       "      <th></th>\n",
       "      <th>Purchased_X918</th>\n",
       "      <th>age</th>\n",
       "      <th>education_yrs</th>\n",
       "      <th>hrs_per_week</th>\n",
       "      <th>work_class_?</th>\n",
       "      <th>work_class_Federal-gov</th>\n",
       "      <th>work_class_Local-gov</th>\n",
       "      <th>work_class_Never-worked</th>\n",
       "      <th>work_class_Private</th>\n",
       "      <th>work_class_Self-emp-inc</th>\n",
       "      <th>...</th>\n",
       "      <th>native_country_Portugal</th>\n",
       "      <th>native_country_Puerto-Rico</th>\n",
       "      <th>native_country_Scotland</th>\n",
       "      <th>native_country_South</th>\n",
       "      <th>native_country_Taiwan</th>\n",
       "      <th>native_country_Thailand</th>\n",
       "      <th>native_country_Trinadad&amp;Tobago</th>\n",
       "      <th>native_country_United-States</th>\n",
       "      <th>native_country_Vietnam</th>\n",
       "      <th>native_country_Yugoslavia</th>\n",
       "    </tr>\n",
       "  </thead>\n",
       "  <tbody>\n",
       "    <tr>\n",
       "      <th>0</th>\n",
       "      <td>0.0</td>\n",
       "      <td>50.0</td>\n",
       "      <td>13.0</td>\n",
       "      <td>13.0</td>\n",
       "      <td>0</td>\n",
       "      <td>0</td>\n",
       "      <td>0</td>\n",
       "      <td>0</td>\n",
       "      <td>0</td>\n",
       "      <td>0</td>\n",
       "      <td>...</td>\n",
       "      <td>0</td>\n",
       "      <td>0</td>\n",
       "      <td>0</td>\n",
       "      <td>0</td>\n",
       "      <td>0</td>\n",
       "      <td>0</td>\n",
       "      <td>0</td>\n",
       "      <td>1</td>\n",
       "      <td>0</td>\n",
       "      <td>0</td>\n",
       "    </tr>\n",
       "    <tr>\n",
       "      <th>1</th>\n",
       "      <td>0.0</td>\n",
       "      <td>38.0</td>\n",
       "      <td>9.0</td>\n",
       "      <td>40.0</td>\n",
       "      <td>0</td>\n",
       "      <td>0</td>\n",
       "      <td>0</td>\n",
       "      <td>0</td>\n",
       "      <td>1</td>\n",
       "      <td>0</td>\n",
       "      <td>...</td>\n",
       "      <td>0</td>\n",
       "      <td>0</td>\n",
       "      <td>0</td>\n",
       "      <td>0</td>\n",
       "      <td>0</td>\n",
       "      <td>0</td>\n",
       "      <td>0</td>\n",
       "      <td>1</td>\n",
       "      <td>0</td>\n",
       "      <td>0</td>\n",
       "    </tr>\n",
       "    <tr>\n",
       "      <th>2</th>\n",
       "      <td>0.0</td>\n",
       "      <td>28.0</td>\n",
       "      <td>13.0</td>\n",
       "      <td>40.0</td>\n",
       "      <td>0</td>\n",
       "      <td>0</td>\n",
       "      <td>0</td>\n",
       "      <td>0</td>\n",
       "      <td>1</td>\n",
       "      <td>0</td>\n",
       "      <td>...</td>\n",
       "      <td>0</td>\n",
       "      <td>0</td>\n",
       "      <td>0</td>\n",
       "      <td>0</td>\n",
       "      <td>0</td>\n",
       "      <td>0</td>\n",
       "      <td>0</td>\n",
       "      <td>0</td>\n",
       "      <td>0</td>\n",
       "      <td>0</td>\n",
       "    </tr>\n",
       "    <tr>\n",
       "      <th>3</th>\n",
       "      <td>0.0</td>\n",
       "      <td>37.0</td>\n",
       "      <td>14.0</td>\n",
       "      <td>40.0</td>\n",
       "      <td>0</td>\n",
       "      <td>0</td>\n",
       "      <td>0</td>\n",
       "      <td>0</td>\n",
       "      <td>1</td>\n",
       "      <td>0</td>\n",
       "      <td>...</td>\n",
       "      <td>0</td>\n",
       "      <td>0</td>\n",
       "      <td>0</td>\n",
       "      <td>0</td>\n",
       "      <td>0</td>\n",
       "      <td>0</td>\n",
       "      <td>0</td>\n",
       "      <td>1</td>\n",
       "      <td>0</td>\n",
       "      <td>0</td>\n",
       "    </tr>\n",
       "    <tr>\n",
       "      <th>4</th>\n",
       "      <td>0.0</td>\n",
       "      <td>49.0</td>\n",
       "      <td>5.0</td>\n",
       "      <td>16.0</td>\n",
       "      <td>0</td>\n",
       "      <td>0</td>\n",
       "      <td>0</td>\n",
       "      <td>0</td>\n",
       "      <td>1</td>\n",
       "      <td>0</td>\n",
       "      <td>...</td>\n",
       "      <td>0</td>\n",
       "      <td>0</td>\n",
       "      <td>0</td>\n",
       "      <td>0</td>\n",
       "      <td>0</td>\n",
       "      <td>0</td>\n",
       "      <td>0</td>\n",
       "      <td>0</td>\n",
       "      <td>0</td>\n",
       "      <td>0</td>\n",
       "    </tr>\n",
       "  </tbody>\n",
       "</table>\n",
       "<p>5 rows × 106 columns</p>\n",
       "</div>"
      ],
      "text/plain": [
       "   Purchased_X918   age  education_yrs  hrs_per_week  work_class_?  \\\n",
       "0             0.0  50.0           13.0          13.0             0   \n",
       "1             0.0  38.0            9.0          40.0             0   \n",
       "2             0.0  28.0           13.0          40.0             0   \n",
       "3             0.0  37.0           14.0          40.0             0   \n",
       "4             0.0  49.0            5.0          16.0             0   \n",
       "\n",
       "   work_class_Federal-gov  work_class_Local-gov  work_class_Never-worked  \\\n",
       "0                       0                     0                        0   \n",
       "1                       0                     0                        0   \n",
       "2                       0                     0                        0   \n",
       "3                       0                     0                        0   \n",
       "4                       0                     0                        0   \n",
       "\n",
       "   work_class_Private  work_class_Self-emp-inc            ...              \\\n",
       "0                   0                        0            ...               \n",
       "1                   1                        0            ...               \n",
       "2                   1                        0            ...               \n",
       "3                   1                        0            ...               \n",
       "4                   1                        0            ...               \n",
       "\n",
       "   native_country_Portugal  native_country_Puerto-Rico  \\\n",
       "0                        0                           0   \n",
       "1                        0                           0   \n",
       "2                        0                           0   \n",
       "3                        0                           0   \n",
       "4                        0                           0   \n",
       "\n",
       "   native_country_Scotland  native_country_South  native_country_Taiwan  \\\n",
       "0                        0                     0                      0   \n",
       "1                        0                     0                      0   \n",
       "2                        0                     0                      0   \n",
       "3                        0                     0                      0   \n",
       "4                        0                     0                      0   \n",
       "\n",
       "   native_country_Thailand  native_country_Trinadad&Tobago  \\\n",
       "0                        0                               0   \n",
       "1                        0                               0   \n",
       "2                        0                               0   \n",
       "3                        0                               0   \n",
       "4                        0                               0   \n",
       "\n",
       "   native_country_United-States  native_country_Vietnam  \\\n",
       "0                             1                       0   \n",
       "1                             1                       0   \n",
       "2                             0                       0   \n",
       "3                             1                       0   \n",
       "4                             0                       0   \n",
       "\n",
       "   native_country_Yugoslavia  \n",
       "0                          0  \n",
       "1                          0  \n",
       "2                          0  \n",
       "3                          0  \n",
       "4                          0  \n",
       "\n",
       "[5 rows x 106 columns]"
      ]
     },
     "execution_count": 278,
     "metadata": {},
     "output_type": "execute_result"
    }
   ],
   "source": [
    "df_relevant_encoded.head()"
   ]
  },
  {
   "cell_type": "markdown",
   "metadata": {},
   "source": [
    "Our next step is to partition the dataset into training set and test set (about 10%)"
   ]
  },
  {
   "cell_type": "code",
   "execution_count": 279,
   "metadata": {
    "collapsed": false
   },
   "outputs": [],
   "source": [
    "training_features,test_features,training_target,test_target=train_test_split(df_relevant_encoded.drop('Purchased_X918',axis=1),df_relevant_encoded['Purchased_X918'],test_size=0.1, random_state=12)"
   ]
  },
  {
   "cell_type": "markdown",
   "metadata": {},
   "source": [
    "Since we have an unbalanced dataset (76.02% not purchased vs. 23.98% purchased), we want to oversample the Purchased group in order to create a balanced sample between Purchased and Not Purchased in order to reduce the bias in our model."
   ]
  },
  {
   "cell_type": "code",
   "execution_count": 280,
   "metadata": {
    "collapsed": false
   },
   "outputs": [],
   "source": [
    "x_train,x_val,y_train,y_val=train_test_split(training_features, training_target,test_size=.1, random_state=12)"
   ]
  },
  {
   "cell_type": "markdown",
   "metadata": {},
   "source": [
    "We then upsample using SMOTE algorithm (synthetic minority oversampling technique). SMOTE uses k-nearest neighbor technique to find minority class observation and randomly choosing neighbors but randomly tweak to create new observation."
   ]
  },
  {
   "cell_type": "code",
   "execution_count": 281,
   "metadata": {
    "collapsed": false
   },
   "outputs": [
    {
     "name": "stderr",
     "output_type": "stream",
     "text": [
      "C:\\Users\\namhpham\\AppData\\Local\\Continuum\\Anaconda3\\lib\\site-packages\\sklearn\\utils\\deprecation.py:75: DeprecationWarning: Function _ratio_float is deprecated; Use a float for 'ratio' is deprecated from version 0.2. The support will be removed in 0.4. Use a dict, str, or a callable instead.\n",
      "  warnings.warn(msg, category=DeprecationWarning)\n"
     ]
    }
   ],
   "source": [
    "sm = SMOTE(random_state=12, ratio = 1.0)\n",
    "x_train_res, y_train_res = sm.fit_sample(x_train,y_train)"
   ]
  },
  {
   "cell_type": "markdown",
   "metadata": {},
   "source": [
    "### 3.1. Decision Tree model"
   ]
  },
  {
   "cell_type": "code",
   "execution_count": 282,
   "metadata": {
    "collapsed": true
   },
   "outputs": [],
   "source": [
    "clf_dt=tree.DecisionTreeClassifier()"
   ]
  },
  {
   "cell_type": "code",
   "execution_count": 283,
   "metadata": {
    "collapsed": false
   },
   "outputs": [],
   "source": [
    "clf_dt=clf_dt.fit(x_train_res,y_train_res) "
   ]
  },
  {
   "cell_type": "code",
   "execution_count": 284,
   "metadata": {
    "collapsed": false
   },
   "outputs": [
    {
     "name": "stdout",
     "output_type": "stream",
     "text": [
      "Decision Tree Validation Result\n",
      "0.797573919636\n",
      "0.535825545171\n"
     ]
    }
   ],
   "source": [
    "print ('Decision Tree Validation Result')\n",
    "print (clf_dt.score(x_val,y_val))\n",
    "print (recall_score(y_val,clf_dt.predict(x_val)))"
   ]
  },
  {
   "cell_type": "code",
   "execution_count": 285,
   "metadata": {
    "collapsed": false
   },
   "outputs": [
    {
     "name": "stdout",
     "output_type": "stream",
     "text": [
      "Decision Tree Test Result\n",
      "0.773797338792\n",
      "0.532670454545\n"
     ]
    }
   ],
   "source": [
    "print ('Decision Tree Test Result')\n",
    "print (clf_dt.score(test_features, test_target))\n",
    "print (recall_score(test_target,clf_rf.predict(test_features)))"
   ]
  },
  {
   "cell_type": "markdown",
   "metadata": {},
   "source": [
    "The results from Validation set and test set do not differ too much from each other, which indicates the tree is generalizable. "
   ]
  },
  {
   "cell_type": "markdown",
   "metadata": {},
   "source": [
    "### 3.2. Random Forest model"
   ]
  },
  {
   "cell_type": "code",
   "execution_count": 286,
   "metadata": {
    "collapsed": false
   },
   "outputs": [],
   "source": [
    "clf_rf=RandomForestClassifier(n_estimators=25,random_state=12)"
   ]
  },
  {
   "cell_type": "code",
   "execution_count": 287,
   "metadata": {
    "collapsed": false
   },
   "outputs": [
    {
     "data": {
      "text/plain": [
       "RandomForestClassifier(bootstrap=True, class_weight=None, criterion='gini',\n",
       "            max_depth=None, max_features='auto', max_leaf_nodes=None,\n",
       "            min_impurity_decrease=0.0, min_impurity_split=None,\n",
       "            min_samples_leaf=1, min_samples_split=2,\n",
       "            min_weight_fraction_leaf=0.0, n_estimators=25, n_jobs=1,\n",
       "            oob_score=False, random_state=12, verbose=0, warm_start=False)"
      ]
     },
     "execution_count": 287,
     "metadata": {},
     "output_type": "execute_result"
    }
   ],
   "source": [
    "clf_rf.fit(x_train_res,y_train_res)"
   ]
  },
  {
   "cell_type": "code",
   "execution_count": 288,
   "metadata": {
    "collapsed": false
   },
   "outputs": [
    {
     "name": "stdout",
     "output_type": "stream",
     "text": [
      "Random Forest Validation result\n",
      "0.826004548901\n",
      "0.580996884735\n"
     ]
    }
   ],
   "source": [
    "print ('Random Forest Validation result')\n",
    "print (clf_rf.score(x_val,y_val))\n",
    "print (recall_score(y_val,clf_rf.predict(x_val)))"
   ]
  },
  {
   "cell_type": "code",
   "execution_count": 289,
   "metadata": {
    "collapsed": false
   },
   "outputs": [
    {
     "name": "stdout",
     "output_type": "stream",
     "text": [
      "Random Forest Test result\n",
      "0.805527123849\n",
      "0.532670454545\n"
     ]
    }
   ],
   "source": [
    "print ('Random Forest Test result')\n",
    "print (clf_rf.score(test_features,test_target))\n",
    "print (recall_score(test_target,clf_rf.predict(test_features)))"
   ]
  },
  {
   "cell_type": "markdown",
   "metadata": {},
   "source": [
    "The result also indicates that model does not have the issue of overfitting."
   ]
  },
  {
   "cell_type": "markdown",
   "metadata": {},
   "source": [
    "## 4. Model evaluation and Implications\n",
    "\n",
    "Random forest provides a better performance: the accuracy and recall score on the test set are both higher than those on the test set predicted by decision tree model. Accuracy rate is 80.9% and Recall is 54.7% on the test set. As a result, Random Forest performs better in both recognizing Purchase cases and Not Purchase cases. \n",
    "\n",
    "With the higher predictive rate, company can leverage this information in order to apply on its potential group of customers who are likely to buy its product in the future. If they can collect data of customers with attributes similar to the given dataset, the company can confidently identify the groups of customers who are more interested in its product and use marketing channels appropriately. "
   ]
  },
  {
   "cell_type": "markdown",
   "metadata": {},
   "source": [
    "#### References\n",
    "[The Right Way to Oversample in Predictive Modeling](https://beckernick.github.io/oversampling-modeling/)"
   ]
  }
 ],
 "metadata": {
  "kernelspec": {
   "display_name": "Python 3",
   "language": "python",
   "name": "python3"
  },
  "language_info": {
   "codemirror_mode": {
    "name": "ipython",
    "version": 3
   },
   "file_extension": ".py",
   "mimetype": "text/x-python",
   "name": "python",
   "nbconvert_exporter": "python",
   "pygments_lexer": "ipython3",
   "version": "3.6.0"
  }
 },
 "nbformat": 4,
 "nbformat_minor": 2
}
