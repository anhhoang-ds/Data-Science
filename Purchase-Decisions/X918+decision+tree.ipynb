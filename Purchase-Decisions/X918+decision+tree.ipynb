{
 "cells": [
  {
   "cell_type": "code",
   "execution_count": 1,
   "metadata": {
    "collapsed": true
   },
   "outputs": [],
   "source": [
    "import pandas as pd\n",
    "import numpy as np\n",
    "#from sklearn.datasets import load_breast_cancer\n",
    "import matplotlib.pyplot as plt\n",
    "%matplotlib inline"
   ]
  },
  {
   "cell_type": "code",
   "execution_count": 10,
   "metadata": {
    "collapsed": false
   },
   "outputs": [
    {
     "data": {
      "text/plain": [
       "(29304, 13)"
      ]
     },
     "execution_count": 10,
     "metadata": {},
     "output_type": "execute_result"
    }
   ],
   "source": [
    "train=pd.read_sas(\"C:/Users/namhpham/Documents/Personal files/R workspace/x918_training_data.sas7bdat\")\n",
    "train.shape"
   ]
  },
  {
   "cell_type": "code",
   "execution_count": 12,
   "metadata": {
    "collapsed": false
   },
   "outputs": [
    {
     "data": {
      "text/html": [
       "<div>\n",
       "<table border=\"1\" class=\"dataframe\">\n",
       "  <thead>\n",
       "    <tr style=\"text-align: right;\">\n",
       "      <th></th>\n",
       "      <th>person_id</th>\n",
       "      <th>Purchased_X918</th>\n",
       "      <th>age</th>\n",
       "      <th>work_class</th>\n",
       "      <th>education</th>\n",
       "      <th>education_yrs</th>\n",
       "      <th>marital_status</th>\n",
       "      <th>occupation</th>\n",
       "      <th>relationship</th>\n",
       "      <th>race</th>\n",
       "      <th>gender</th>\n",
       "      <th>hrs_per_week</th>\n",
       "      <th>native_country</th>\n",
       "    </tr>\n",
       "  </thead>\n",
       "  <tbody>\n",
       "    <tr>\n",
       "      <th>0</th>\n",
       "      <td>2.0</td>\n",
       "      <td>b'No'</td>\n",
       "      <td>50.0</td>\n",
       "      <td>b'Self-emp-not-inc'</td>\n",
       "      <td>b'Bachelors'</td>\n",
       "      <td>13.0</td>\n",
       "      <td>b'Married-civ-spouse'</td>\n",
       "      <td>b'Exec-managerial'</td>\n",
       "      <td>b'Husband'</td>\n",
       "      <td>b'White'</td>\n",
       "      <td>b'Male'</td>\n",
       "      <td>13.0</td>\n",
       "      <td>b'United-States'</td>\n",
       "    </tr>\n",
       "    <tr>\n",
       "      <th>1</th>\n",
       "      <td>3.0</td>\n",
       "      <td>b'No'</td>\n",
       "      <td>38.0</td>\n",
       "      <td>b'Private'</td>\n",
       "      <td>b'HS-grad'</td>\n",
       "      <td>9.0</td>\n",
       "      <td>b'Divorced'</td>\n",
       "      <td>b'Handlers-cleaners'</td>\n",
       "      <td>b'Not-in-family'</td>\n",
       "      <td>b'White'</td>\n",
       "      <td>b'Male'</td>\n",
       "      <td>40.0</td>\n",
       "      <td>b'United-States'</td>\n",
       "    </tr>\n",
       "    <tr>\n",
       "      <th>2</th>\n",
       "      <td>5.0</td>\n",
       "      <td>b'No'</td>\n",
       "      <td>28.0</td>\n",
       "      <td>b'Private'</td>\n",
       "      <td>b'Bachelors'</td>\n",
       "      <td>13.0</td>\n",
       "      <td>b'Married-civ-spouse'</td>\n",
       "      <td>b'Prof-specialty'</td>\n",
       "      <td>b'Wife'</td>\n",
       "      <td>b'Black'</td>\n",
       "      <td>b'Female'</td>\n",
       "      <td>40.0</td>\n",
       "      <td>b'Cuba'</td>\n",
       "    </tr>\n",
       "    <tr>\n",
       "      <th>3</th>\n",
       "      <td>6.0</td>\n",
       "      <td>b'No'</td>\n",
       "      <td>37.0</td>\n",
       "      <td>b'Private'</td>\n",
       "      <td>b'Masters'</td>\n",
       "      <td>14.0</td>\n",
       "      <td>b'Married-civ-spouse'</td>\n",
       "      <td>b'Exec-managerial'</td>\n",
       "      <td>b'Wife'</td>\n",
       "      <td>b'White'</td>\n",
       "      <td>b'Female'</td>\n",
       "      <td>40.0</td>\n",
       "      <td>b'United-States'</td>\n",
       "    </tr>\n",
       "    <tr>\n",
       "      <th>4</th>\n",
       "      <td>7.0</td>\n",
       "      <td>b'No'</td>\n",
       "      <td>49.0</td>\n",
       "      <td>b'Private'</td>\n",
       "      <td>b'9th'</td>\n",
       "      <td>5.0</td>\n",
       "      <td>b'Married-spouse-absent'</td>\n",
       "      <td>b'Other-service'</td>\n",
       "      <td>b'Not-in-family'</td>\n",
       "      <td>b'Black'</td>\n",
       "      <td>b'Female'</td>\n",
       "      <td>16.0</td>\n",
       "      <td>b'Jamaica'</td>\n",
       "    </tr>\n",
       "  </tbody>\n",
       "</table>\n",
       "</div>"
      ],
      "text/plain": [
       "   person_id Purchased_X918   age           work_class     education  \\\n",
       "0        2.0          b'No'  50.0  b'Self-emp-not-inc'  b'Bachelors'   \n",
       "1        3.0          b'No'  38.0           b'Private'    b'HS-grad'   \n",
       "2        5.0          b'No'  28.0           b'Private'  b'Bachelors'   \n",
       "3        6.0          b'No'  37.0           b'Private'    b'Masters'   \n",
       "4        7.0          b'No'  49.0           b'Private'        b'9th'   \n",
       "\n",
       "   education_yrs            marital_status            occupation  \\\n",
       "0           13.0     b'Married-civ-spouse'    b'Exec-managerial'   \n",
       "1            9.0               b'Divorced'  b'Handlers-cleaners'   \n",
       "2           13.0     b'Married-civ-spouse'     b'Prof-specialty'   \n",
       "3           14.0     b'Married-civ-spouse'    b'Exec-managerial'   \n",
       "4            5.0  b'Married-spouse-absent'      b'Other-service'   \n",
       "\n",
       "       relationship      race     gender  hrs_per_week    native_country  \n",
       "0        b'Husband'  b'White'    b'Male'          13.0  b'United-States'  \n",
       "1  b'Not-in-family'  b'White'    b'Male'          40.0  b'United-States'  \n",
       "2           b'Wife'  b'Black'  b'Female'          40.0           b'Cuba'  \n",
       "3           b'Wife'  b'White'  b'Female'          40.0  b'United-States'  \n",
       "4  b'Not-in-family'  b'Black'  b'Female'          16.0        b'Jamaica'  "
      ]
     },
     "execution_count": 12,
     "metadata": {},
     "output_type": "execute_result"
    }
   ],
   "source": [
    "train.head()"
   ]
  },
  {
   "cell_type": "code",
   "execution_count": 40,
   "metadata": {
    "collapsed": false
   },
   "outputs": [
    {
     "data": {
      "text/plain": [
       "person_id         0\n",
       "Purchased_X918    0\n",
       "age               0\n",
       "work_class        0\n",
       "education         0\n",
       "education_yrs     0\n",
       "marital_status    0\n",
       "occupation        0\n",
       "relationship      0\n",
       "race              0\n",
       "gender            0\n",
       "hrs_per_week      0\n",
       "native_country    0\n",
       "dtype: int64"
      ]
     },
     "execution_count": 40,
     "metadata": {},
     "output_type": "execute_result"
    }
   ],
   "source": [
    "# Find out how many data is missing -> need to rerun\n",
    "train.isnull().sum()"
   ]
  },
  {
   "cell_type": "code",
   "execution_count": 22,
   "metadata": {
    "collapsed": false
   },
   "outputs": [
    {
     "data": {
      "text/plain": [
       "b'No'     0.760203\n",
       "b'Yes'    0.239797\n",
       "Name: Purchased_X918, dtype: float64"
      ]
     },
     "execution_count": 22,
     "metadata": {},
     "output_type": "execute_result"
    }
   ],
   "source": [
    "# Over the last year, only about 24% of customers bought the product\n",
    "purchase_count=train['Purchased_X918'].value_counts(normalize='True')\n",
    "purchase_count"
   ]
  },
  {
   "cell_type": "code",
   "execution_count": 87,
   "metadata": {
    "collapsed": false
   },
   "outputs": [
    {
     "data": {
      "text/html": [
       "<div>\n",
       "<table border=\"1\" class=\"dataframe\">\n",
       "  <thead>\n",
       "    <tr style=\"text-align: right;\">\n",
       "      <th></th>\n",
       "      <th></th>\n",
       "      <th>age</th>\n",
       "      <th>education_yrs</th>\n",
       "      <th>hrs_per_week</th>\n",
       "      <th>person_id</th>\n",
       "    </tr>\n",
       "    <tr>\n",
       "      <th>Purchased_X918</th>\n",
       "      <th></th>\n",
       "      <th></th>\n",
       "      <th></th>\n",
       "      <th></th>\n",
       "      <th></th>\n",
       "    </tr>\n",
       "  </thead>\n",
       "  <tbody>\n",
       "    <tr>\n",
       "      <th rowspan=\"8\" valign=\"top\">b'No'</th>\n",
       "      <th>count</th>\n",
       "      <td>22277.000000</td>\n",
       "      <td>22277.000000</td>\n",
       "      <td>22277.000000</td>\n",
       "      <td>22277.000000</td>\n",
       "    </tr>\n",
       "    <tr>\n",
       "      <th>mean</th>\n",
       "      <td>36.718185</td>\n",
       "      <td>9.597208</td>\n",
       "      <td>38.828837</td>\n",
       "      <td>16260.500830</td>\n",
       "    </tr>\n",
       "    <tr>\n",
       "      <th>std</th>\n",
       "      <td>13.973288</td>\n",
       "      <td>2.437666</td>\n",
       "      <td>12.310230</td>\n",
       "      <td>9375.103925</td>\n",
       "    </tr>\n",
       "    <tr>\n",
       "      <th>min</th>\n",
       "      <td>17.000000</td>\n",
       "      <td>1.000000</td>\n",
       "      <td>1.000000</td>\n",
       "      <td>2.000000</td>\n",
       "    </tr>\n",
       "    <tr>\n",
       "      <th>25%</th>\n",
       "      <td>25.000000</td>\n",
       "      <td>9.000000</td>\n",
       "      <td>35.000000</td>\n",
       "      <td>8135.000000</td>\n",
       "    </tr>\n",
       "    <tr>\n",
       "      <th>50%</th>\n",
       "      <td>34.000000</td>\n",
       "      <td>9.000000</td>\n",
       "      <td>40.000000</td>\n",
       "      <td>16273.000000</td>\n",
       "    </tr>\n",
       "    <tr>\n",
       "      <th>75%</th>\n",
       "      <td>46.000000</td>\n",
       "      <td>10.000000</td>\n",
       "      <td>40.000000</td>\n",
       "      <td>24383.000000</td>\n",
       "    </tr>\n",
       "    <tr>\n",
       "      <th>max</th>\n",
       "      <td>90.000000</td>\n",
       "      <td>16.000000</td>\n",
       "      <td>99.000000</td>\n",
       "      <td>32560.000000</td>\n",
       "    </tr>\n",
       "    <tr>\n",
       "      <th rowspan=\"8\" valign=\"top\">b'Yes'</th>\n",
       "      <th>count</th>\n",
       "      <td>7027.000000</td>\n",
       "      <td>7027.000000</td>\n",
       "      <td>7027.000000</td>\n",
       "      <td>7027.000000</td>\n",
       "    </tr>\n",
       "    <tr>\n",
       "      <th>mean</th>\n",
       "      <td>44.260424</td>\n",
       "      <td>11.613775</td>\n",
       "      <td>45.496798</td>\n",
       "      <td>16370.717234</td>\n",
       "    </tr>\n",
       "    <tr>\n",
       "      <th>std</th>\n",
       "      <td>10.558968</td>\n",
       "      <td>2.390493</td>\n",
       "      <td>10.985983</td>\n",
       "      <td>9456.577114</td>\n",
       "    </tr>\n",
       "    <tr>\n",
       "      <th>min</th>\n",
       "      <td>19.000000</td>\n",
       "      <td>2.000000</td>\n",
       "      <td>1.000000</td>\n",
       "      <td>8.000000</td>\n",
       "    </tr>\n",
       "    <tr>\n",
       "      <th>25%</th>\n",
       "      <td>36.000000</td>\n",
       "      <td>10.000000</td>\n",
       "      <td>40.000000</td>\n",
       "      <td>8226.500000</td>\n",
       "    </tr>\n",
       "    <tr>\n",
       "      <th>50%</th>\n",
       "      <td>44.000000</td>\n",
       "      <td>12.000000</td>\n",
       "      <td>40.000000</td>\n",
       "      <td>16419.000000</td>\n",
       "    </tr>\n",
       "    <tr>\n",
       "      <th>75%</th>\n",
       "      <td>51.000000</td>\n",
       "      <td>13.000000</td>\n",
       "      <td>50.000000</td>\n",
       "      <td>24511.500000</td>\n",
       "    </tr>\n",
       "    <tr>\n",
       "      <th>max</th>\n",
       "      <td>90.000000</td>\n",
       "      <td>16.000000</td>\n",
       "      <td>99.000000</td>\n",
       "      <td>32561.000000</td>\n",
       "    </tr>\n",
       "  </tbody>\n",
       "</table>\n",
       "</div>"
      ],
      "text/plain": [
       "                               age  education_yrs  hrs_per_week     person_id\n",
       "Purchased_X918                                                               \n",
       "b'No'          count  22277.000000   22277.000000  22277.000000  22277.000000\n",
       "               mean      36.718185       9.597208     38.828837  16260.500830\n",
       "               std       13.973288       2.437666     12.310230   9375.103925\n",
       "               min       17.000000       1.000000      1.000000      2.000000\n",
       "               25%       25.000000       9.000000     35.000000   8135.000000\n",
       "               50%       34.000000       9.000000     40.000000  16273.000000\n",
       "               75%       46.000000      10.000000     40.000000  24383.000000\n",
       "               max       90.000000      16.000000     99.000000  32560.000000\n",
       "b'Yes'         count   7027.000000    7027.000000   7027.000000   7027.000000\n",
       "               mean      44.260424      11.613775     45.496798  16370.717234\n",
       "               std       10.558968       2.390493     10.985983   9456.577114\n",
       "               min       19.000000       2.000000      1.000000      8.000000\n",
       "               25%       36.000000      10.000000     40.000000   8226.500000\n",
       "               50%       44.000000      12.000000     40.000000  16419.000000\n",
       "               75%       51.000000      13.000000     50.000000  24511.500000\n",
       "               max       90.000000      16.000000     99.000000  32561.000000"
      ]
     },
     "execution_count": 87,
     "metadata": {},
     "output_type": "execute_result"
    }
   ],
   "source": [
    "# P\n",
    "train.groupby('Purchased_X918').describe()"
   ]
  },
  {
   "cell_type": "code",
   "execution_count": 65,
   "metadata": {
    "collapsed": false
   },
   "outputs": [
    {
     "data": {
      "text/plain": [
       "b'HS-grad'         0.322379\n",
       "b'Some-college'    0.223792\n",
       "b'Bachelors'       0.163868\n",
       "b'Masters'         0.053645\n",
       "b'Assoc-voc'       0.042383\n",
       "b'11th'            0.036377\n",
       "b'Assoc-acdm'      0.032589\n",
       "b'10th'            0.028802\n",
       "b'7th-8th'         0.019724\n",
       "b'Prof-school'     0.017404\n",
       "b'9th'             0.015868\n",
       "b'12th'            0.013241\n",
       "b'Doctorate'       0.012968\n",
       "b'5th-6th'         0.010272\n",
       "b'1st-4th'         0.005187\n",
       "b'Preschool'       0.001502\n",
       "Name: education, dtype: float64"
      ]
     },
     "execution_count": 65,
     "metadata": {},
     "output_type": "execute_result"
    }
   ],
   "source": [
    "train['education'].value_counts(normalize='True')"
   ]
  },
  {
   "cell_type": "code",
   "execution_count": 72,
   "metadata": {
    "collapsed": false
   },
   "outputs": [
    {
     "data": {
      "text/plain": [
       "Purchased_X918  race                 \n",
       "b'No'           b'White'                 0.838174\n",
       "                b'Black'                 0.109710\n",
       "                b'Asian-Pac-Islander'    0.030884\n",
       "                b'Amer-Indian-Eskimo'    0.011402\n",
       "                b'Other'                 0.009831\n",
       "b'Yes'          b'White'                 0.905792\n",
       "                b'Black'                 0.050519\n",
       "                b'Asian-Pac-Islander'    0.035719\n",
       "                b'Amer-Indian-Eskimo'    0.004554\n",
       "                b'Other'                 0.003415\n",
       "Name: race, dtype: float64"
      ]
     },
     "execution_count": 72,
     "metadata": {},
     "output_type": "execute_result"
    }
   ],
   "source": [
    "train.groupby(['Purchased_X918'])['race'].value_counts(normalize='True')"
   ]
  },
  {
   "cell_type": "code",
   "execution_count": 84,
   "metadata": {
    "collapsed": false
   },
   "outputs": [
    {
     "data": {
      "text/plain": [
       "Purchased_X918  occupation          \n",
       "b'Yes'          b'Exec-managerial'      0.249466\n",
       "                b'Prof-specialty'       0.237939\n",
       "                b'Sales'                0.125089\n",
       "                b'Craft-repair'         0.117404\n",
       "                b'Adm-clerical'         0.064750\n",
       "                b'Transport-moving'     0.041981\n",
       "                b'Tech-support'         0.036716\n",
       "                b'Machine-op-inspct'    0.032019\n",
       "                b'Protective-serv'      0.027323\n",
       "                b'?'                    0.024335\n",
       "                b'Other-service'        0.016650\n",
       "                b'Farming-fishing'      0.014658\n",
       "                b'Handlers-cleaners'    0.011385\n",
       "                b'Armed-Forces'         0.000142\n",
       "                b'Priv-house-serv'      0.000142\n",
       "Name: occupation, dtype: float64"
      ]
     },
     "execution_count": 84,
     "metadata": {},
     "output_type": "execute_result"
    }
   ],
   "source": [
    "train[train['Purchased_X918']==b'Yes'].groupby('Purchased_X918')['occupation'].value_counts(normalize='True')\n"
   ]
  },
  {
   "cell_type": "code",
   "execution_count": null,
   "metadata": {
    "collapsed": true
   },
   "outputs": [],
   "source": [
    "# Building model\n",
    "## Partition Dataset\n",
    "## Decision Tree\n",
    "## Evaluate"
   ]
  }
 ],
 "metadata": {
  "kernelspec": {
   "display_name": "Python 3",
   "language": "python",
   "name": "python3"
  },
  "language_info": {
   "codemirror_mode": {
    "name": "ipython",
    "version": 3
   },
   "file_extension": ".py",
   "mimetype": "text/x-python",
   "name": "python",
   "nbconvert_exporter": "python",
   "pygments_lexer": "ipython3",
   "version": "3.6.0"
  }
 },
 "nbformat": 4,
 "nbformat_minor": 2
}
